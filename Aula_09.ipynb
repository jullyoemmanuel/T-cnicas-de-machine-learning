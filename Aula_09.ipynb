{
  "nbformat": 4,
  "nbformat_minor": 0,
  "metadata": {
    "colab": {
      "provenance": [],
      "authorship_tag": "ABX9TyNPZuY38aThQMOl0KQz9Jk6",
      "include_colab_link": true
    },
    "kernelspec": {
      "name": "python3",
      "display_name": "Python 3"
    },
    "language_info": {
      "name": "python"
    }
  },
  "cells": [
    {
      "cell_type": "markdown",
      "metadata": {
        "id": "view-in-github",
        "colab_type": "text"
      },
      "source": [
        "<a href=\"https://colab.research.google.com/github/jullyoemmanuel/T-cnicas-de-machine-learning/blob/main/Aula_09.ipynb\" target=\"_parent\"><img src=\"https://colab.research.google.com/assets/colab-badge.svg\" alt=\"Open In Colab\"/></a>"
      ]
    },
    {
      "cell_type": "markdown",
      "source": [
        "#Aula 09"
      ],
      "metadata": {
        "id": "E6Iu0N6IveX6"
      }
    },
    {
      "cell_type": "code",
      "source": [
        "from sklearn.svm import LinearSVC"
      ],
      "metadata": {
        "id": "SPoDzbZ2PtqD"
      },
      "execution_count": 4,
      "outputs": []
    },
    {
      "cell_type": "code",
      "execution_count": 2,
      "metadata": {
        "id": "KeyXiZ9lvZuj"
      },
      "outputs": [],
      "source": [
        "#1tossindo\n",
        "#2espirrando\n",
        "#3falta de ar\n",
        "#4febre\n",
        "# 0 para não e 1 para sim\n",
        "\n",
        "gripado1 = [1,1,1,1]\n",
        "gripado2 = [0,1,0,1]\n",
        "gripado3 = [1,1,0,0]\n",
        "gripado4 = [1,1,0,1]\n",
        "\n",
        "alergico1 = [1,1,0,0]\n",
        "alergico2 = [0,1,0,0]\n",
        "alergico3 = [1,0,1,0]\n",
        "alergico4 = [0,1,1,0]"
      ]
    },
    {
      "cell_type": "code",
      "source": [
        "dados = [gripado1, gripado2 , gripado3 , gripado4, alergico1, \n",
        "         alergico2, alergico3, alergico4]\n",
        "\n",
        "#categoria 1 =  gripado; categoria 0 = alérgico\n",
        "categorias =  [1,1,1,1,0,0,0,0]"
      ],
      "metadata": {
        "id": "WzIlhLFWO9FF"
      },
      "execution_count": 3,
      "outputs": []
    },
    {
      "cell_type": "markdown",
      "source": [
        "##Rodando treino"
      ],
      "metadata": {
        "id": "kI0hUoaGQoFu"
      }
    },
    {
      "cell_type": "code",
      "source": [
        "modelo = LinearSVC()\n",
        "modelo.fit(dados, categorias)"
      ],
      "metadata": {
        "colab": {
          "base_uri": "https://localhost:8080/"
        },
        "id": "xgoMDJF-PsQT",
        "outputId": "2d5a75ba-f9ff-4c71-a4ef-61f4d01d0d07"
      },
      "execution_count": 7,
      "outputs": [
        {
          "output_type": "execute_result",
          "data": {
            "text/plain": [
              "LinearSVC()"
            ]
          },
          "metadata": {},
          "execution_count": 7
        }
      ]
    },
    {
      "cell_type": "markdown",
      "source": [
        "## Definindo dados de teste"
      ],
      "metadata": {
        "id": "_ejn6dymUfpc"
      }
    },
    {
      "cell_type": "code",
      "source": [
        "paciente1 = [0,1,0,1]\n",
        "paciente2 = [0,0,0,0]\n",
        "paciente3 = [1,1,1,1]\n",
        "paciente4 = [0,1,0,1]\n",
        "\n",
        "dados_teste = [paciente1, paciente2, paciente3, paciente4]"
      ],
      "metadata": {
        "id": "a4yuz9VOQzcU"
      },
      "execution_count": 8,
      "outputs": []
    },
    {
      "cell_type": "markdown",
      "source": [
        "##Testando"
      ],
      "metadata": {
        "id": "e5FWdpeEVZnV"
      }
    },
    {
      "cell_type": "code",
      "source": [
        "modelo.predict(dados_teste)"
      ],
      "metadata": {
        "colab": {
          "base_uri": "https://localhost:8080/"
        },
        "id": "gxFxbdTJVYsD",
        "outputId": "953b3a7d-4577-4328-80fa-4968b3496568"
      },
      "execution_count": 9,
      "outputs": [
        {
          "output_type": "execute_result",
          "data": {
            "text/plain": [
              "array([1, 0, 1, 1])"
            ]
          },
          "metadata": {},
          "execution_count": 9
        }
      ]
    },
    {
      "cell_type": "markdown",
      "source": [
        "Dado um novo paciente, vamos avaliar a possibilidade dele não estar doente"
      ],
      "metadata": {
        "id": "oCQm9vs2YAQG"
      }
    },
    {
      "cell_type": "code",
      "source": [
        "novo_paciente = [0,1,0,0]\n",
        "modelo.predict([novo_paciente])"
      ],
      "metadata": {
        "colab": {
          "base_uri": "https://localhost:8080/"
        },
        "id": "y04cjNqNVebE",
        "outputId": "2152056c-77e9-48d1-fbf0-219c0c9a97da"
      },
      "execution_count": 10,
      "outputs": [
        {
          "output_type": "execute_result",
          "data": {
            "text/plain": [
              "array([0])"
            ]
          },
          "metadata": {},
          "execution_count": 10
        }
      ]
    },
    {
      "cell_type": "code",
      "source": [
        "if (modelo.predict([novo_paciente]) == 0):\n",
        "  print('Paciente alérgico')\n",
        "\n",
        "else:\n",
        "  print('Paciente gripado')"
      ],
      "metadata": {
        "id": "EiDMru_aYoM-"
      },
      "execution_count": null,
      "outputs": []
    },
    {
      "cell_type": "markdown",
      "source": [
        "Vamos salvar a aplicação do nosso modelo sobre os dados de teste na variável predições"
      ],
      "metadata": {
        "id": "uwENtTtCZVyQ"
      }
    },
    {
      "cell_type": "code",
      "source": [
        "predicoes = modelo.predict(dados_teste)"
      ],
      "metadata": {
        "id": "dlpfKJaTZM12"
      },
      "execution_count": 13,
      "outputs": []
    },
    {
      "cell_type": "code",
      "source": [
        "exames = [1,0,1,0]"
      ],
      "metadata": {
        "id": "a7SRdSHuZyUe"
      },
      "execution_count": 11,
      "outputs": []
    },
    {
      "cell_type": "code",
      "source": [
        "predicoes == exames"
      ],
      "metadata": {
        "colab": {
          "base_uri": "https://localhost:8080/"
        },
        "id": "-lmYX1ADaPQH",
        "outputId": "66308780-ea5b-4813-bb40-344024c8ae61"
      },
      "execution_count": 14,
      "outputs": [
        {
          "output_type": "execute_result",
          "data": {
            "text/plain": [
              "array([ True,  True,  True, False])"
            ]
          },
          "metadata": {},
          "execution_count": 14
        }
      ]
    },
    {
      "cell_type": "code",
      "source": [
        "#titak de acertos do nosso modelo\n",
        "total_acertos = (predicoes == exames).sum()\n",
        "total_acertos"
      ],
      "metadata": {
        "colab": {
          "base_uri": "https://localhost:8080/"
        },
        "id": "m6sCOthhaRd2",
        "outputId": "82e5a9ac-ae89-4fea-c733-3aa445f18527"
      },
      "execution_count": 15,
      "outputs": [
        {
          "output_type": "execute_result",
          "data": {
            "text/plain": [
              "3"
            ]
          },
          "metadata": {},
          "execution_count": 15
        }
      ]
    },
    {
      "cell_type": "code",
      "source": [
        "total_predicoes = len(dados_teste)\n",
        "total_predicoes"
      ],
      "metadata": {
        "colab": {
          "base_uri": "https://localhost:8080/"
        },
        "id": "xuw8Na6dcsVf",
        "outputId": "a6257e20-4f76-46f0-e134-3e40e3a8eae1"
      },
      "execution_count": 17,
      "outputs": [
        {
          "output_type": "execute_result",
          "data": {
            "text/plain": [
              "4"
            ]
          },
          "metadata": {},
          "execution_count": 17
        }
      ]
    },
    {
      "cell_type": "code",
      "source": [
        "print('Taxas de acertos', 100*(total_acertos/total_predicoes),'%')"
      ],
      "metadata": {
        "colab": {
          "base_uri": "https://localhost:8080/"
        },
        "id": "Fm4kUaOlc_Wf",
        "outputId": "378f4d1e-df18-43ad-d586-88bd15ea8529"
      },
      "execution_count": 19,
      "outputs": [
        {
          "output_type": "stream",
          "name": "stdout",
          "text": [
            "Taxas de acertos 75.0 %\n"
          ]
        }
      ]
    },
    {
      "cell_type": "code",
      "source": [
        "#para situações mais complexas, usaremos o accuracy score\n",
        "from sklearn.metrics import accuracy_score\n",
        "\n",
        "taxa_sucesso = accuracy_score(total_acertos / total_predicoes)"
      ],
      "metadata": {
        "id": "EECpy1lGdSa_"
      },
      "execution_count": 21,
      "outputs": []
    },
    {
      "cell_type": "code",
      "source": [],
      "metadata": {
        "id": "F1KZoVo7e88C"
      },
      "execution_count": null,
      "outputs": []
    }
  ]
}