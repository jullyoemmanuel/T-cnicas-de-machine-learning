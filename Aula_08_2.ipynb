{
  "nbformat": 4,
  "nbformat_minor": 0,
  "metadata": {
    "colab": {
      "provenance": [],
      "collapsed_sections": [
        "EBatIiFUCZJl"
      ],
      "authorship_tag": "ABX9TyNEN+GJ/ybT4esgVWUFI10B",
      "include_colab_link": true
    },
    "kernelspec": {
      "name": "python3",
      "display_name": "Python 3"
    },
    "language_info": {
      "name": "python"
    }
  },
  "cells": [
    {
      "cell_type": "markdown",
      "metadata": {
        "id": "view-in-github",
        "colab_type": "text"
      },
      "source": [
        "<a href=\"https://colab.research.google.com/github/jullyoemmanuel/T-cnicas-de-machine-learning/blob/main/Aula_08_2.ipynb\" target=\"_parent\"><img src=\"https://colab.research.google.com/assets/colab-badge.svg\" alt=\"Open In Colab\"/></a>"
      ]
    },
    {
      "cell_type": "code",
      "execution_count": 64,
      "metadata": {
        "id": "Un8RP_nGs6Nz"
      },
      "outputs": [],
      "source": [
        "import numpy as np\n",
        "import pandas as pd\n",
        "import matplotlib.pyplot as plt\n",
        "plt.style.use('seaborn-talk')"
      ]
    },
    {
      "cell_type": "markdown",
      "source": [
        "##Análise inicial"
      ],
      "metadata": {
        "id": "EBatIiFUCZJl"
      }
    },
    {
      "cell_type": "code",
      "source": [
        "dados = pd.read_csv('/content/Dados-Pesquisa.csv')"
      ],
      "metadata": {
        "colab": {
          "base_uri": "https://localhost:8080/"
        },
        "id": "-U0qKsoztQ_9",
        "outputId": "482eaa90-3e83-4043-cbc5-352b2f9558bc"
      },
      "execution_count": 65,
      "outputs": [
        {
          "output_type": "stream",
          "name": "stderr",
          "text": [
            "/usr/local/lib/python3.8/dist-packages/IPython/core/interactiveshell.py:3326: DtypeWarning: Columns (21,57) have mixed types.Specify dtype option on import or set low_memory=False.\n",
            "  exec(code_obj, self.user_global_ns, self.user_ns)\n"
          ]
        }
      ]
    },
    {
      "cell_type": "code",
      "source": [
        "#imprimir cabeçalho\n",
        "dados.head()"
      ],
      "metadata": {
        "colab": {
          "base_uri": "https://localhost:8080/",
          "height": 0
        },
        "id": "0CiE8-yXtXay",
        "outputId": "4bdb188f-dc80-4937-95ca-03fc9b61c0c0"
      },
      "execution_count": 66,
      "outputs": [
        {
          "output_type": "execute_result",
          "data": {
            "text/plain": [
              "    Age  AttendedBootcamp  BootcampFinish  BootcampFullJobAfter  \\\n",
              "0  28.0               0.0             NaN                   NaN   \n",
              "1  22.0               0.0             NaN                   NaN   \n",
              "2  19.0               0.0             NaN                   NaN   \n",
              "3  26.0               0.0             NaN                   NaN   \n",
              "4  20.0               0.0             NaN                   NaN   \n",
              "\n",
              "   BootcampLoanYesNo  BootcampMonthsAgo BootcampName  BootcampPostSalary  \\\n",
              "0                NaN                NaN          NaN                 NaN   \n",
              "1                NaN                NaN          NaN                 NaN   \n",
              "2                NaN                NaN          NaN                 NaN   \n",
              "3                NaN                NaN          NaN                 NaN   \n",
              "4                NaN                NaN          NaN                 NaN   \n",
              "\n",
              "   BootcampRecommend  ChildrenNumber  ... ResourceSoloLearn  \\\n",
              "0                NaN             NaN  ...               NaN   \n",
              "1                NaN             NaN  ...               NaN   \n",
              "2                NaN             NaN  ...               NaN   \n",
              "3                NaN             NaN  ...               NaN   \n",
              "4                NaN             NaN  ...               NaN   \n",
              "\n",
              "   ResourceStackOverflow  ResourceTreehouse  ResourceUdacity  ResourceUdemy  \\\n",
              "0                    NaN                NaN              NaN            NaN   \n",
              "1                    NaN                NaN              NaN            1.0   \n",
              "2                    NaN                NaN              NaN            NaN   \n",
              "3                    NaN                NaN              NaN            NaN   \n",
              "4                    NaN                NaN              NaN            NaN   \n",
              "\n",
              "   ResourceW3Schools  ResourceYouTube  \\\n",
              "0                NaN              NaN   \n",
              "1                NaN              NaN   \n",
              "2                NaN              NaN   \n",
              "3                NaN              NaN   \n",
              "4                NaN              NaN   \n",
              "\n",
              "                              SchoolDegree              SchoolMajor  \\\n",
              "0           some college credit, no degree                      NaN   \n",
              "1           some college credit, no degree                      NaN   \n",
              "2  high school diploma or equivalent (GED)                      NaN   \n",
              "3                        bachelor's degree  Cinematography And Film   \n",
              "4           some college credit, no degree                      NaN   \n",
              "\n",
              "   StudentDebtOwe  \n",
              "0         20000.0  \n",
              "1             NaN  \n",
              "2             NaN  \n",
              "3          7000.0  \n",
              "4             NaN  \n",
              "\n",
              "[5 rows x 113 columns]"
            ],
            "text/html": [
              "\n",
              "  <div id=\"df-a0950411-30aa-49f0-a663-54b57380dce1\">\n",
              "    <div class=\"colab-df-container\">\n",
              "      <div>\n",
              "<style scoped>\n",
              "    .dataframe tbody tr th:only-of-type {\n",
              "        vertical-align: middle;\n",
              "    }\n",
              "\n",
              "    .dataframe tbody tr th {\n",
              "        vertical-align: top;\n",
              "    }\n",
              "\n",
              "    .dataframe thead th {\n",
              "        text-align: right;\n",
              "    }\n",
              "</style>\n",
              "<table border=\"1\" class=\"dataframe\">\n",
              "  <thead>\n",
              "    <tr style=\"text-align: right;\">\n",
              "      <th></th>\n",
              "      <th>Age</th>\n",
              "      <th>AttendedBootcamp</th>\n",
              "      <th>BootcampFinish</th>\n",
              "      <th>BootcampFullJobAfter</th>\n",
              "      <th>BootcampLoanYesNo</th>\n",
              "      <th>BootcampMonthsAgo</th>\n",
              "      <th>BootcampName</th>\n",
              "      <th>BootcampPostSalary</th>\n",
              "      <th>BootcampRecommend</th>\n",
              "      <th>ChildrenNumber</th>\n",
              "      <th>...</th>\n",
              "      <th>ResourceSoloLearn</th>\n",
              "      <th>ResourceStackOverflow</th>\n",
              "      <th>ResourceTreehouse</th>\n",
              "      <th>ResourceUdacity</th>\n",
              "      <th>ResourceUdemy</th>\n",
              "      <th>ResourceW3Schools</th>\n",
              "      <th>ResourceYouTube</th>\n",
              "      <th>SchoolDegree</th>\n",
              "      <th>SchoolMajor</th>\n",
              "      <th>StudentDebtOwe</th>\n",
              "    </tr>\n",
              "  </thead>\n",
              "  <tbody>\n",
              "    <tr>\n",
              "      <th>0</th>\n",
              "      <td>28.0</td>\n",
              "      <td>0.0</td>\n",
              "      <td>NaN</td>\n",
              "      <td>NaN</td>\n",
              "      <td>NaN</td>\n",
              "      <td>NaN</td>\n",
              "      <td>NaN</td>\n",
              "      <td>NaN</td>\n",
              "      <td>NaN</td>\n",
              "      <td>NaN</td>\n",
              "      <td>...</td>\n",
              "      <td>NaN</td>\n",
              "      <td>NaN</td>\n",
              "      <td>NaN</td>\n",
              "      <td>NaN</td>\n",
              "      <td>NaN</td>\n",
              "      <td>NaN</td>\n",
              "      <td>NaN</td>\n",
              "      <td>some college credit, no degree</td>\n",
              "      <td>NaN</td>\n",
              "      <td>20000.0</td>\n",
              "    </tr>\n",
              "    <tr>\n",
              "      <th>1</th>\n",
              "      <td>22.0</td>\n",
              "      <td>0.0</td>\n",
              "      <td>NaN</td>\n",
              "      <td>NaN</td>\n",
              "      <td>NaN</td>\n",
              "      <td>NaN</td>\n",
              "      <td>NaN</td>\n",
              "      <td>NaN</td>\n",
              "      <td>NaN</td>\n",
              "      <td>NaN</td>\n",
              "      <td>...</td>\n",
              "      <td>NaN</td>\n",
              "      <td>NaN</td>\n",
              "      <td>NaN</td>\n",
              "      <td>NaN</td>\n",
              "      <td>1.0</td>\n",
              "      <td>NaN</td>\n",
              "      <td>NaN</td>\n",
              "      <td>some college credit, no degree</td>\n",
              "      <td>NaN</td>\n",
              "      <td>NaN</td>\n",
              "    </tr>\n",
              "    <tr>\n",
              "      <th>2</th>\n",
              "      <td>19.0</td>\n",
              "      <td>0.0</td>\n",
              "      <td>NaN</td>\n",
              "      <td>NaN</td>\n",
              "      <td>NaN</td>\n",
              "      <td>NaN</td>\n",
              "      <td>NaN</td>\n",
              "      <td>NaN</td>\n",
              "      <td>NaN</td>\n",
              "      <td>NaN</td>\n",
              "      <td>...</td>\n",
              "      <td>NaN</td>\n",
              "      <td>NaN</td>\n",
              "      <td>NaN</td>\n",
              "      <td>NaN</td>\n",
              "      <td>NaN</td>\n",
              "      <td>NaN</td>\n",
              "      <td>NaN</td>\n",
              "      <td>high school diploma or equivalent (GED)</td>\n",
              "      <td>NaN</td>\n",
              "      <td>NaN</td>\n",
              "    </tr>\n",
              "    <tr>\n",
              "      <th>3</th>\n",
              "      <td>26.0</td>\n",
              "      <td>0.0</td>\n",
              "      <td>NaN</td>\n",
              "      <td>NaN</td>\n",
              "      <td>NaN</td>\n",
              "      <td>NaN</td>\n",
              "      <td>NaN</td>\n",
              "      <td>NaN</td>\n",
              "      <td>NaN</td>\n",
              "      <td>NaN</td>\n",
              "      <td>...</td>\n",
              "      <td>NaN</td>\n",
              "      <td>NaN</td>\n",
              "      <td>NaN</td>\n",
              "      <td>NaN</td>\n",
              "      <td>NaN</td>\n",
              "      <td>NaN</td>\n",
              "      <td>NaN</td>\n",
              "      <td>bachelor's degree</td>\n",
              "      <td>Cinematography And Film</td>\n",
              "      <td>7000.0</td>\n",
              "    </tr>\n",
              "    <tr>\n",
              "      <th>4</th>\n",
              "      <td>20.0</td>\n",
              "      <td>0.0</td>\n",
              "      <td>NaN</td>\n",
              "      <td>NaN</td>\n",
              "      <td>NaN</td>\n",
              "      <td>NaN</td>\n",
              "      <td>NaN</td>\n",
              "      <td>NaN</td>\n",
              "      <td>NaN</td>\n",
              "      <td>NaN</td>\n",
              "      <td>...</td>\n",
              "      <td>NaN</td>\n",
              "      <td>NaN</td>\n",
              "      <td>NaN</td>\n",
              "      <td>NaN</td>\n",
              "      <td>NaN</td>\n",
              "      <td>NaN</td>\n",
              "      <td>NaN</td>\n",
              "      <td>some college credit, no degree</td>\n",
              "      <td>NaN</td>\n",
              "      <td>NaN</td>\n",
              "    </tr>\n",
              "  </tbody>\n",
              "</table>\n",
              "<p>5 rows × 113 columns</p>\n",
              "</div>\n",
              "      <button class=\"colab-df-convert\" onclick=\"convertToInteractive('df-a0950411-30aa-49f0-a663-54b57380dce1')\"\n",
              "              title=\"Convert this dataframe to an interactive table.\"\n",
              "              style=\"display:none;\">\n",
              "        \n",
              "  <svg xmlns=\"http://www.w3.org/2000/svg\" height=\"24px\"viewBox=\"0 0 24 24\"\n",
              "       width=\"24px\">\n",
              "    <path d=\"M0 0h24v24H0V0z\" fill=\"none\"/>\n",
              "    <path d=\"M18.56 5.44l.94 2.06.94-2.06 2.06-.94-2.06-.94-.94-2.06-.94 2.06-2.06.94zm-11 1L8.5 8.5l.94-2.06 2.06-.94-2.06-.94L8.5 2.5l-.94 2.06-2.06.94zm10 10l.94 2.06.94-2.06 2.06-.94-2.06-.94-.94-2.06-.94 2.06-2.06.94z\"/><path d=\"M17.41 7.96l-1.37-1.37c-.4-.4-.92-.59-1.43-.59-.52 0-1.04.2-1.43.59L10.3 9.45l-7.72 7.72c-.78.78-.78 2.05 0 2.83L4 21.41c.39.39.9.59 1.41.59.51 0 1.02-.2 1.41-.59l7.78-7.78 2.81-2.81c.8-.78.8-2.07 0-2.86zM5.41 20L4 18.59l7.72-7.72 1.47 1.35L5.41 20z\"/>\n",
              "  </svg>\n",
              "      </button>\n",
              "      \n",
              "  <style>\n",
              "    .colab-df-container {\n",
              "      display:flex;\n",
              "      flex-wrap:wrap;\n",
              "      gap: 12px;\n",
              "    }\n",
              "\n",
              "    .colab-df-convert {\n",
              "      background-color: #E8F0FE;\n",
              "      border: none;\n",
              "      border-radius: 50%;\n",
              "      cursor: pointer;\n",
              "      display: none;\n",
              "      fill: #1967D2;\n",
              "      height: 32px;\n",
              "      padding: 0 0 0 0;\n",
              "      width: 32px;\n",
              "    }\n",
              "\n",
              "    .colab-df-convert:hover {\n",
              "      background-color: #E2EBFA;\n",
              "      box-shadow: 0px 1px 2px rgba(60, 64, 67, 0.3), 0px 1px 3px 1px rgba(60, 64, 67, 0.15);\n",
              "      fill: #174EA6;\n",
              "    }\n",
              "\n",
              "    [theme=dark] .colab-df-convert {\n",
              "      background-color: #3B4455;\n",
              "      fill: #D2E3FC;\n",
              "    }\n",
              "\n",
              "    [theme=dark] .colab-df-convert:hover {\n",
              "      background-color: #434B5C;\n",
              "      box-shadow: 0px 1px 3px 1px rgba(0, 0, 0, 0.15);\n",
              "      filter: drop-shadow(0px 1px 2px rgba(0, 0, 0, 0.3));\n",
              "      fill: #FFFFFF;\n",
              "    }\n",
              "  </style>\n",
              "\n",
              "      <script>\n",
              "        const buttonEl =\n",
              "          document.querySelector('#df-a0950411-30aa-49f0-a663-54b57380dce1 button.colab-df-convert');\n",
              "        buttonEl.style.display =\n",
              "          google.colab.kernel.accessAllowed ? 'block' : 'none';\n",
              "\n",
              "        async function convertToInteractive(key) {\n",
              "          const element = document.querySelector('#df-a0950411-30aa-49f0-a663-54b57380dce1');\n",
              "          const dataTable =\n",
              "            await google.colab.kernel.invokeFunction('convertToInteractive',\n",
              "                                                     [key], {});\n",
              "          if (!dataTable) return;\n",
              "\n",
              "          const docLinkHtml = 'Like what you see? Visit the ' +\n",
              "            '<a target=\"_blank\" href=https://colab.research.google.com/notebooks/data_table.ipynb>data table notebook</a>'\n",
              "            + ' to learn more about interactive tables.';\n",
              "          element.innerHTML = '';\n",
              "          dataTable['output_type'] = 'display_data';\n",
              "          await google.colab.output.renderOutput(dataTable, element);\n",
              "          const docLink = document.createElement('div');\n",
              "          docLink.innerHTML = docLinkHtml;\n",
              "          element.appendChild(docLink);\n",
              "        }\n",
              "      </script>\n",
              "    </div>\n",
              "  </div>\n",
              "  "
            ]
          },
          "metadata": {},
          "execution_count": 66
        }
      ]
    },
    {
      "cell_type": "code",
      "source": [
        "dados.shape"
      ],
      "metadata": {
        "colab": {
          "base_uri": "https://localhost:8080/"
        },
        "id": "YX3i7LBHvUjp",
        "outputId": "823a1858-dc15-48c2-b5b9-fe8f5f5ee01a"
      },
      "execution_count": 67,
      "outputs": [
        {
          "output_type": "execute_result",
          "data": {
            "text/plain": [
              "(15620, 113)"
            ]
          },
          "metadata": {},
          "execution_count": 67
        }
      ]
    },
    {
      "cell_type": "code",
      "source": [
        "dados.columns.to_list()"
      ],
      "metadata": {
        "colab": {
          "base_uri": "https://localhost:8080/"
        },
        "id": "MwbIu9PGxIAJ",
        "outputId": "c72694a8-c194-4977-de1c-627138b031dd"
      },
      "execution_count": 68,
      "outputs": [
        {
          "output_type": "execute_result",
          "data": {
            "text/plain": [
              "['Age',\n",
              " 'AttendedBootcamp',\n",
              " 'BootcampFinish',\n",
              " 'BootcampFullJobAfter',\n",
              " 'BootcampLoanYesNo',\n",
              " 'BootcampMonthsAgo',\n",
              " 'BootcampName',\n",
              " 'BootcampPostSalary',\n",
              " 'BootcampRecommend',\n",
              " 'ChildrenNumber',\n",
              " 'CityPopulation',\n",
              " 'CodeEventBootcamp',\n",
              " 'CodeEventCoffee',\n",
              " 'CodeEventConferences',\n",
              " 'CodeEventDjangoGirls',\n",
              " 'CodeEventGameJam',\n",
              " 'CodeEventGirlDev',\n",
              " 'CodeEventHackathons',\n",
              " 'CodeEventMeetup',\n",
              " 'CodeEventNodeSchool',\n",
              " 'CodeEventNone',\n",
              " 'CodeEventOther',\n",
              " 'CodeEventRailsBridge',\n",
              " 'CodeEventRailsGirls',\n",
              " 'CodeEventStartUpWknd',\n",
              " 'CodeEventWomenCode',\n",
              " 'CodeEventWorkshop',\n",
              " 'CommuteTime',\n",
              " 'CountryCitizen',\n",
              " 'CountryLive',\n",
              " 'EmploymentField',\n",
              " 'EmploymentFieldOther',\n",
              " 'EmploymentStatus',\n",
              " 'EmploymentStatusOther',\n",
              " 'ExpectedEarning',\n",
              " 'FinanciallySupporting',\n",
              " 'Gender',\n",
              " 'HasChildren',\n",
              " 'HasDebt',\n",
              " 'HasFinancialDependents',\n",
              " 'HasHighSpdInternet',\n",
              " 'HasHomeMortgage',\n",
              " 'HasServedInMilitary',\n",
              " 'HasStudentDebt',\n",
              " 'HomeMortgageOwe',\n",
              " 'HoursLearning',\n",
              " 'ID.x',\n",
              " 'ID.y',\n",
              " 'Income',\n",
              " 'IsEthnicMinority',\n",
              " 'IsReceiveDiabilitiesBenefits',\n",
              " 'IsSoftwareDev',\n",
              " 'IsUnderEmployed',\n",
              " 'JobApplyWhen',\n",
              " 'JobPref',\n",
              " 'JobRelocateYesNo',\n",
              " 'JobRoleInterest',\n",
              " 'JobRoleInterestOther',\n",
              " 'JobWherePref',\n",
              " 'LanguageAtHome',\n",
              " 'MaritalStatus',\n",
              " 'MoneyForLearning',\n",
              " 'MonthsProgramming',\n",
              " 'NetworkID',\n",
              " 'Part1EndTime',\n",
              " 'Part1StartTime',\n",
              " 'Part2EndTime',\n",
              " 'Part2StartTime',\n",
              " 'PodcastChangeLog',\n",
              " 'PodcastCodeNewbie',\n",
              " 'PodcastCodingBlocks',\n",
              " 'PodcastDeveloperTea',\n",
              " 'PodcastDotNetRocks',\n",
              " 'PodcastHanselminutes',\n",
              " 'PodcastJSJabber',\n",
              " 'PodcastJsAir',\n",
              " 'PodcastNone',\n",
              " 'PodcastOther',\n",
              " 'PodcastProgrammingThrowDown',\n",
              " 'PodcastRubyRogues',\n",
              " 'PodcastSEDaily',\n",
              " 'PodcastShopTalk',\n",
              " 'PodcastTalkPython',\n",
              " 'PodcastWebAhead',\n",
              " 'ResourceBlogs',\n",
              " 'ResourceBooks',\n",
              " 'ResourceCodeWars',\n",
              " 'ResourceCodecademy',\n",
              " 'ResourceCoursera',\n",
              " 'ResourceDevTips',\n",
              " 'ResourceEdX',\n",
              " 'ResourceEggHead',\n",
              " 'ResourceFCC',\n",
              " 'ResourceGoogle',\n",
              " 'ResourceHackerRank',\n",
              " 'ResourceKhanAcademy',\n",
              " 'ResourceLynda',\n",
              " 'ResourceMDN',\n",
              " 'ResourceOdinProj',\n",
              " 'ResourceOther',\n",
              " 'ResourcePluralSight',\n",
              " 'ResourceReddit',\n",
              " 'ResourceSkillCrush',\n",
              " 'ResourceSoloLearn',\n",
              " 'ResourceStackOverflow',\n",
              " 'ResourceTreehouse',\n",
              " 'ResourceUdacity',\n",
              " 'ResourceUdemy',\n",
              " 'ResourceW3Schools',\n",
              " 'ResourceYouTube',\n",
              " 'SchoolDegree',\n",
              " 'SchoolMajor',\n",
              " 'StudentDebtOwe']"
            ]
          },
          "metadata": {},
          "execution_count": 68
        }
      ]
    },
    {
      "cell_type": "code",
      "source": [
        "df2 = dados.copy()"
      ],
      "metadata": {
        "id": "z8CsG3xHxXfg"
      },
      "execution_count": 69,
      "outputs": []
    },
    {
      "cell_type": "code",
      "source": [
        "dados.isna().sum()"
      ],
      "metadata": {
        "colab": {
          "base_uri": "https://localhost:8080/"
        },
        "id": "4HJZ_Bw_xeGY",
        "outputId": "dd5f25b7-8759-43b7-80b2-6864b7c39dfb"
      },
      "execution_count": 70,
      "outputs": [
        {
          "output_type": "execute_result",
          "data": {
            "text/plain": [
              "Age                      2007\n",
              "AttendedBootcamp          240\n",
              "BootcampFinish          14687\n",
              "BootcampFullJobAfter    14985\n",
              "BootcampLoanYesNo       14686\n",
              "                        ...  \n",
              "ResourceW3Schools       15499\n",
              "ResourceYouTube         15499\n",
              "SchoolDegree             1941\n",
              "SchoolMajor              7170\n",
              "StudentDebtOwe          12106\n",
              "Length: 113, dtype: int64"
            ]
          },
          "metadata": {},
          "execution_count": 70
        }
      ]
    },
    {
      "cell_type": "code",
      "source": [
        "dados.isna().sum().sum()"
      ],
      "metadata": {
        "colab": {
          "base_uri": "https://localhost:8080/"
        },
        "id": "W38JOvcTx2l5",
        "outputId": "79ad4623-eac8-4f70-d883-079a611ebf4f"
      },
      "execution_count": 71,
      "outputs": [
        {
          "output_type": "execute_result",
          "data": {
            "text/plain": [
              "1183948"
            ]
          },
          "metadata": {},
          "execution_count": 71
        }
      ]
    },
    {
      "cell_type": "code",
      "source": [
        "dados.dropna(subset = ['Age'],inplace = True)"
      ],
      "metadata": {
        "id": "VF2ZHrt3x8A5"
      },
      "execution_count": 72,
      "outputs": []
    },
    {
      "cell_type": "code",
      "source": [
        "dados.isna().sum()"
      ],
      "metadata": {
        "colab": {
          "base_uri": "https://localhost:8080/"
        },
        "id": "7_m26JI3yEeB",
        "outputId": "d52a1349-5f17-4e1e-bd54-4955c6f4081b"
      },
      "execution_count": 73,
      "outputs": [
        {
          "output_type": "execute_result",
          "data": {
            "text/plain": [
              "Age                         0\n",
              "AttendedBootcamp          112\n",
              "BootcampFinish          12809\n",
              "BootcampFullJobAfter    13068\n",
              "BootcampLoanYesNo       12805\n",
              "                        ...  \n",
              "ResourceW3Schools       13508\n",
              "ResourceYouTube         13506\n",
              "SchoolDegree              113\n",
              "SchoolMajor              5265\n",
              "StudentDebtOwe          10121\n",
              "Length: 113, dtype: int64"
            ]
          },
          "metadata": {},
          "execution_count": 73
        }
      ]
    },
    {
      "cell_type": "code",
      "source": [
        "dados.isna().mean()"
      ],
      "metadata": {
        "colab": {
          "base_uri": "https://localhost:8080/"
        },
        "id": "z-eKeF0XyZgN",
        "outputId": "c6aa96eb-360d-4ad8-b03e-0e2bf735ae0a"
      },
      "execution_count": 74,
      "outputs": [
        {
          "output_type": "execute_result",
          "data": {
            "text/plain": [
              "Age                     0.000000\n",
              "AttendedBootcamp        0.008227\n",
              "BootcampFinish          0.940939\n",
              "BootcampFullJobAfter    0.959965\n",
              "BootcampLoanYesNo       0.940645\n",
              "                          ...   \n",
              "ResourceW3Schools       0.992287\n",
              "ResourceYouTube         0.992140\n",
              "SchoolDegree            0.008301\n",
              "SchoolMajor             0.386763\n",
              "StudentDebtOwe          0.743480\n",
              "Length: 113, dtype: float64"
            ]
          },
          "metadata": {},
          "execution_count": 74
        }
      ]
    },
    {
      "cell_type": "code",
      "source": [
        "print('A base de dados apresenta {} linhas e {} colunas'.format(dados.shape[0],dados.shape[1]))"
      ],
      "metadata": {
        "colab": {
          "base_uri": "https://localhost:8080/"
        },
        "id": "7XsFm4Buyqjx",
        "outputId": "d42fa465-66de-489b-944e-01bb0f7a10b3"
      },
      "execution_count": 75,
      "outputs": [
        {
          "output_type": "stream",
          "name": "stdout",
          "text": [
            "A base de dados apresenta 13613 linhas e 113 colunas\n"
          ]
        }
      ]
    },
    {
      "cell_type": "code",
      "source": [
        "dados.dtypes.value_counts()"
      ],
      "metadata": {
        "colab": {
          "base_uri": "https://localhost:8080/"
        },
        "id": "Xzyf3P2K7Mqa",
        "outputId": "e517515e-1ec1-435e-b1f2-58bb0d0a0b44"
      },
      "execution_count": 76,
      "outputs": [
        {
          "output_type": "execute_result",
          "data": {
            "text/plain": [
              "float64    85\n",
              "object     28\n",
              "dtype: int64"
            ]
          },
          "metadata": {},
          "execution_count": 76
        }
      ]
    },
    {
      "cell_type": "code",
      "source": [
        "dados = dados[['Age','Gender','JobPref','JobRoleInterest','EmploymentField','JobRelocateYesNo','HoursLearning','MoneyForLearning']]\n",
        "dados"
      ],
      "metadata": {
        "colab": {
          "base_uri": "https://localhost:8080/",
          "height": 0
        },
        "id": "drKspD7Yw8lB",
        "outputId": "3fba561f-f1b9-4f45-8d34-b3590f36c25e"
      },
      "execution_count": 77,
      "outputs": [
        {
          "output_type": "execute_result",
          "data": {
            "text/plain": [
              "        Age  Gender                          JobPref  \\\n",
              "0      28.0    male                       freelance    \n",
              "1      22.0    male               work for a startup   \n",
              "2      19.0    male          start your own business   \n",
              "3      26.0  female               work for a startup   \n",
              "4      20.0  female  work for a medium-sized company   \n",
              "...     ...     ...                              ...   \n",
              "15615  39.0    male          start your own business   \n",
              "15616  27.0    male               work for a startup   \n",
              "15617  37.0    male                       freelance    \n",
              "15618  26.0    male                              NaN   \n",
              "15619  22.0  female                       freelance    \n",
              "\n",
              "                 JobRoleInterest                        EmploymentField  \\\n",
              "0                            NaN      office and administrative support   \n",
              "1        Front-End Web Developer                      food and beverage   \n",
              "2                            NaN                                finance   \n",
              "3        Front-End Web Developer  arts, entertainment, sports, or media   \n",
              "4       Full-Stack Web Developer                              education   \n",
              "...                          ...                                    ...   \n",
              "15615                        NaN            software development and IT   \n",
              "15616    Front-End Web Developer            software development and IT   \n",
              "15617                        NaN                                    NaN   \n",
              "15618                        NaN                              education   \n",
              "15619                        NaN  arts, entertainment, sports, or media   \n",
              "\n",
              "       JobRelocateYesNo  HoursLearning  MoneyForLearning  \n",
              "0                   NaN           30.0               0.0  \n",
              "1                   1.0           30.0              20.0  \n",
              "2                   NaN           20.0              50.0  \n",
              "3                   NaN           20.0             100.0  \n",
              "4                   1.0           25.0            1300.0  \n",
              "...                 ...            ...               ...  \n",
              "15615               NaN           40.0               0.0  \n",
              "15616               1.0           15.0             100.0  \n",
              "15617               NaN           14.0               0.0  \n",
              "15618               NaN           10.0              30.0  \n",
              "15619               NaN            2.0               0.0  \n",
              "\n",
              "[13613 rows x 8 columns]"
            ],
            "text/html": [
              "\n",
              "  <div id=\"df-a0fc83f0-b7ef-4c80-a0d4-14ce334c79f0\">\n",
              "    <div class=\"colab-df-container\">\n",
              "      <div>\n",
              "<style scoped>\n",
              "    .dataframe tbody tr th:only-of-type {\n",
              "        vertical-align: middle;\n",
              "    }\n",
              "\n",
              "    .dataframe tbody tr th {\n",
              "        vertical-align: top;\n",
              "    }\n",
              "\n",
              "    .dataframe thead th {\n",
              "        text-align: right;\n",
              "    }\n",
              "</style>\n",
              "<table border=\"1\" class=\"dataframe\">\n",
              "  <thead>\n",
              "    <tr style=\"text-align: right;\">\n",
              "      <th></th>\n",
              "      <th>Age</th>\n",
              "      <th>Gender</th>\n",
              "      <th>JobPref</th>\n",
              "      <th>JobRoleInterest</th>\n",
              "      <th>EmploymentField</th>\n",
              "      <th>JobRelocateYesNo</th>\n",
              "      <th>HoursLearning</th>\n",
              "      <th>MoneyForLearning</th>\n",
              "    </tr>\n",
              "  </thead>\n",
              "  <tbody>\n",
              "    <tr>\n",
              "      <th>0</th>\n",
              "      <td>28.0</td>\n",
              "      <td>male</td>\n",
              "      <td>freelance</td>\n",
              "      <td>NaN</td>\n",
              "      <td>office and administrative support</td>\n",
              "      <td>NaN</td>\n",
              "      <td>30.0</td>\n",
              "      <td>0.0</td>\n",
              "    </tr>\n",
              "    <tr>\n",
              "      <th>1</th>\n",
              "      <td>22.0</td>\n",
              "      <td>male</td>\n",
              "      <td>work for a startup</td>\n",
              "      <td>Front-End Web Developer</td>\n",
              "      <td>food and beverage</td>\n",
              "      <td>1.0</td>\n",
              "      <td>30.0</td>\n",
              "      <td>20.0</td>\n",
              "    </tr>\n",
              "    <tr>\n",
              "      <th>2</th>\n",
              "      <td>19.0</td>\n",
              "      <td>male</td>\n",
              "      <td>start your own business</td>\n",
              "      <td>NaN</td>\n",
              "      <td>finance</td>\n",
              "      <td>NaN</td>\n",
              "      <td>20.0</td>\n",
              "      <td>50.0</td>\n",
              "    </tr>\n",
              "    <tr>\n",
              "      <th>3</th>\n",
              "      <td>26.0</td>\n",
              "      <td>female</td>\n",
              "      <td>work for a startup</td>\n",
              "      <td>Front-End Web Developer</td>\n",
              "      <td>arts, entertainment, sports, or media</td>\n",
              "      <td>NaN</td>\n",
              "      <td>20.0</td>\n",
              "      <td>100.0</td>\n",
              "    </tr>\n",
              "    <tr>\n",
              "      <th>4</th>\n",
              "      <td>20.0</td>\n",
              "      <td>female</td>\n",
              "      <td>work for a medium-sized company</td>\n",
              "      <td>Full-Stack Web Developer</td>\n",
              "      <td>education</td>\n",
              "      <td>1.0</td>\n",
              "      <td>25.0</td>\n",
              "      <td>1300.0</td>\n",
              "    </tr>\n",
              "    <tr>\n",
              "      <th>...</th>\n",
              "      <td>...</td>\n",
              "      <td>...</td>\n",
              "      <td>...</td>\n",
              "      <td>...</td>\n",
              "      <td>...</td>\n",
              "      <td>...</td>\n",
              "      <td>...</td>\n",
              "      <td>...</td>\n",
              "    </tr>\n",
              "    <tr>\n",
              "      <th>15615</th>\n",
              "      <td>39.0</td>\n",
              "      <td>male</td>\n",
              "      <td>start your own business</td>\n",
              "      <td>NaN</td>\n",
              "      <td>software development and IT</td>\n",
              "      <td>NaN</td>\n",
              "      <td>40.0</td>\n",
              "      <td>0.0</td>\n",
              "    </tr>\n",
              "    <tr>\n",
              "      <th>15616</th>\n",
              "      <td>27.0</td>\n",
              "      <td>male</td>\n",
              "      <td>work for a startup</td>\n",
              "      <td>Front-End Web Developer</td>\n",
              "      <td>software development and IT</td>\n",
              "      <td>1.0</td>\n",
              "      <td>15.0</td>\n",
              "      <td>100.0</td>\n",
              "    </tr>\n",
              "    <tr>\n",
              "      <th>15617</th>\n",
              "      <td>37.0</td>\n",
              "      <td>male</td>\n",
              "      <td>freelance</td>\n",
              "      <td>NaN</td>\n",
              "      <td>NaN</td>\n",
              "      <td>NaN</td>\n",
              "      <td>14.0</td>\n",
              "      <td>0.0</td>\n",
              "    </tr>\n",
              "    <tr>\n",
              "      <th>15618</th>\n",
              "      <td>26.0</td>\n",
              "      <td>male</td>\n",
              "      <td>NaN</td>\n",
              "      <td>NaN</td>\n",
              "      <td>education</td>\n",
              "      <td>NaN</td>\n",
              "      <td>10.0</td>\n",
              "      <td>30.0</td>\n",
              "    </tr>\n",
              "    <tr>\n",
              "      <th>15619</th>\n",
              "      <td>22.0</td>\n",
              "      <td>female</td>\n",
              "      <td>freelance</td>\n",
              "      <td>NaN</td>\n",
              "      <td>arts, entertainment, sports, or media</td>\n",
              "      <td>NaN</td>\n",
              "      <td>2.0</td>\n",
              "      <td>0.0</td>\n",
              "    </tr>\n",
              "  </tbody>\n",
              "</table>\n",
              "<p>13613 rows × 8 columns</p>\n",
              "</div>\n",
              "      <button class=\"colab-df-convert\" onclick=\"convertToInteractive('df-a0fc83f0-b7ef-4c80-a0d4-14ce334c79f0')\"\n",
              "              title=\"Convert this dataframe to an interactive table.\"\n",
              "              style=\"display:none;\">\n",
              "        \n",
              "  <svg xmlns=\"http://www.w3.org/2000/svg\" height=\"24px\"viewBox=\"0 0 24 24\"\n",
              "       width=\"24px\">\n",
              "    <path d=\"M0 0h24v24H0V0z\" fill=\"none\"/>\n",
              "    <path d=\"M18.56 5.44l.94 2.06.94-2.06 2.06-.94-2.06-.94-.94-2.06-.94 2.06-2.06.94zm-11 1L8.5 8.5l.94-2.06 2.06-.94-2.06-.94L8.5 2.5l-.94 2.06-2.06.94zm10 10l.94 2.06.94-2.06 2.06-.94-2.06-.94-.94-2.06-.94 2.06-2.06.94z\"/><path d=\"M17.41 7.96l-1.37-1.37c-.4-.4-.92-.59-1.43-.59-.52 0-1.04.2-1.43.59L10.3 9.45l-7.72 7.72c-.78.78-.78 2.05 0 2.83L4 21.41c.39.39.9.59 1.41.59.51 0 1.02-.2 1.41-.59l7.78-7.78 2.81-2.81c.8-.78.8-2.07 0-2.86zM5.41 20L4 18.59l7.72-7.72 1.47 1.35L5.41 20z\"/>\n",
              "  </svg>\n",
              "      </button>\n",
              "      \n",
              "  <style>\n",
              "    .colab-df-container {\n",
              "      display:flex;\n",
              "      flex-wrap:wrap;\n",
              "      gap: 12px;\n",
              "    }\n",
              "\n",
              "    .colab-df-convert {\n",
              "      background-color: #E8F0FE;\n",
              "      border: none;\n",
              "      border-radius: 50%;\n",
              "      cursor: pointer;\n",
              "      display: none;\n",
              "      fill: #1967D2;\n",
              "      height: 32px;\n",
              "      padding: 0 0 0 0;\n",
              "      width: 32px;\n",
              "    }\n",
              "\n",
              "    .colab-df-convert:hover {\n",
              "      background-color: #E2EBFA;\n",
              "      box-shadow: 0px 1px 2px rgba(60, 64, 67, 0.3), 0px 1px 3px 1px rgba(60, 64, 67, 0.15);\n",
              "      fill: #174EA6;\n",
              "    }\n",
              "\n",
              "    [theme=dark] .colab-df-convert {\n",
              "      background-color: #3B4455;\n",
              "      fill: #D2E3FC;\n",
              "    }\n",
              "\n",
              "    [theme=dark] .colab-df-convert:hover {\n",
              "      background-color: #434B5C;\n",
              "      box-shadow: 0px 1px 3px 1px rgba(0, 0, 0, 0.15);\n",
              "      filter: drop-shadow(0px 1px 2px rgba(0, 0, 0, 0.3));\n",
              "      fill: #FFFFFF;\n",
              "    }\n",
              "  </style>\n",
              "\n",
              "      <script>\n",
              "        const buttonEl =\n",
              "          document.querySelector('#df-a0fc83f0-b7ef-4c80-a0d4-14ce334c79f0 button.colab-df-convert');\n",
              "        buttonEl.style.display =\n",
              "          google.colab.kernel.accessAllowed ? 'block' : 'none';\n",
              "\n",
              "        async function convertToInteractive(key) {\n",
              "          const element = document.querySelector('#df-a0fc83f0-b7ef-4c80-a0d4-14ce334c79f0');\n",
              "          const dataTable =\n",
              "            await google.colab.kernel.invokeFunction('convertToInteractive',\n",
              "                                                     [key], {});\n",
              "          if (!dataTable) return;\n",
              "\n",
              "          const docLinkHtml = 'Like what you see? Visit the ' +\n",
              "            '<a target=\"_blank\" href=https://colab.research.google.com/notebooks/data_table.ipynb>data table notebook</a>'\n",
              "            + ' to learn more about interactive tables.';\n",
              "          element.innerHTML = '';\n",
              "          dataTable['output_type'] = 'display_data';\n",
              "          await google.colab.output.renderOutput(dataTable, element);\n",
              "          const docLink = document.createElement('div');\n",
              "          docLink.innerHTML = docLinkHtml;\n",
              "          element.appendChild(docLink);\n",
              "        }\n",
              "      </script>\n",
              "    </div>\n",
              "  </div>\n",
              "  "
            ]
          },
          "metadata": {},
          "execution_count": 77
        }
      ]
    },
    {
      "cell_type": "code",
      "source": [
        "dados = dados.drop_duplicates()"
      ],
      "metadata": {
        "id": "TVJqETIiA8q9"
      },
      "execution_count": 78,
      "outputs": []
    },
    {
      "cell_type": "code",
      "source": [
        "dados.shape"
      ],
      "metadata": {
        "colab": {
          "base_uri": "https://localhost:8080/"
        },
        "id": "WaVBhESfAuNP",
        "outputId": "282d552f-77e1-4f35-86ca-74c4f3384ce6"
      },
      "execution_count": 79,
      "outputs": [
        {
          "output_type": "execute_result",
          "data": {
            "text/plain": [
              "(12234, 8)"
            ]
          },
          "metadata": {},
          "execution_count": 79
        }
      ]
    },
    {
      "cell_type": "code",
      "source": [
        "# Dados estatísticos\n",
        "dados.describe()"
      ],
      "metadata": {
        "colab": {
          "base_uri": "https://localhost:8080/",
          "height": 0
        },
        "id": "plTMKmJfBJit",
        "outputId": "9a0ac93e-7dfc-4ab5-9a41-23f1e111ccfc"
      },
      "execution_count": 80,
      "outputs": [
        {
          "output_type": "execute_result",
          "data": {
            "text/plain": [
              "                Age  JobRelocateYesNo  HoursLearning  MoneyForLearning\n",
              "count  12234.000000       4669.000000   11807.000000      11643.000000\n",
              "mean      29.598823          0.733348      15.713814       1193.690114\n",
              "std        9.215518          0.442256      14.548388       4999.765832\n",
              "min       10.000000          0.000000       0.000000          0.000000\n",
              "25%       23.000000          0.000000       5.000000          0.000000\n",
              "50%       28.000000          1.000000      10.000000         50.000000\n",
              "75%       34.000000          1.000000      20.000000        400.000000\n",
              "max       86.000000          1.000000     100.000000     180000.000000"
            ],
            "text/html": [
              "\n",
              "  <div id=\"df-643d3210-7809-44be-b767-43bf7e08d8ed\">\n",
              "    <div class=\"colab-df-container\">\n",
              "      <div>\n",
              "<style scoped>\n",
              "    .dataframe tbody tr th:only-of-type {\n",
              "        vertical-align: middle;\n",
              "    }\n",
              "\n",
              "    .dataframe tbody tr th {\n",
              "        vertical-align: top;\n",
              "    }\n",
              "\n",
              "    .dataframe thead th {\n",
              "        text-align: right;\n",
              "    }\n",
              "</style>\n",
              "<table border=\"1\" class=\"dataframe\">\n",
              "  <thead>\n",
              "    <tr style=\"text-align: right;\">\n",
              "      <th></th>\n",
              "      <th>Age</th>\n",
              "      <th>JobRelocateYesNo</th>\n",
              "      <th>HoursLearning</th>\n",
              "      <th>MoneyForLearning</th>\n",
              "    </tr>\n",
              "  </thead>\n",
              "  <tbody>\n",
              "    <tr>\n",
              "      <th>count</th>\n",
              "      <td>12234.000000</td>\n",
              "      <td>4669.000000</td>\n",
              "      <td>11807.000000</td>\n",
              "      <td>11643.000000</td>\n",
              "    </tr>\n",
              "    <tr>\n",
              "      <th>mean</th>\n",
              "      <td>29.598823</td>\n",
              "      <td>0.733348</td>\n",
              "      <td>15.713814</td>\n",
              "      <td>1193.690114</td>\n",
              "    </tr>\n",
              "    <tr>\n",
              "      <th>std</th>\n",
              "      <td>9.215518</td>\n",
              "      <td>0.442256</td>\n",
              "      <td>14.548388</td>\n",
              "      <td>4999.765832</td>\n",
              "    </tr>\n",
              "    <tr>\n",
              "      <th>min</th>\n",
              "      <td>10.000000</td>\n",
              "      <td>0.000000</td>\n",
              "      <td>0.000000</td>\n",
              "      <td>0.000000</td>\n",
              "    </tr>\n",
              "    <tr>\n",
              "      <th>25%</th>\n",
              "      <td>23.000000</td>\n",
              "      <td>0.000000</td>\n",
              "      <td>5.000000</td>\n",
              "      <td>0.000000</td>\n",
              "    </tr>\n",
              "    <tr>\n",
              "      <th>50%</th>\n",
              "      <td>28.000000</td>\n",
              "      <td>1.000000</td>\n",
              "      <td>10.000000</td>\n",
              "      <td>50.000000</td>\n",
              "    </tr>\n",
              "    <tr>\n",
              "      <th>75%</th>\n",
              "      <td>34.000000</td>\n",
              "      <td>1.000000</td>\n",
              "      <td>20.000000</td>\n",
              "      <td>400.000000</td>\n",
              "    </tr>\n",
              "    <tr>\n",
              "      <th>max</th>\n",
              "      <td>86.000000</td>\n",
              "      <td>1.000000</td>\n",
              "      <td>100.000000</td>\n",
              "      <td>180000.000000</td>\n",
              "    </tr>\n",
              "  </tbody>\n",
              "</table>\n",
              "</div>\n",
              "      <button class=\"colab-df-convert\" onclick=\"convertToInteractive('df-643d3210-7809-44be-b767-43bf7e08d8ed')\"\n",
              "              title=\"Convert this dataframe to an interactive table.\"\n",
              "              style=\"display:none;\">\n",
              "        \n",
              "  <svg xmlns=\"http://www.w3.org/2000/svg\" height=\"24px\"viewBox=\"0 0 24 24\"\n",
              "       width=\"24px\">\n",
              "    <path d=\"M0 0h24v24H0V0z\" fill=\"none\"/>\n",
              "    <path d=\"M18.56 5.44l.94 2.06.94-2.06 2.06-.94-2.06-.94-.94-2.06-.94 2.06-2.06.94zm-11 1L8.5 8.5l.94-2.06 2.06-.94-2.06-.94L8.5 2.5l-.94 2.06-2.06.94zm10 10l.94 2.06.94-2.06 2.06-.94-2.06-.94-.94-2.06-.94 2.06-2.06.94z\"/><path d=\"M17.41 7.96l-1.37-1.37c-.4-.4-.92-.59-1.43-.59-.52 0-1.04.2-1.43.59L10.3 9.45l-7.72 7.72c-.78.78-.78 2.05 0 2.83L4 21.41c.39.39.9.59 1.41.59.51 0 1.02-.2 1.41-.59l7.78-7.78 2.81-2.81c.8-.78.8-2.07 0-2.86zM5.41 20L4 18.59l7.72-7.72 1.47 1.35L5.41 20z\"/>\n",
              "  </svg>\n",
              "      </button>\n",
              "      \n",
              "  <style>\n",
              "    .colab-df-container {\n",
              "      display:flex;\n",
              "      flex-wrap:wrap;\n",
              "      gap: 12px;\n",
              "    }\n",
              "\n",
              "    .colab-df-convert {\n",
              "      background-color: #E8F0FE;\n",
              "      border: none;\n",
              "      border-radius: 50%;\n",
              "      cursor: pointer;\n",
              "      display: none;\n",
              "      fill: #1967D2;\n",
              "      height: 32px;\n",
              "      padding: 0 0 0 0;\n",
              "      width: 32px;\n",
              "    }\n",
              "\n",
              "    .colab-df-convert:hover {\n",
              "      background-color: #E2EBFA;\n",
              "      box-shadow: 0px 1px 2px rgba(60, 64, 67, 0.3), 0px 1px 3px 1px rgba(60, 64, 67, 0.15);\n",
              "      fill: #174EA6;\n",
              "    }\n",
              "\n",
              "    [theme=dark] .colab-df-convert {\n",
              "      background-color: #3B4455;\n",
              "      fill: #D2E3FC;\n",
              "    }\n",
              "\n",
              "    [theme=dark] .colab-df-convert:hover {\n",
              "      background-color: #434B5C;\n",
              "      box-shadow: 0px 1px 3px 1px rgba(0, 0, 0, 0.15);\n",
              "      filter: drop-shadow(0px 1px 2px rgba(0, 0, 0, 0.3));\n",
              "      fill: #FFFFFF;\n",
              "    }\n",
              "  </style>\n",
              "\n",
              "      <script>\n",
              "        const buttonEl =\n",
              "          document.querySelector('#df-643d3210-7809-44be-b767-43bf7e08d8ed button.colab-df-convert');\n",
              "        buttonEl.style.display =\n",
              "          google.colab.kernel.accessAllowed ? 'block' : 'none';\n",
              "\n",
              "        async function convertToInteractive(key) {\n",
              "          const element = document.querySelector('#df-643d3210-7809-44be-b767-43bf7e08d8ed');\n",
              "          const dataTable =\n",
              "            await google.colab.kernel.invokeFunction('convertToInteractive',\n",
              "                                                     [key], {});\n",
              "          if (!dataTable) return;\n",
              "\n",
              "          const docLinkHtml = 'Like what you see? Visit the ' +\n",
              "            '<a target=\"_blank\" href=https://colab.research.google.com/notebooks/data_table.ipynb>data table notebook</a>'\n",
              "            + ' to learn more about interactive tables.';\n",
              "          element.innerHTML = '';\n",
              "          dataTable['output_type'] = 'display_data';\n",
              "          await google.colab.output.renderOutput(dataTable, element);\n",
              "          const docLink = document.createElement('div');\n",
              "          docLink.innerHTML = docLinkHtml;\n",
              "          element.appendChild(docLink);\n",
              "        }\n",
              "      </script>\n",
              "    </div>\n",
              "  </div>\n",
              "  "
            ]
          },
          "metadata": {},
          "execution_count": 80
        }
      ]
    },
    {
      "cell_type": "code",
      "source": [
        "dados.describe(include = 'O')"
      ],
      "metadata": {
        "colab": {
          "base_uri": "https://localhost:8080/",
          "height": 0
        },
        "id": "zpMLTtwzBswN",
        "outputId": "1ca3a305-bf94-4fbf-c284-f23e8c9c6ac3"
      },
      "execution_count": 81,
      "outputs": [
        {
          "output_type": "execute_result",
          "data": {
            "text/plain": [
              "       Gender                          JobPref           JobRoleInterest  \\\n",
              "count   12194                             9320                      5552   \n",
              "unique      5                                5                         9   \n",
              "top      male  work for a medium-sized company  Full-Stack Web Developer   \n",
              "freq     9360                             2841                      2211   \n",
              "\n",
              "                    EmploymentField  \n",
              "count                          6683  \n",
              "unique                           15  \n",
              "top     software development and IT  \n",
              "freq                           3473  "
            ],
            "text/html": [
              "\n",
              "  <div id=\"df-978d5eca-4379-4fe8-865a-412b54095a48\">\n",
              "    <div class=\"colab-df-container\">\n",
              "      <div>\n",
              "<style scoped>\n",
              "    .dataframe tbody tr th:only-of-type {\n",
              "        vertical-align: middle;\n",
              "    }\n",
              "\n",
              "    .dataframe tbody tr th {\n",
              "        vertical-align: top;\n",
              "    }\n",
              "\n",
              "    .dataframe thead th {\n",
              "        text-align: right;\n",
              "    }\n",
              "</style>\n",
              "<table border=\"1\" class=\"dataframe\">\n",
              "  <thead>\n",
              "    <tr style=\"text-align: right;\">\n",
              "      <th></th>\n",
              "      <th>Gender</th>\n",
              "      <th>JobPref</th>\n",
              "      <th>JobRoleInterest</th>\n",
              "      <th>EmploymentField</th>\n",
              "    </tr>\n",
              "  </thead>\n",
              "  <tbody>\n",
              "    <tr>\n",
              "      <th>count</th>\n",
              "      <td>12194</td>\n",
              "      <td>9320</td>\n",
              "      <td>5552</td>\n",
              "      <td>6683</td>\n",
              "    </tr>\n",
              "    <tr>\n",
              "      <th>unique</th>\n",
              "      <td>5</td>\n",
              "      <td>5</td>\n",
              "      <td>9</td>\n",
              "      <td>15</td>\n",
              "    </tr>\n",
              "    <tr>\n",
              "      <th>top</th>\n",
              "      <td>male</td>\n",
              "      <td>work for a medium-sized company</td>\n",
              "      <td>Full-Stack Web Developer</td>\n",
              "      <td>software development and IT</td>\n",
              "    </tr>\n",
              "    <tr>\n",
              "      <th>freq</th>\n",
              "      <td>9360</td>\n",
              "      <td>2841</td>\n",
              "      <td>2211</td>\n",
              "      <td>3473</td>\n",
              "    </tr>\n",
              "  </tbody>\n",
              "</table>\n",
              "</div>\n",
              "      <button class=\"colab-df-convert\" onclick=\"convertToInteractive('df-978d5eca-4379-4fe8-865a-412b54095a48')\"\n",
              "              title=\"Convert this dataframe to an interactive table.\"\n",
              "              style=\"display:none;\">\n",
              "        \n",
              "  <svg xmlns=\"http://www.w3.org/2000/svg\" height=\"24px\"viewBox=\"0 0 24 24\"\n",
              "       width=\"24px\">\n",
              "    <path d=\"M0 0h24v24H0V0z\" fill=\"none\"/>\n",
              "    <path d=\"M18.56 5.44l.94 2.06.94-2.06 2.06-.94-2.06-.94-.94-2.06-.94 2.06-2.06.94zm-11 1L8.5 8.5l.94-2.06 2.06-.94-2.06-.94L8.5 2.5l-.94 2.06-2.06.94zm10 10l.94 2.06.94-2.06 2.06-.94-2.06-.94-.94-2.06-.94 2.06-2.06.94z\"/><path d=\"M17.41 7.96l-1.37-1.37c-.4-.4-.92-.59-1.43-.59-.52 0-1.04.2-1.43.59L10.3 9.45l-7.72 7.72c-.78.78-.78 2.05 0 2.83L4 21.41c.39.39.9.59 1.41.59.51 0 1.02-.2 1.41-.59l7.78-7.78 2.81-2.81c.8-.78.8-2.07 0-2.86zM5.41 20L4 18.59l7.72-7.72 1.47 1.35L5.41 20z\"/>\n",
              "  </svg>\n",
              "      </button>\n",
              "      \n",
              "  <style>\n",
              "    .colab-df-container {\n",
              "      display:flex;\n",
              "      flex-wrap:wrap;\n",
              "      gap: 12px;\n",
              "    }\n",
              "\n",
              "    .colab-df-convert {\n",
              "      background-color: #E8F0FE;\n",
              "      border: none;\n",
              "      border-radius: 50%;\n",
              "      cursor: pointer;\n",
              "      display: none;\n",
              "      fill: #1967D2;\n",
              "      height: 32px;\n",
              "      padding: 0 0 0 0;\n",
              "      width: 32px;\n",
              "    }\n",
              "\n",
              "    .colab-df-convert:hover {\n",
              "      background-color: #E2EBFA;\n",
              "      box-shadow: 0px 1px 2px rgba(60, 64, 67, 0.3), 0px 1px 3px 1px rgba(60, 64, 67, 0.15);\n",
              "      fill: #174EA6;\n",
              "    }\n",
              "\n",
              "    [theme=dark] .colab-df-convert {\n",
              "      background-color: #3B4455;\n",
              "      fill: #D2E3FC;\n",
              "    }\n",
              "\n",
              "    [theme=dark] .colab-df-convert:hover {\n",
              "      background-color: #434B5C;\n",
              "      box-shadow: 0px 1px 3px 1px rgba(0, 0, 0, 0.15);\n",
              "      filter: drop-shadow(0px 1px 2px rgba(0, 0, 0, 0.3));\n",
              "      fill: #FFFFFF;\n",
              "    }\n",
              "  </style>\n",
              "\n",
              "      <script>\n",
              "        const buttonEl =\n",
              "          document.querySelector('#df-978d5eca-4379-4fe8-865a-412b54095a48 button.colab-df-convert');\n",
              "        buttonEl.style.display =\n",
              "          google.colab.kernel.accessAllowed ? 'block' : 'none';\n",
              "\n",
              "        async function convertToInteractive(key) {\n",
              "          const element = document.querySelector('#df-978d5eca-4379-4fe8-865a-412b54095a48');\n",
              "          const dataTable =\n",
              "            await google.colab.kernel.invokeFunction('convertToInteractive',\n",
              "                                                     [key], {});\n",
              "          if (!dataTable) return;\n",
              "\n",
              "          const docLinkHtml = 'Like what you see? Visit the ' +\n",
              "            '<a target=\"_blank\" href=https://colab.research.google.com/notebooks/data_table.ipynb>data table notebook</a>'\n",
              "            + ' to learn more about interactive tables.';\n",
              "          element.innerHTML = '';\n",
              "          dataTable['output_type'] = 'display_data';\n",
              "          await google.colab.output.renderOutput(dataTable, element);\n",
              "          const docLink = document.createElement('div');\n",
              "          docLink.innerHTML = docLinkHtml;\n",
              "          element.appendChild(docLink);\n",
              "        }\n",
              "      </script>\n",
              "    </div>\n",
              "  </div>\n",
              "  "
            ]
          },
          "metadata": {},
          "execution_count": 81
        }
      ]
    },
    {
      "cell_type": "code",
      "source": [
        "dados.loc[dados['Age']>30]"
      ],
      "metadata": {
        "colab": {
          "base_uri": "https://localhost:8080/",
          "height": 0
        },
        "id": "Jc8LlBJnCCh9",
        "outputId": "2c2291e8-3717-4c10-c1a2-4552c21b694f"
      },
      "execution_count": 82,
      "outputs": [
        {
          "output_type": "execute_result",
          "data": {
            "text/plain": [
              "        Age  Gender                  JobPref JobRoleInterest  \\\n",
              "5      34.0    male  start your own business             NaN   \n",
              "7      35.0    male               freelance              NaN   \n",
              "8      33.0    male                      NaN             NaN   \n",
              "9      33.0    male  start your own business             NaN   \n",
              "10     57.0    male               freelance              NaN   \n",
              "...     ...     ...                      ...             ...   \n",
              "15611  37.0    male  start your own business             NaN   \n",
              "15612  45.0  female  start your own business             NaN   \n",
              "15614  47.0    male               freelance              NaN   \n",
              "15615  39.0    male  start your own business             NaN   \n",
              "15617  37.0    male               freelance              NaN   \n",
              "\n",
              "                         EmploymentField  JobRelocateYesNo  HoursLearning  \\\n",
              "5                                finance               NaN            5.0   \n",
              "7      office and administrative support               NaN            NaN   \n",
              "8                   software development               NaN            5.0   \n",
              "9                                    NaN               NaN           20.0   \n",
              "10                                   NaN               NaN            8.0   \n",
              "...                                  ...               ...            ...   \n",
              "15611        software development and IT               NaN           40.0   \n",
              "15612                                NaN               NaN            2.0   \n",
              "15614                            finance               NaN            3.0   \n",
              "15615        software development and IT               NaN           40.0   \n",
              "15617                                NaN               NaN           14.0   \n",
              "\n",
              "       MoneyForLearning  \n",
              "5                   0.0  \n",
              "7                   0.0  \n",
              "8                3000.0  \n",
              "9                  30.0  \n",
              "10                400.0  \n",
              "...                 ...  \n",
              "15611             200.0  \n",
              "15612             300.0  \n",
              "15614               0.0  \n",
              "15615               0.0  \n",
              "15617               0.0  \n",
              "\n",
              "[4510 rows x 8 columns]"
            ],
            "text/html": [
              "\n",
              "  <div id=\"df-a53ab09b-2c4b-4641-bc65-930ab52b2066\">\n",
              "    <div class=\"colab-df-container\">\n",
              "      <div>\n",
              "<style scoped>\n",
              "    .dataframe tbody tr th:only-of-type {\n",
              "        vertical-align: middle;\n",
              "    }\n",
              "\n",
              "    .dataframe tbody tr th {\n",
              "        vertical-align: top;\n",
              "    }\n",
              "\n",
              "    .dataframe thead th {\n",
              "        text-align: right;\n",
              "    }\n",
              "</style>\n",
              "<table border=\"1\" class=\"dataframe\">\n",
              "  <thead>\n",
              "    <tr style=\"text-align: right;\">\n",
              "      <th></th>\n",
              "      <th>Age</th>\n",
              "      <th>Gender</th>\n",
              "      <th>JobPref</th>\n",
              "      <th>JobRoleInterest</th>\n",
              "      <th>EmploymentField</th>\n",
              "      <th>JobRelocateYesNo</th>\n",
              "      <th>HoursLearning</th>\n",
              "      <th>MoneyForLearning</th>\n",
              "    </tr>\n",
              "  </thead>\n",
              "  <tbody>\n",
              "    <tr>\n",
              "      <th>5</th>\n",
              "      <td>34.0</td>\n",
              "      <td>male</td>\n",
              "      <td>start your own business</td>\n",
              "      <td>NaN</td>\n",
              "      <td>finance</td>\n",
              "      <td>NaN</td>\n",
              "      <td>5.0</td>\n",
              "      <td>0.0</td>\n",
              "    </tr>\n",
              "    <tr>\n",
              "      <th>7</th>\n",
              "      <td>35.0</td>\n",
              "      <td>male</td>\n",
              "      <td>freelance</td>\n",
              "      <td>NaN</td>\n",
              "      <td>office and administrative support</td>\n",
              "      <td>NaN</td>\n",
              "      <td>NaN</td>\n",
              "      <td>0.0</td>\n",
              "    </tr>\n",
              "    <tr>\n",
              "      <th>8</th>\n",
              "      <td>33.0</td>\n",
              "      <td>male</td>\n",
              "      <td>NaN</td>\n",
              "      <td>NaN</td>\n",
              "      <td>software development</td>\n",
              "      <td>NaN</td>\n",
              "      <td>5.0</td>\n",
              "      <td>3000.0</td>\n",
              "    </tr>\n",
              "    <tr>\n",
              "      <th>9</th>\n",
              "      <td>33.0</td>\n",
              "      <td>male</td>\n",
              "      <td>start your own business</td>\n",
              "      <td>NaN</td>\n",
              "      <td>NaN</td>\n",
              "      <td>NaN</td>\n",
              "      <td>20.0</td>\n",
              "      <td>30.0</td>\n",
              "    </tr>\n",
              "    <tr>\n",
              "      <th>10</th>\n",
              "      <td>57.0</td>\n",
              "      <td>male</td>\n",
              "      <td>freelance</td>\n",
              "      <td>NaN</td>\n",
              "      <td>NaN</td>\n",
              "      <td>NaN</td>\n",
              "      <td>8.0</td>\n",
              "      <td>400.0</td>\n",
              "    </tr>\n",
              "    <tr>\n",
              "      <th>...</th>\n",
              "      <td>...</td>\n",
              "      <td>...</td>\n",
              "      <td>...</td>\n",
              "      <td>...</td>\n",
              "      <td>...</td>\n",
              "      <td>...</td>\n",
              "      <td>...</td>\n",
              "      <td>...</td>\n",
              "    </tr>\n",
              "    <tr>\n",
              "      <th>15611</th>\n",
              "      <td>37.0</td>\n",
              "      <td>male</td>\n",
              "      <td>start your own business</td>\n",
              "      <td>NaN</td>\n",
              "      <td>software development and IT</td>\n",
              "      <td>NaN</td>\n",
              "      <td>40.0</td>\n",
              "      <td>200.0</td>\n",
              "    </tr>\n",
              "    <tr>\n",
              "      <th>15612</th>\n",
              "      <td>45.0</td>\n",
              "      <td>female</td>\n",
              "      <td>start your own business</td>\n",
              "      <td>NaN</td>\n",
              "      <td>NaN</td>\n",
              "      <td>NaN</td>\n",
              "      <td>2.0</td>\n",
              "      <td>300.0</td>\n",
              "    </tr>\n",
              "    <tr>\n",
              "      <th>15614</th>\n",
              "      <td>47.0</td>\n",
              "      <td>male</td>\n",
              "      <td>freelance</td>\n",
              "      <td>NaN</td>\n",
              "      <td>finance</td>\n",
              "      <td>NaN</td>\n",
              "      <td>3.0</td>\n",
              "      <td>0.0</td>\n",
              "    </tr>\n",
              "    <tr>\n",
              "      <th>15615</th>\n",
              "      <td>39.0</td>\n",
              "      <td>male</td>\n",
              "      <td>start your own business</td>\n",
              "      <td>NaN</td>\n",
              "      <td>software development and IT</td>\n",
              "      <td>NaN</td>\n",
              "      <td>40.0</td>\n",
              "      <td>0.0</td>\n",
              "    </tr>\n",
              "    <tr>\n",
              "      <th>15617</th>\n",
              "      <td>37.0</td>\n",
              "      <td>male</td>\n",
              "      <td>freelance</td>\n",
              "      <td>NaN</td>\n",
              "      <td>NaN</td>\n",
              "      <td>NaN</td>\n",
              "      <td>14.0</td>\n",
              "      <td>0.0</td>\n",
              "    </tr>\n",
              "  </tbody>\n",
              "</table>\n",
              "<p>4510 rows × 8 columns</p>\n",
              "</div>\n",
              "      <button class=\"colab-df-convert\" onclick=\"convertToInteractive('df-a53ab09b-2c4b-4641-bc65-930ab52b2066')\"\n",
              "              title=\"Convert this dataframe to an interactive table.\"\n",
              "              style=\"display:none;\">\n",
              "        \n",
              "  <svg xmlns=\"http://www.w3.org/2000/svg\" height=\"24px\"viewBox=\"0 0 24 24\"\n",
              "       width=\"24px\">\n",
              "    <path d=\"M0 0h24v24H0V0z\" fill=\"none\"/>\n",
              "    <path d=\"M18.56 5.44l.94 2.06.94-2.06 2.06-.94-2.06-.94-.94-2.06-.94 2.06-2.06.94zm-11 1L8.5 8.5l.94-2.06 2.06-.94-2.06-.94L8.5 2.5l-.94 2.06-2.06.94zm10 10l.94 2.06.94-2.06 2.06-.94-2.06-.94-.94-2.06-.94 2.06-2.06.94z\"/><path d=\"M17.41 7.96l-1.37-1.37c-.4-.4-.92-.59-1.43-.59-.52 0-1.04.2-1.43.59L10.3 9.45l-7.72 7.72c-.78.78-.78 2.05 0 2.83L4 21.41c.39.39.9.59 1.41.59.51 0 1.02-.2 1.41-.59l7.78-7.78 2.81-2.81c.8-.78.8-2.07 0-2.86zM5.41 20L4 18.59l7.72-7.72 1.47 1.35L5.41 20z\"/>\n",
              "  </svg>\n",
              "      </button>\n",
              "      \n",
              "  <style>\n",
              "    .colab-df-container {\n",
              "      display:flex;\n",
              "      flex-wrap:wrap;\n",
              "      gap: 12px;\n",
              "    }\n",
              "\n",
              "    .colab-df-convert {\n",
              "      background-color: #E8F0FE;\n",
              "      border: none;\n",
              "      border-radius: 50%;\n",
              "      cursor: pointer;\n",
              "      display: none;\n",
              "      fill: #1967D2;\n",
              "      height: 32px;\n",
              "      padding: 0 0 0 0;\n",
              "      width: 32px;\n",
              "    }\n",
              "\n",
              "    .colab-df-convert:hover {\n",
              "      background-color: #E2EBFA;\n",
              "      box-shadow: 0px 1px 2px rgba(60, 64, 67, 0.3), 0px 1px 3px 1px rgba(60, 64, 67, 0.15);\n",
              "      fill: #174EA6;\n",
              "    }\n",
              "\n",
              "    [theme=dark] .colab-df-convert {\n",
              "      background-color: #3B4455;\n",
              "      fill: #D2E3FC;\n",
              "    }\n",
              "\n",
              "    [theme=dark] .colab-df-convert:hover {\n",
              "      background-color: #434B5C;\n",
              "      box-shadow: 0px 1px 3px 1px rgba(0, 0, 0, 0.15);\n",
              "      filter: drop-shadow(0px 1px 2px rgba(0, 0, 0, 0.3));\n",
              "      fill: #FFFFFF;\n",
              "    }\n",
              "  </style>\n",
              "\n",
              "      <script>\n",
              "        const buttonEl =\n",
              "          document.querySelector('#df-a53ab09b-2c4b-4641-bc65-930ab52b2066 button.colab-df-convert');\n",
              "        buttonEl.style.display =\n",
              "          google.colab.kernel.accessAllowed ? 'block' : 'none';\n",
              "\n",
              "        async function convertToInteractive(key) {\n",
              "          const element = document.querySelector('#df-a53ab09b-2c4b-4641-bc65-930ab52b2066');\n",
              "          const dataTable =\n",
              "            await google.colab.kernel.invokeFunction('convertToInteractive',\n",
              "                                                     [key], {});\n",
              "          if (!dataTable) return;\n",
              "\n",
              "          const docLinkHtml = 'Like what you see? Visit the ' +\n",
              "            '<a target=\"_blank\" href=https://colab.research.google.com/notebooks/data_table.ipynb>data table notebook</a>'\n",
              "            + ' to learn more about interactive tables.';\n",
              "          element.innerHTML = '';\n",
              "          dataTable['output_type'] = 'display_data';\n",
              "          await google.colab.output.renderOutput(dataTable, element);\n",
              "          const docLink = document.createElement('div');\n",
              "          docLink.innerHTML = docLinkHtml;\n",
              "          element.appendChild(docLink);\n",
              "        }\n",
              "      </script>\n",
              "    </div>\n",
              "  </div>\n",
              "  "
            ]
          },
          "metadata": {},
          "execution_count": 82
        }
      ]
    },
    {
      "cell_type": "code",
      "source": [],
      "metadata": {
        "id": "OXdV7_xJAhod"
      },
      "execution_count": 82,
      "outputs": []
    },
    {
      "cell_type": "markdown",
      "source": [
        "##Análise de idade"
      ],
      "metadata": {
        "id": "0rLp5SHDCc2V"
      }
    },
    {
      "cell_type": "code",
      "source": [
        "dados.Age.unique()"
      ],
      "metadata": {
        "colab": {
          "base_uri": "https://localhost:8080/"
        },
        "id": "XtWOvEoXCfzH",
        "outputId": "3a596ecd-5f1f-4bdc-c107-5a3c9c11fa44"
      },
      "execution_count": 83,
      "outputs": [
        {
          "output_type": "execute_result",
          "data": {
            "text/plain": [
              "array([28., 22., 19., 26., 20., 34., 23., 35., 33., 57., 27., 47., 37.,\n",
              "       31., 29., 30., 32., 25., 44., 21., 24., 18., 39., 41., 43., 36.,\n",
              "       40., 38., 16., 46., 15., 14., 50., 49., 45., 55., 51., 17., 53.,\n",
              "       52., 48., 56., 42., 54., 58., 65., 59., 75., 61., 80., 62., 60.,\n",
              "       66., 12., 11., 13., 63., 64., 70., 73., 69., 71., 68., 86., 10.,\n",
              "       67., 72.])"
            ]
          },
          "metadata": {},
          "execution_count": 83
        }
      ]
    },
    {
      "cell_type": "code",
      "source": [
        "idade = dados['Age']"
      ],
      "metadata": {
        "id": "U0FSreRwCjy2"
      },
      "execution_count": 84,
      "outputs": []
    },
    {
      "cell_type": "code",
      "source": [
        "plt.hist(idade, label = 'Idades', color = 'lightseagreen')\n",
        "plt.title('Distribuição por Idade')\n",
        "plt.xlabel('Idades')\n",
        "plt.ylabel('Quantidade')\n",
        "plt.legend()\n",
        "plt.show()"
      ],
      "metadata": {
        "colab": {
          "base_uri": "https://localhost:8080/",
          "height": 506
        },
        "id": "OCVgx0UyCnpd",
        "outputId": "a7559f37-b632-4d55-b028-f93fe62a41e9"
      },
      "execution_count": 85,
      "outputs": [
        {
          "output_type": "display_data",
          "data": {
            "text/plain": [
              "<Figure size 748.8x514.8 with 1 Axes>"
            ],
            "image/png": "[encoded data removed]"
          },
          "metadata": {}
        }
      ]
    },
    {
      "cell_type": "code",
      "source": [
        "dados.Gender.value_counts()"
      ],
      "metadata": {
        "colab": {
          "base_uri": "https://localhost:8080/"
        },
        "id": "iuno1_rnDLbN",
        "outputId": "86ff1f6e-de1e-449e-debb-7ac2949366a1"
      },
      "execution_count": 86,
      "outputs": [
        {
          "output_type": "execute_result",
          "data": {
            "text/plain": [
              "male           9360\n",
              "female         2697\n",
              "genderqueer      65\n",
              "agender          36\n",
              "trans            36\n",
              "Name: Gender, dtype: int64"
            ]
          },
          "metadata": {},
          "execution_count": 86
        }
      ]
    },
    {
      "cell_type": "code",
      "source": [
        "dados.Gender.value_counts().sum()"
      ],
      "metadata": {
        "colab": {
          "base_uri": "https://localhost:8080/"
        },
        "id": "44ihlpnXEJ3t",
        "outputId": "c9a8acac-fc1d-4d4a-9430-06cf0845ec54"
      },
      "execution_count": 87,
      "outputs": [
        {
          "output_type": "execute_result",
          "data": {
            "text/plain": [
              "12194"
            ]
          },
          "metadata": {},
          "execution_count": 87
        }
      ]
    },
    {
      "cell_type": "code",
      "source": [
        "tipos_de_genero = pd.DataFrame(dados.Gender.value_counts())\n",
        "tipos_de_genero.head()"
      ],
      "metadata": {
        "colab": {
          "base_uri": "https://localhost:8080/",
          "height": 206
        },
        "id": "jxUvBLjtFP9l",
        "outputId": "3e336b4b-cff4-48ee-f250-448e16e1246d"
      },
      "execution_count": 107,
      "outputs": [
        {
          "output_type": "execute_result",
          "data": {
            "text/plain": [
              "             Gender\n",
              "male           9360\n",
              "female         2697\n",
              "genderqueer      65\n",
              "agender          36\n",
              "trans            36"
            ],
            "text/html": [
              "\n",
              "  <div id=\"df-9dfd28a2-c019-4e84-a04c-929a4d984f37\">\n",
              "    <div class=\"colab-df-container\">\n",
              "      <div>\n",
              "<style scoped>\n",
              "    .dataframe tbody tr th:only-of-type {\n",
              "        vertical-align: middle;\n",
              "    }\n",
              "\n",
              "    .dataframe tbody tr th {\n",
              "        vertical-align: top;\n",
              "    }\n",
              "\n",
              "    .dataframe thead th {\n",
              "        text-align: right;\n",
              "    }\n",
              "</style>\n",
              "<table border=\"1\" class=\"dataframe\">\n",
              "  <thead>\n",
              "    <tr style=\"text-align: right;\">\n",
              "      <th></th>\n",
              "      <th>Gender</th>\n",
              "    </tr>\n",
              "  </thead>\n",
              "  <tbody>\n",
              "    <tr>\n",
              "      <th>male</th>\n",
              "      <td>9360</td>\n",
              "    </tr>\n",
              "    <tr>\n",
              "      <th>female</th>\n",
              "      <td>2697</td>\n",
              "    </tr>\n",
              "    <tr>\n",
              "      <th>genderqueer</th>\n",
              "      <td>65</td>\n",
              "    </tr>\n",
              "    <tr>\n",
              "      <th>agender</th>\n",
              "      <td>36</td>\n",
              "    </tr>\n",
              "    <tr>\n",
              "      <th>trans</th>\n",
              "      <td>36</td>\n",
              "    </tr>\n",
              "  </tbody>\n",
              "</table>\n",
              "</div>\n",
              "      <button class=\"colab-df-convert\" onclick=\"convertToInteractive('df-9dfd28a2-c019-4e84-a04c-929a4d984f37')\"\n",
              "              title=\"Convert this dataframe to an interactive table.\"\n",
              "              style=\"display:none;\">\n",
              "        \n",
              "  <svg xmlns=\"http://www.w3.org/2000/svg\" height=\"24px\"viewBox=\"0 0 24 24\"\n",
              "       width=\"24px\">\n",
              "    <path d=\"M0 0h24v24H0V0z\" fill=\"none\"/>\n",
              "    <path d=\"M18.56 5.44l.94 2.06.94-2.06 2.06-.94-2.06-.94-.94-2.06-.94 2.06-2.06.94zm-11 1L8.5 8.5l.94-2.06 2.06-.94-2.06-.94L8.5 2.5l-.94 2.06-2.06.94zm10 10l.94 2.06.94-2.06 2.06-.94-2.06-.94-.94-2.06-.94 2.06-2.06.94z\"/><path d=\"M17.41 7.96l-1.37-1.37c-.4-.4-.92-.59-1.43-.59-.52 0-1.04.2-1.43.59L10.3 9.45l-7.72 7.72c-.78.78-.78 2.05 0 2.83L4 21.41c.39.39.9.59 1.41.59.51 0 1.02-.2 1.41-.59l7.78-7.78 2.81-2.81c.8-.78.8-2.07 0-2.86zM5.41 20L4 18.59l7.72-7.72 1.47 1.35L5.41 20z\"/>\n",
              "  </svg>\n",
              "      </button>\n",
              "      \n",
              "  <style>\n",
              "    .colab-df-container {\n",
              "      display:flex;\n",
              "      flex-wrap:wrap;\n",
              "      gap: 12px;\n",
              "    }\n",
              "\n",
              "    .colab-df-convert {\n",
              "      background-color: #E8F0FE;\n",
              "      border: none;\n",
              "      border-radius: 50%;\n",
              "      cursor: pointer;\n",
              "      display: none;\n",
              "      fill: #1967D2;\n",
              "      height: 32px;\n",
              "      padding: 0 0 0 0;\n",
              "      width: 32px;\n",
              "    }\n",
              "\n",
              "    .colab-df-convert:hover {\n",
              "      background-color: #E2EBFA;\n",
              "      box-shadow: 0px 1px 2px rgba(60, 64, 67, 0.3), 0px 1px 3px 1px rgba(60, 64, 67, 0.15);\n",
              "      fill: #174EA6;\n",
              "    }\n",
              "\n",
              "    [theme=dark] .colab-df-convert {\n",
              "      background-color: #3B4455;\n",
              "      fill: #D2E3FC;\n",
              "    }\n",
              "\n",
              "    [theme=dark] .colab-df-convert:hover {\n",
              "      background-color: #434B5C;\n",
              "      box-shadow: 0px 1px 3px 1px rgba(0, 0, 0, 0.15);\n",
              "      filter: drop-shadow(0px 1px 2px rgba(0, 0, 0, 0.3));\n",
              "      fill: #FFFFFF;\n",
              "    }\n",
              "  </style>\n",
              "\n",
              "      <script>\n",
              "        const buttonEl =\n",
              "          document.querySelector('#df-9dfd28a2-c019-4e84-a04c-929a4d984f37 button.colab-df-convert');\n",
              "        buttonEl.style.display =\n",
              "          google.colab.kernel.accessAllowed ? 'block' : 'none';\n",
              "\n",
              "        async function convertToInteractive(key) {\n",
              "          const element = document.querySelector('#df-9dfd28a2-c019-4e84-a04c-929a4d984f37');\n",
              "          const dataTable =\n",
              "            await google.colab.kernel.invokeFunction('convertToInteractive',\n",
              "                                                     [key], {});\n",
              "          if (!dataTable) return;\n",
              "\n",
              "          const docLinkHtml = 'Like what you see? Visit the ' +\n",
              "            '<a target=\"_blank\" href=https://colab.research.google.com/notebooks/data_table.ipynb>data table notebook</a>'\n",
              "            + ' to learn more about interactive tables.';\n",
              "          element.innerHTML = '';\n",
              "          dataTable['output_type'] = 'display_data';\n",
              "          await google.colab.output.renderOutput(dataTable, element);\n",
              "          const docLink = document.createElement('div');\n",
              "          docLink.innerHTML = docLinkHtml;\n",
              "          element.appendChild(docLink);\n",
              "        }\n",
              "      </script>\n",
              "    </div>\n",
              "  </div>\n",
              "  "
            ]
          },
          "metadata": {},
          "execution_count": 107
        }
      ]
    },
    {
      "cell_type": "code",
      "source": [
        "tipos_de_genero.columns.name = 'Tipo'"
      ],
      "metadata": {
        "id": "4bCrJJSFFckF"
      },
      "execution_count": 98,
      "outputs": []
    },
    {
      "cell_type": "code",
      "source": [
        "tipos_de_genero.iloc[1]"
      ],
      "metadata": {
        "colab": {
          "base_uri": "https://localhost:8080/"
        },
        "id": "muQn4LDEG0B_",
        "outputId": "8a2b0dec-059b-43ab-caa6-bac5503acf61"
      },
      "execution_count": 108,
      "outputs": [
        {
          "output_type": "execute_result",
          "data": {
            "text/plain": [
              "Gender    2697\n",
              "Name: female, dtype: int64"
            ]
          },
          "metadata": {},
          "execution_count": 108
        }
      ]
    },
    {
      "cell_type": "code",
      "source": [
        "feminino = tipos_de_genero.iloc[1]"
      ],
      "metadata": {
        "id": "SfSKfkktHBnN"
      },
      "execution_count": 109,
      "outputs": []
    },
    {
      "cell_type": "code",
      "source": [
        "total_genero = dados.Gender.value_counts().sum()\n",
        "total_genero"
      ],
      "metadata": {
        "colab": {
          "base_uri": "https://localhost:8080/"
        },
        "id": "a2sphbF-HPgE",
        "outputId": "3e3fe332-96bc-4237-8317-e9fb00e292a9"
      },
      "execution_count": 110,
      "outputs": [
        {
          "output_type": "execute_result",
          "data": {
            "text/plain": [
              "12194"
            ]
          },
          "metadata": {},
          "execution_count": 110
        }
      ]
    },
    {
      "cell_type": "code",
      "source": [
        "fem = (feminino / total_genero * 100)\n",
        "fem"
      ],
      "metadata": {
        "colab": {
          "base_uri": "https://localhost:8080/"
        },
        "id": "AhERZgtoIf5t",
        "outputId": "edf4f47c-7953-4dea-8800-39579f267f13"
      },
      "execution_count": 111,
      "outputs": [
        {
          "output_type": "execute_result",
          "data": {
            "text/plain": [
              "Gender    22.117435\n",
              "Name: female, dtype: float64"
            ]
          },
          "metadata": {},
          "execution_count": 111
        }
      ]
    },
    {
      "cell_type": "code",
      "source": [
        "dados.groupby('Gender').mean()"
      ],
      "metadata": {
        "colab": {
          "base_uri": "https://localhost:8080/",
          "height": 238
        },
        "id": "BIu7Fd5aKcBd",
        "outputId": "38196c4d-5329-4187-864d-328e25b923e5"
      },
      "execution_count": 114,
      "outputs": [
        {
          "output_type": "execute_result",
          "data": {
            "text/plain": [
              "                   Age  JobRelocateYesNo  HoursLearning  MoneyForLearning\n",
              "Gender                                                                   \n",
              "agender      25.277778          0.642857      13.685714       1023.088235\n",
              "female       30.797553          0.653043      14.537481       1558.847478\n",
              "genderqueer  28.215385          0.684211      14.311475       1600.316667\n",
              "male         29.300000          0.758493      16.066402       1083.079552\n",
              "trans        30.000000          0.714286      17.828571       3019.588235"
            ],
            "text/html": [
              "\n",
              "  <div id=\"df-e08053bb-9103-4e5b-9431-5120b10de893\">\n",
              "    <div class=\"colab-df-container\">\n",
              "      <div>\n",
              "<style scoped>\n",
              "    .dataframe tbody tr th:only-of-type {\n",
              "        vertical-align: middle;\n",
              "    }\n",
              "\n",
              "    .dataframe tbody tr th {\n",
              "        vertical-align: top;\n",
              "    }\n",
              "\n",
              "    .dataframe thead th {\n",
              "        text-align: right;\n",
              "    }\n",
              "</style>\n",
              "<table border=\"1\" class=\"dataframe\">\n",
              "  <thead>\n",
              "    <tr style=\"text-align: right;\">\n",
              "      <th></th>\n",
              "      <th>Age</th>\n",
              "      <th>JobRelocateYesNo</th>\n",
              "      <th>HoursLearning</th>\n",
              "      <th>MoneyForLearning</th>\n",
              "    </tr>\n",
              "    <tr>\n",
              "      <th>Gender</th>\n",
              "      <th></th>\n",
              "      <th></th>\n",
              "      <th></th>\n",
              "      <th></th>\n",
              "    </tr>\n",
              "  </thead>\n",
              "  <tbody>\n",
              "    <tr>\n",
              "      <th>agender</th>\n",
              "      <td>25.277778</td>\n",
              "      <td>0.642857</td>\n",
              "      <td>13.685714</td>\n",
              "      <td>1023.088235</td>\n",
              "    </tr>\n",
              "    <tr>\n",
              "      <th>female</th>\n",
              "      <td>30.797553</td>\n",
              "      <td>0.653043</td>\n",
              "      <td>14.537481</td>\n",
              "      <td>1558.847478</td>\n",
              "    </tr>\n",
              "    <tr>\n",
              "      <th>genderqueer</th>\n",
              "      <td>28.215385</td>\n",
              "      <td>0.684211</td>\n",
              "      <td>14.311475</td>\n",
              "      <td>1600.316667</td>\n",
              "    </tr>\n",
              "    <tr>\n",
              "      <th>male</th>\n",
              "      <td>29.300000</td>\n",
              "      <td>0.758493</td>\n",
              "      <td>16.066402</td>\n",
              "      <td>1083.079552</td>\n",
              "    </tr>\n",
              "    <tr>\n",
              "      <th>trans</th>\n",
              "      <td>30.000000</td>\n",
              "      <td>0.714286</td>\n",
              "      <td>17.828571</td>\n",
              "      <td>3019.588235</td>\n",
              "    </tr>\n",
              "  </tbody>\n",
              "</table>\n",
              "</div>\n",
              "      <button class=\"colab-df-convert\" onclick=\"convertToInteractive('df-e08053bb-9103-4e5b-9431-5120b10de893')\"\n",
              "              title=\"Convert this dataframe to an interactive table.\"\n",
              "              style=\"display:none;\">\n",
              "        \n",
              "  <svg xmlns=\"http://www.w3.org/2000/svg\" height=\"24px\"viewBox=\"0 0 24 24\"\n",
              "       width=\"24px\">\n",
              "    <path d=\"M0 0h24v24H0V0z\" fill=\"none\"/>\n",
              "    <path d=\"M18.56 5.44l.94 2.06.94-2.06 2.06-.94-2.06-.94-.94-2.06-.94 2.06-2.06.94zm-11 1L8.5 8.5l.94-2.06 2.06-.94-2.06-.94L8.5 2.5l-.94 2.06-2.06.94zm10 10l.94 2.06.94-2.06 2.06-.94-2.06-.94-.94-2.06-.94 2.06-2.06.94z\"/><path d=\"M17.41 7.96l-1.37-1.37c-.4-.4-.92-.59-1.43-.59-.52 0-1.04.2-1.43.59L10.3 9.45l-7.72 7.72c-.78.78-.78 2.05 0 2.83L4 21.41c.39.39.9.59 1.41.59.51 0 1.02-.2 1.41-.59l7.78-7.78 2.81-2.81c.8-.78.8-2.07 0-2.86zM5.41 20L4 18.59l7.72-7.72 1.47 1.35L5.41 20z\"/>\n",
              "  </svg>\n",
              "      </button>\n",
              "      \n",
              "  <style>\n",
              "    .colab-df-container {\n",
              "      display:flex;\n",
              "      flex-wrap:wrap;\n",
              "      gap: 12px;\n",
              "    }\n",
              "\n",
              "    .colab-df-convert {\n",
              "      background-color: #E8F0FE;\n",
              "      border: none;\n",
              "      border-radius: 50%;\n",
              "      cursor: pointer;\n",
              "      display: none;\n",
              "      fill: #1967D2;\n",
              "      height: 32px;\n",
              "      padding: 0 0 0 0;\n",
              "      width: 32px;\n",
              "    }\n",
              "\n",
              "    .colab-df-convert:hover {\n",
              "      background-color: #E2EBFA;\n",
              "      box-shadow: 0px 1px 2px rgba(60, 64, 67, 0.3), 0px 1px 3px 1px rgba(60, 64, 67, 0.15);\n",
              "      fill: #174EA6;\n",
              "    }\n",
              "\n",
              "    [theme=dark] .colab-df-convert {\n",
              "      background-color: #3B4455;\n",
              "      fill: #D2E3FC;\n",
              "    }\n",
              "\n",
              "    [theme=dark] .colab-df-convert:hover {\n",
              "      background-color: #434B5C;\n",
              "      box-shadow: 0px 1px 3px 1px rgba(0, 0, 0, 0.15);\n",
              "      filter: drop-shadow(0px 1px 2px rgba(0, 0, 0, 0.3));\n",
              "      fill: #FFFFFF;\n",
              "    }\n",
              "  </style>\n",
              "\n",
              "      <script>\n",
              "        const buttonEl =\n",
              "          document.querySelector('#df-e08053bb-9103-4e5b-9431-5120b10de893 button.colab-df-convert');\n",
              "        buttonEl.style.display =\n",
              "          google.colab.kernel.accessAllowed ? 'block' : 'none';\n",
              "\n",
              "        async function convertToInteractive(key) {\n",
              "          const element = document.querySelector('#df-e08053bb-9103-4e5b-9431-5120b10de893');\n",
              "          const dataTable =\n",
              "            await google.colab.kernel.invokeFunction('convertToInteractive',\n",
              "                                                     [key], {});\n",
              "          if (!dataTable) return;\n",
              "\n",
              "          const docLinkHtml = 'Like what you see? Visit the ' +\n",
              "            '<a target=\"_blank\" href=https://colab.research.google.com/notebooks/data_table.ipynb>data table notebook</a>'\n",
              "            + ' to learn more about interactive tables.';\n",
              "          element.innerHTML = '';\n",
              "          dataTable['output_type'] = 'display_data';\n",
              "          await google.colab.output.renderOutput(dataTable, element);\n",
              "          const docLink = document.createElement('div');\n",
              "          docLink.innerHTML = docLinkHtml;\n",
              "          element.appendChild(docLink);\n",
              "        }\n",
              "      </script>\n",
              "    </div>\n",
              "  </div>\n",
              "  "
            ]
          },
          "metadata": {},
          "execution_count": 114
        }
      ]
    },
    {
      "cell_type": "code",
      "source": [
        "genero = dados.Gender.value_counts()"
      ],
      "metadata": {
        "id": "P5PArMrbKu08"
      },
      "execution_count": 115,
      "outputs": []
    },
    {
      "cell_type": "code",
      "source": [
        "plt.pie(genero)"
      ],
      "metadata": {
        "colab": {
          "base_uri": "https://localhost:8080/",
          "height": 622
        },
        "id": "yeyO1hqEMVct",
        "outputId": "f528989e-7281-4f9b-859f-ea5001ff5ee9"
      },
      "execution_count": 116,
      "outputs": [
        {
          "output_type": "execute_result",
          "data": {
            "text/plain": [
              "([<matplotlib.patches.Wedge at 0x7f487d1622b0>,\n",
              "  <matplotlib.patches.Wedge at 0x7f487d162fd0>,\n",
              "  <matplotlib.patches.Wedge at 0x7f487d17ff70>,\n",
              "  <matplotlib.patches.Wedge at 0x7f487d17f2e0>,\n",
              "  <matplotlib.patches.Wedge at 0x7f487d17f100>],\n",
              " [Text(-0.8195924148082909, 0.7336676860736846, ''),\n",
              "  Text(0.7931919072339293, -0.7621329269219392, ''),\n",
              "  Text(1.09840575279812, -0.0592013700854625, ''),\n",
              "  Text(1.0995742196475298, -0.030602867292558702, ''),\n",
              "  Text(1.099952689214474, -0.010202033613305905, '')])"
            ]
          },
          "metadata": {},
          "execution_count": 116
        },
        {
          "output_type": "display_data",
          "data": {
            "text/plain": [
              "<Figure size 748.8x514.8 with 1 Axes>"
            ],
            "image/png": "[encoded data removed]"
          },
          "metadata": {}
        }
      ]
    },
    {
      "cell_type": "code",
      "source": [
        "genero = dados.Gender.value_counts()\n",
        "plt.pie(genero)\n",
        "plt.legend(dados.Gender.value_counts().index)\n",
        "plt.show()"
      ],
      "metadata": {
        "colab": {
          "base_uri": "https://localhost:8080/",
          "height": 448
        },
        "id": "IbFOuVu9MYe0",
        "outputId": "7a6903f6-b9a7-4a14-8af3-1c4cc01c0b42"
      },
      "execution_count": 117,
      "outputs": [
        {
          "output_type": "display_data",
          "data": {
            "text/plain": [
              "<Figure size 748.8x514.8 with 1 Axes>"
            ],
            "image/png": "[encoded data removed]"
          },
          "metadata": {}
        }
      ]
    },
    {
      "cell_type": "code",
      "source": [
        "genero = dados.Gender.value_counts()\n",
        "plt.pie(genero)\n",
        "plt.legend(dados.Gender.value_counts().index, bbox_to_anchor = (1,1))\n",
        "plt.show()"
      ],
      "metadata": {
        "colab": {
          "base_uri": "https://localhost:8080/",
          "height": 448
        },
        "id": "kiLSZGMdNVwU",
        "outputId": "95aec6ef-a695-455e-e702-be07cd0eb8ea"
      },
      "execution_count": 118,
      "outputs": [
        {
          "output_type": "display_data",
          "data": {
            "text/plain": [
              "<Figure size 748.8x514.8 with 1 Axes>"
            ],
            "image/png": "[encoded data removed]"
          },
          "metadata": {}
        }
      ]
    },
    {
      "cell_type": "markdown",
      "source": [
        "##Distribuição de interesses"
      ],
      "metadata": {
        "id": "5rv9gyG3N3fs"
      }
    },
    {
      "cell_type": "code",
      "source": [
        "dados.JobRoleInterest.value_counts()"
      ],
      "metadata": {
        "colab": {
          "base_uri": "https://localhost:8080/"
        },
        "id": "JetUMs8aNgrt",
        "outputId": "b8bc847b-62ac-4bae-bc1c-052326b34653"
      },
      "execution_count": 119,
      "outputs": [
        {
          "output_type": "execute_result",
          "data": {
            "text/plain": [
              "Full-Stack Web Developer            2211\n",
              "  Front-End Web Developer           1173\n",
              "Back-End Web Developer               591\n",
              "  Data Scientist / Data Engineer     559\n",
              "  Mobile Developer                   335\n",
              "  User Experience Designer           235\n",
              "  DevOps / SysAdmin                  190\n",
              "  Product Manager                    167\n",
              "  Quality Assurance Engineer          91\n",
              "Name: JobRoleInterest, dtype: int64"
            ]
          },
          "metadata": {},
          "execution_count": 119
        }
      ]
    },
    {
      "cell_type": "code",
      "source": [
        "interesses = dados.JobRoleInterest.value_counts()\n",
        "interesses.plot(kind = 'bar')"
      ],
      "metadata": {
        "colab": {
          "base_uri": "https://localhost:8080/",
          "height": 680
        },
        "id": "Zu2O5dzKN_g9",
        "outputId": "aaa8bd7c-6a39-4001-b9a0-e95502a576e0"
      },
      "execution_count": 123,
      "outputs": [
        {
          "output_type": "execute_result",
          "data": {
            "text/plain": [
              "<matplotlib.axes._subplots.AxesSubplot at 0x7f487c758ca0>"
            ]
          },
          "metadata": {},
          "execution_count": 123
        },
        {
          "output_type": "display_data",
          "data": {
            "text/plain": [
              "<Figure size 748.8x514.8 with 1 Axes>"
            ],
            "image/png": "[encoded data removed]"
          },
          "metadata": {}
        }
      ]
    },
    {
      "cell_type": "code",
      "source": [
        "interesses = dados.JobRoleInterest.value_counts()\n",
        "plt.pie(interesses)\n",
        "plt.legend(interesses.index, bbox_to_anchor = (1,1))\n",
        "plt.show()"
      ],
      "metadata": {
        "colab": {
          "base_uri": "https://localhost:8080/",
          "height": 448
        },
        "id": "AzZy9OVLOVzU",
        "outputId": "516148e6-c374-4705-f647-22d7d91d9173"
      },
      "execution_count": 128,
      "outputs": [
        {
          "output_type": "display_data",
          "data": {
            "text/plain": [
              "<Figure size 748.8x514.8 with 1 Axes>"
            ],
            "image/png": "[encoded data removed]"
          },
          "metadata": {}
        }
      ]
    }
  ]
}