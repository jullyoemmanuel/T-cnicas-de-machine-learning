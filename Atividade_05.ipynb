{
  "nbformat": 4,
  "nbformat_minor": 0,
  "metadata": {
    "colab": {
      "provenance": [],
      "authorship_tag": "ABX9TyM4aDAdDrYP5yf26cKXEuTF",
      "include_colab_link": true
    },
    "kernelspec": {
      "name": "python3",
      "display_name": "Python 3"
    },
    "language_info": {
      "name": "python"
    }
  },
  "cells": [
    {
      "cell_type": "markdown",
      "metadata": {
        "id": "view-in-github",
        "colab_type": "text"
      },
      "source": [
        "<a href=\"https://colab.research.google.com/github/jullyoemmanuel/T-cnicas-de-machine-learning/blob/main/Atividade_05.ipynb\" target=\"_parent\"><img src=\"https://colab.research.google.com/assets/colab-badge.svg\" alt=\"Open In Colab\"/></a>"
      ]
    },
    {
      "cell_type": "markdown",
      "source": [
        "#Atividade 05"
      ],
      "metadata": {
        "id": "uMW0TFYso84w"
      }
    },
    {
      "cell_type": "markdown",
      "source": [
        "##i)"
      ],
      "metadata": {
        "id": "6Bm0jo-wpE8i"
      }
    },
    {
      "cell_type": "code",
      "execution_count": null,
      "metadata": {
        "id": "Mr5OO53nohg_"
      },
      "outputs": [],
      "source": [
        "class Pessoa():\n",
        "  def __init__(self, name, age): #variáveis da função\n",
        "    self.nome=name #atributo da classe\n",
        "    self.idade=age #atributo da classe\n",
        "  def nascimento(self, idade): #variável da função\n",
        "    return(2022-idade) #retorna o ano que a pessoa nasceu"
      ]
    },
    {
      "cell_type": "markdown",
      "source": [
        "##ii)"
      ],
      "metadata": {
        "id": "m-th9KvEpf2P"
      }
    },
    {
      "cell_type": "code",
      "source": [
        "pessoa1 = Pessoa(\"Maria\", 35) #criando um objeto a partir da classe Pessoa()\n",
        "\n",
        "\n"
      ],
      "metadata": {
        "colab": {
          "base_uri": "https://localhost:8080/"
        },
        "id": "UdKmVE3UpjQC",
        "outputId": "50cce5ac-31b0-4856-c53a-3498e92c43f2"
      },
      "execution_count": null,
      "outputs": [
        {
          "output_type": "execute_result",
          "data": {
            "text/plain": [
              "1987"
            ]
          },
          "metadata": {},
          "execution_count": 3
        }
      ]
    },
    {
      "cell_type": "code",
      "source": [
        "pessoa1.nome #chamando um atributo do objeto"
      ],
      "metadata": {
        "colab": {
          "base_uri": "https://localhost:8080/",
          "height": 35
        },
        "id": "YxAeZHqApupO",
        "outputId": "5a203f78-3ff9-4270-e0ec-491e66a06d42"
      },
      "execution_count": null,
      "outputs": [
        {
          "output_type": "execute_result",
          "data": {
            "text/plain": [
              "'Maria'"
            ],
            "application/vnd.google.colaboratory.intrinsic+json": {
              "type": "string"
            }
          },
          "metadata": {},
          "execution_count": 4
        }
      ]
    },
    {
      "cell_type": "code",
      "source": [
        "pessoa1.idade #chamando um atributo do objeto"
      ],
      "metadata": {
        "colab": {
          "base_uri": "https://localhost:8080/"
        },
        "id": "0kHf-wQFpvFZ",
        "outputId": "02e1f120-7372-48c2-8be6-729a2c91e13f"
      },
      "execution_count": null,
      "outputs": [
        {
          "output_type": "execute_result",
          "data": {
            "text/plain": [
              "35"
            ]
          },
          "metadata": {},
          "execution_count": 5
        }
      ]
    },
    {
      "cell_type": "code",
      "source": [
        "pessoa1.nascimento(35) #chamando um método do objeto"
      ],
      "metadata": {
        "colab": {
          "base_uri": "https://localhost:8080/"
        },
        "id": "GJcPaFJFpyDh",
        "outputId": "4512bb07-3464-4fc1-fb26-4c8f217b3b3f"
      },
      "execution_count": null,
      "outputs": [
        {
          "output_type": "execute_result",
          "data": {
            "text/plain": [
              "1987"
            ]
          },
          "metadata": {},
          "execution_count": 6
        }
      ]
    },
    {
      "cell_type": "markdown",
      "source": [
        "##iii)"
      ],
      "metadata": {
        "id": "p14iNnPJveIm"
      }
    },
    {
      "cell_type": "code",
      "source": [
        "listaDePessoas=[] #criando lista vazia\n",
        "for i in range(5): #frequencia de repetição do loop for, segundo a questão\n",
        "  nome = str(input(\"Nome: \")) #entrada de dados\n",
        "  idade = int(input(\"Idade: \")) #entrada de dados\n",
        "  pessoa = Pessoa(nome, idade) #criando objeto pessoa com a classe Pessoa()\n",
        "  listaDePessoas.append(pessoa) #cada elemento da lista é um objeto com métodos() e atributos\n",
        "for objeto in range(len(listaDePessoas)): #acessando cada objeto da lista de objetos pessoa\n",
        "  #Acessando os atributos nome e idade de cada objeto\n",
        "  print(\"Nome: %s, idade: %d \" %(listaDePessoas[objeto].nome, listaDePessoas[objeto].idade))"
      ],
      "metadata": {
        "id": "ek0uVnu6vhBJ"
      },
      "execution_count": null,
      "outputs": []
    },
    {
      "cell_type": "markdown",
      "source": [
        "#Lista"
      ],
      "metadata": {
        "id": "-B1i-syqwEd0"
      }
    },
    {
      "cell_type": "code",
      "source": [
        "class Pessoa():\n",
        "  def __init__(self, nome, idade):\n",
        "    self.nome = nome \n",
        "    self.idade = idade\n",
        "\n",
        "  def apresentacao(self):\n",
        "    print('Seja bem-vem vindo ao SENAC!') \n",
        "  \n",
        "\n",
        "class PessoaFisica(Pessoa):\n",
        "  def __init__(self, nome, idade, cpf):\n",
        "    super().__init__(nome,idade)\n",
        "    self.cpf = cpf\n",
        "\n",
        "  def apresentacao(self):\n",
        "    print('Seja bem-vem vindo ao SENAC!')\n",
        "\n",
        "  def impostoDeRenda(self,*salario):\n",
        "    ir = salario * 1.5/100\n",
        "    print('O valor do seu imposto de renda é R$', ir)\n",
        "    return ir \n",
        "\n",
        "class PessoaJuridica(Pessoa):\n",
        "  def __init__(self, nome, idade, cnpj):\n",
        "    super().__init__(nome,idade)\n",
        "    self.cnpj = cnpj\n",
        "\n",
        "  def apresentacao(self):\n",
        "    print('Seja bem-vem vindo ao SENAC!')\n",
        "\n",
        "  def impostoDeRenda(self, salario, porteDaEmpresa):\n",
        "    if porteDaEmpresa == 'p':\n",
        "      ir = salario * 10/100\n",
        "      print('O valor do seu imposto de renda é R$', ir)\n",
        "      return ir \n",
        "    \n",
        "    if porteDaEmpresa == 'm':\n",
        "      ir = salario * 15/100\n",
        "      print('O valor do seu imposto de renda é R$', ir)\n",
        "      return ir \n",
        "    \n",
        "    if porteDaEmpresa == 'p':\n",
        "      ir = salario * 20/100\n",
        "      print('O valor do seu imposto de renda é R$', ir)\n",
        "      return ir "
      ],
      "metadata": {
        "id": "LOi-4RWdwF9A"
      },
      "execution_count": 13,
      "outputs": []
    },
    {
      "cell_type": "code",
      "source": [
        "nome = input(\"Nome: \")\n",
        "idade = int(input(\"Idade: \")) \n",
        "\n",
        "tipo_pessoa = input('Pessoa fisica ou juridica? (f ou j)')\n",
        "\n",
        "if tipo_pessoa == 'f':\n",
        "  cpf = str(input(\"CPF: \"))\n",
        "  pessoa_fisica = PessoaFisica(nome, idade, cpf)\n",
        "  salario = float(input('Salário: '))\n",
        "  pessoa_fisica.impostoDeRenda(salario)\n",
        "\n",
        "if tipo_pessoa == 'j':\n",
        "  cnpj = str(input(\"CNPJ: \"))\n",
        "  pessoa_juridica = PessoaJuridica(nome, idade, cnpj)\n",
        "  salario = float(input('Salário: '))\n",
        "  porteDaEmpresa = input('Empresa grande, média ou pequena? (g/m/p)')\n",
        "  pessoa_juridica.impostoDeRenda(salario, porteDaEmpresa)"
      ],
      "metadata": {
        "colab": {
          "base_uri": "https://localhost:8080/"
        },
        "id": "YEalx6pPKTTR",
        "outputId": "fa2f1a4f-0f3c-425d-e4f2-e2e172cc54d1"
      },
      "execution_count": 14,
      "outputs": [
        {
          "output_type": "stream",
          "name": "stdout",
          "text": [
            "Nome: jullyo\n",
            "Idade: 24\n",
            "Pessoa fisica ou juridica? (f ou j)j\n",
            "CNPJ: 101001001\n",
            "Salário: 1337\n",
            "Empresa grande, média ou pequena? (g/m/p)m\n",
            "O valor do seu imposto de renda é R$ 200.55\n"
          ]
        }
      ]
    }
  ]
}