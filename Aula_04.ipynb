{
  "nbformat": 4,
  "nbformat_minor": 0,
  "metadata": {
    "colab": {
      "provenance": [],
      "collapsed_sections": [
        "FAveuoO6wX6X",
        "GokyMRRsx4Q8",
        "eHqSoUS61hui",
        "Om56-gWJ4DcT",
        "rEjxfQvV592G",
        "-IwlW5Yz8XGA",
        "cLWVEDXX-6ZL",
        "KAYmySycB3mE",
        "lrvGG6W9DuUM",
        "2FhEKjXVFxJ-",
        "yNJvjbGSFzWm",
        "1OZ3xp4RF0eG",
        "hZcI2_u2H6wZ"
      ],
      "authorship_tag": "ABX9TyM1TsVGDVOpf44j7twAOXzL",
      "include_colab_link": true
    },
    "kernelspec": {
      "name": "python3",
      "display_name": "Python 3"
    },
    "language_info": {
      "name": "python"
    }
  },
  "cells": [
    {
      "cell_type": "markdown",
      "metadata": {
        "id": "view-in-github",
        "colab_type": "text"
      },
      "source": [
        "<a href=\"https://colab.research.google.com/github/jullyoemmanuel/T-cnicas-de-machine-learning/blob/main/Aula_04.ipynb\" target=\"_parent\"><img src=\"https://colab.research.google.com/assets/colab-badge.svg\" alt=\"Open In Colab\"/></a>"
      ]
    },
    {
      "cell_type": "markdown",
      "source": [
        "#Aula 04"
      ],
      "metadata": {
        "id": "Gld4fs8gtK4C"
      }
    },
    {
      "cell_type": "markdown",
      "source": [
        "## Estrutura de repetição - for"
      ],
      "metadata": {
        "id": "FAveuoO6wX6X"
      }
    },
    {
      "cell_type": "code",
      "execution_count": null,
      "metadata": {
        "colab": {
          "base_uri": "https://localhost:8080/"
        },
        "id": "oS74wdcptDp5",
        "outputId": "2fbc9e7c-a976-4adf-e48e-48f0216d02f7"
      },
      "outputs": [
        {
          "output_type": "stream",
          "name": "stdout",
          "text": [
            "Estamos no elemento  1\n",
            "Estamos no elemento  2\n",
            "Estamos no elemento  3\n",
            "Estamos no elemento  4\n",
            "Estamos no elemento  5\n",
            "Estamos no elemento  6\n"
          ]
        }
      ],
      "source": [
        "for elemento in [1,2,3,4,5,6]:\n",
        "  print('Estamos no elemento ', elemento)"
      ]
    },
    {
      "cell_type": "code",
      "source": [
        "for elemento in 'STRING':\n",
        "  print('Estamos no elemento ', elemento)"
      ],
      "metadata": {
        "colab": {
          "base_uri": "https://localhost:8080/"
        },
        "id": "9AZoougxwRze",
        "outputId": "74938e3f-3cad-4ac6-9816-99558a05de87"
      },
      "execution_count": null,
      "outputs": [
        {
          "output_type": "stream",
          "name": "stdout",
          "text": [
            "Estamos no elemento  S\n",
            "Estamos no elemento  T\n",
            "Estamos no elemento  R\n",
            "Estamos no elemento  I\n",
            "Estamos no elemento  N\n",
            "Estamos no elemento  G\n"
          ]
        }
      ]
    },
    {
      "cell_type": "code",
      "source": [
        "for elemento in range(len('STRING')):\n",
        "  print('estamos no elemento ', elemento)"
      ],
      "metadata": {
        "colab": {
          "base_uri": "https://localhost:8080/"
        },
        "id": "s1_Ay5NUwuRK",
        "outputId": "1dd8e513-959b-4af1-f889-1ec744119b62"
      },
      "execution_count": null,
      "outputs": [
        {
          "output_type": "stream",
          "name": "stdout",
          "text": [
            "estamos no elemento  0\n",
            "estamos no elemento  1\n",
            "estamos no elemento  2\n",
            "estamos no elemento  3\n",
            "estamos no elemento  4\n",
            "estamos no elemento  5\n"
          ]
        }
      ]
    },
    {
      "cell_type": "markdown",
      "source": [
        "##Estrutura de repetição - while"
      ],
      "metadata": {
        "id": "GokyMRRsx4Q8"
      }
    },
    {
      "cell_type": "code",
      "source": [
        "elemento = 0"
      ],
      "metadata": {
        "id": "eGc2FltXxSHp"
      },
      "execution_count": null,
      "outputs": []
    },
    {
      "cell_type": "code",
      "source": [
        "while elemento <= len([1,2,3,4,5,6]):\n",
        "  print('Estamos no elemento ', elemento)\n",
        "  elemento +=1"
      ],
      "metadata": {
        "colab": {
          "base_uri": "https://localhost:8080/"
        },
        "id": "byNh8pNPyS93",
        "outputId": "5a0ec54d-a662-4d41-fa65-8800b5e7d58b"
      },
      "execution_count": null,
      "outputs": [
        {
          "output_type": "stream",
          "name": "stdout",
          "text": [
            "Estamos no elemento  0\n",
            "Estamos no elemento  1\n",
            "Estamos no elemento  2\n",
            "Estamos no elemento  3\n",
            "Estamos no elemento  4\n",
            "Estamos no elemento  5\n",
            "Estamos no elemento  6\n"
          ]
        }
      ]
    },
    {
      "cell_type": "code",
      "source": [
        "s = 'STRING'"
      ],
      "metadata": {
        "id": "F5XWG1h4y481"
      },
      "execution_count": null,
      "outputs": []
    },
    {
      "cell_type": "code",
      "source": [
        "indice = 0"
      ],
      "metadata": {
        "id": "IiLURw9OzG8L"
      },
      "execution_count": null,
      "outputs": []
    },
    {
      "cell_type": "code",
      "source": [
        "while indice in range(len(s)):\n",
        "  print('Estamos no elemento', s[indice])\n",
        "  indice +=1"
      ],
      "metadata": {
        "colab": {
          "base_uri": "https://localhost:8080/"
        },
        "id": "AxebMiAbzN4L",
        "outputId": "724d51ed-a47e-4ee4-ef6d-e7e62b28b7f9"
      },
      "execution_count": null,
      "outputs": [
        {
          "output_type": "stream",
          "name": "stdout",
          "text": [
            "Estamos no elemento S\n",
            "Estamos no elemento T\n",
            "Estamos no elemento R\n",
            "Estamos no elemento I\n",
            "Estamos no elemento N\n",
            "Estamos no elemento G\n"
          ]
        }
      ]
    },
    {
      "cell_type": "markdown",
      "source": [
        "##Funçao enumerate"
      ],
      "metadata": {
        "id": "eHqSoUS61hui"
      }
    },
    {
      "cell_type": "code",
      "source": [
        "palavra = 'tranquilo'\n",
        "for indice, letra in enumerate(palavra):\n",
        "  print(indice, letra)"
      ],
      "metadata": {
        "colab": {
          "base_uri": "https://localhost:8080/"
        },
        "id": "b2Dj88QqzbOy",
        "outputId": "d55febe3-2436-4804-ebd3-b4a3052b57c2"
      },
      "execution_count": null,
      "outputs": [
        {
          "output_type": "stream",
          "name": "stdout",
          "text": [
            "0 t\n",
            "1 r\n",
            "2 a\n",
            "3 n\n",
            "4 q\n",
            "5 u\n",
            "6 i\n",
            "7 l\n",
            "8 o\n"
          ]
        }
      ]
    },
    {
      "cell_type": "code",
      "source": [
        "lista = ['eat','sleep','repeat']\n",
        "palavra = 'geek'"
      ],
      "metadata": {
        "id": "ZdyE5D141vvt"
      },
      "execution_count": null,
      "outputs": []
    },
    {
      "cell_type": "code",
      "source": [
        "objeto1 = enumerate(lista)\n",
        "objeto2 = enumerate(palavra)"
      ],
      "metadata": {
        "id": "UgW14Um42Vtz"
      },
      "execution_count": null,
      "outputs": []
    },
    {
      "cell_type": "code",
      "source": [
        "print('Tipo: ', type(objeto1))\n",
        "print(list(enumerate(lista)))"
      ],
      "metadata": {
        "colab": {
          "base_uri": "https://localhost:8080/"
        },
        "id": "R7rmAo662ph6",
        "outputId": "510ad432-c320-4bd4-b9cd-d53f085052ed"
      },
      "execution_count": null,
      "outputs": [
        {
          "output_type": "stream",
          "name": "stdout",
          "text": [
            "Tipo:  <class 'enumerate'>\n",
            "[(0, 'eat'), (1, 'sleep'), (2, 'repeat')]\n"
          ]
        }
      ]
    },
    {
      "cell_type": "code",
      "source": [
        "print(list(enumerate(palavra,2)))"
      ],
      "metadata": {
        "colab": {
          "base_uri": "https://localhost:8080/"
        },
        "id": "snMeR4Zj3dlU",
        "outputId": "4171f6fc-9cb1-485c-b040-988ea389ea0b"
      },
      "execution_count": null,
      "outputs": [
        {
          "output_type": "stream",
          "name": "stdout",
          "text": [
            "[(2, 'g'), (3, 'e'), (4, 'e'), (5, 'k')]\n"
          ]
        }
      ]
    },
    {
      "cell_type": "markdown",
      "source": [
        "##Quiz"
      ],
      "metadata": {
        "id": "Om56-gWJ4DcT"
      }
    },
    {
      "cell_type": "code",
      "source": [
        "s = 'viva o python'\n",
        "for ch in s:\n",
        "  print('Oi')"
      ],
      "metadata": {
        "colab": {
          "base_uri": "https://localhost:8080/"
        },
        "id": "QvSPLtjS3ttg",
        "outputId": "2280ee52-789b-4e03-e63c-2d116dbdcef7"
      },
      "execution_count": null,
      "outputs": [
        {
          "output_type": "stream",
          "name": "stdout",
          "text": [
            "Oi\n",
            "Oi\n",
            "Oi\n",
            "Oi\n",
            "Oi\n",
            "Oi\n",
            "Oi\n",
            "Oi\n",
            "Oi\n",
            "Oi\n",
            "Oi\n",
            "Oi\n",
            "Oi\n"
          ]
        }
      ]
    },
    {
      "cell_type": "markdown",
      "source": [
        "##Desafio 1"
      ],
      "metadata": {
        "id": "rEjxfQvV592G"
      }
    },
    {
      "cell_type": "code",
      "source": [
        "for i in range(0,10):\n",
        "  n = int(input('Digite o seu número: '))\n",
        "  if (n % 2) == 0:\n",
        "    print('Par')\n",
        "  else:\n",
        "    print('Impar')"
      ],
      "metadata": {
        "colab": {
          "base_uri": "https://localhost:8080/"
        },
        "id": "wbTRvqwS4Qeu",
        "outputId": "e7fb4f4f-ae4a-443f-ae01-753808241395"
      },
      "execution_count": null,
      "outputs": [
        {
          "output_type": "stream",
          "name": "stdout",
          "text": [
            "Digite o seu número: 1\n",
            "Impar\n",
            "Digite o seu número: 2\n",
            "Par\n",
            "Digite o seu número: 6\n",
            "Par\n",
            "Digite o seu número: 5\n",
            "Impar\n",
            "Digite o seu número: 5\n",
            "Impar\n",
            "Digite o seu número: 2\n",
            "Par\n",
            "Digite o seu número: 1\n",
            "Impar\n",
            "Digite o seu número: 2\n",
            "Par\n",
            "Digite o seu número: 5\n",
            "Impar\n",
            "Digite o seu número: 2\n",
            "Par\n"
          ]
        }
      ]
    },
    {
      "cell_type": "markdown",
      "source": [
        "##Desafio 2"
      ],
      "metadata": {
        "id": "-IwlW5Yz8XGA"
      }
    },
    {
      "cell_type": "code",
      "source": [
        "semana = ['Domingo', 'Segunda', 'Terça', 'Quarta', 'Quinta', 'Sexta', 'Sábado']\n",
        "\n",
        "while True:\n",
        "  dia = input('Qual o dia da semana? ')\n",
        "  if dia == semana[0] or dia == semana[-1]:\n",
        "    print('descanso')\n",
        "  else:\n",
        "    print('trabalho')\n",
        "    break\n"
      ],
      "metadata": {
        "colab": {
          "base_uri": "https://localhost:8080/"
        },
        "id": "nlwwdUyS8aP7",
        "outputId": "996afb68-ba18-4967-ce55-02aceddcacc2"
      },
      "execution_count": null,
      "outputs": [
        {
          "output_type": "stream",
          "name": "stdout",
          "text": [
            "Qual o dia da semana? Domingo\n",
            "descanso\n",
            "Qual o dia da semana? Segunda\n",
            "trabalho\n"
          ]
        }
      ]
    },
    {
      "cell_type": "markdown",
      "source": [
        "##Desafio 3"
      ],
      "metadata": {
        "id": "cLWVEDXX-6ZL"
      }
    },
    {
      "cell_type": "code",
      "source": [
        "quantidade = int(input('Quantos numeros? '))\n",
        "lista = []\n",
        "for i in range(0, quantidade):\n",
        "  n = int(input('Digite o número: '))\n",
        "  if (n % 2) == 0:\n",
        "\n",
        "    lista.append(n)\n",
        "\n",
        "  else:\n",
        "    n = n ** 2\n",
        "    lista.append(n)\n",
        "print(lista)"
      ],
      "metadata": {
        "colab": {
          "base_uri": "https://localhost:8080/"
        },
        "id": "LB-sGcWz-y7u",
        "outputId": "bbedf6b3-941b-4602-ce5e-88605fec4b2c"
      },
      "execution_count": null,
      "outputs": [
        {
          "output_type": "stream",
          "name": "stdout",
          "text": [
            "Quantos numeros? 3\n",
            "Digite o número: 2\n",
            "Digite o número: 5\n",
            "Digite o número: 3\n",
            "[2, 25, 9]\n"
          ]
        }
      ]
    },
    {
      "cell_type": "markdown",
      "source": [
        "##Desafio 4"
      ],
      "metadata": {
        "id": "KAYmySycB3mE"
      }
    },
    {
      "cell_type": "code",
      "source": [
        "vogal = ['a','e','i','o','u']\n",
        "palavra = input('Digite uma palavra: ')\n",
        "\n",
        "for indice, letra in enumerate(palavra):\n",
        "  if letra in vogal:\n",
        "    print(indice, letra)"
      ],
      "metadata": {
        "colab": {
          "base_uri": "https://localhost:8080/"
        },
        "id": "b9m2c1HsApSh",
        "outputId": "d61e3d58-80c8-4c2c-a67b-7176115bfb75"
      },
      "execution_count": null,
      "outputs": [
        {
          "output_type": "stream",
          "name": "stdout",
          "text": [
            "Digite uma palavra: jullyo\n",
            "1 u\n",
            "5 o\n"
          ]
        }
      ]
    },
    {
      "cell_type": "markdown",
      "source": [
        "##Prática"
      ],
      "metadata": {
        "id": "lrvGG6W9DuUM"
      }
    },
    {
      "cell_type": "markdown",
      "source": [
        "###1)"
      ],
      "metadata": {
        "id": "2FhEKjXVFxJ-"
      }
    },
    {
      "cell_type": "code",
      "source": [
        "for nome in ['Retginaldo', 'Gisele Pintcher','Scoob','Marlene','Zezinho','Cibele','Suely']:\n",
        "  convite = ('Oi, ' + nome + '! Por favor, venha para o sábado pet em minha casa!')\n",
        "  print(convite)"
      ],
      "metadata": {
        "colab": {
          "base_uri": "https://localhost:8080/"
        },
        "id": "7W4dVqVADvt6",
        "outputId": "03fa940e-531a-4294-a686-7e86c684a861"
      },
      "execution_count": null,
      "outputs": [
        {
          "output_type": "stream",
          "name": "stdout",
          "text": [
            "Oi, Retginaldo! Por favor, venha para o sábado pet em minha casa!\n",
            "Oi, Gisele Pintcher! Por favor, venha para o sábado pet em minha casa!\n",
            "Oi, Scoob! Por favor, venha para o sábado pet em minha casa!\n",
            "Oi, Marlene! Por favor, venha para o sábado pet em minha casa!\n",
            "Oi, Zezinho! Por favor, venha para o sábado pet em minha casa!\n",
            "Oi, Cibele! Por favor, venha para o sábado pet em minha casa!\n",
            "Oi, Suely! Por favor, venha para o sábado pet em minha casa!\n"
          ]
        }
      ]
    },
    {
      "cell_type": "markdown",
      "source": [
        "###2)"
      ],
      "metadata": {
        "id": "yNJvjbGSFzWm"
      }
    },
    {
      "cell_type": "code",
      "source": [
        "lista = []\n",
        "for n in range(0,5):\n",
        "  fruta = input('Diga uma fruta: ').lower()\n",
        "  lista.append(fruta)\n",
        "if 'morango' in lista:\n",
        "  print('Então você gosta de morango!')\n",
        "else:\n",
        "  print('Você não gosta de morango!')"
      ],
      "metadata": {
        "colab": {
          "base_uri": "https://localhost:8080/"
        },
        "id": "UuTcnAqbEPE-",
        "outputId": "a7a1136e-230e-4f99-8ba5-596afc9273c6"
      },
      "execution_count": null,
      "outputs": [
        {
          "output_type": "stream",
          "name": "stdout",
          "text": [
            "Diga uma fruta: maça\n",
            "Diga uma fruta: abacaxi\n",
            "Diga uma fruta: morango\n",
            "Diga uma fruta: abacate\n",
            "Diga uma fruta: ll\n",
            "Então você gosta de morango!\n"
          ]
        }
      ]
    },
    {
      "cell_type": "markdown",
      "source": [
        "###3)"
      ],
      "metadata": {
        "id": "1OZ3xp4RF0eG"
      }
    },
    {
      "cell_type": "code",
      "source": [
        "for num in range(100,150):\n",
        "  if num % 2 == 0:\n",
        "    print(num)"
      ],
      "metadata": {
        "colab": {
          "base_uri": "https://localhost:8080/"
        },
        "id": "wkPqOY0MF1GW",
        "outputId": "2a55498c-cf21-49f2-bb91-bd620e7ec270"
      },
      "execution_count": null,
      "outputs": [
        {
          "output_type": "stream",
          "name": "stdout",
          "text": [
            "100\n",
            "102\n",
            "104\n",
            "106\n",
            "108\n",
            "110\n",
            "112\n",
            "114\n",
            "116\n",
            "118\n",
            "120\n",
            "122\n",
            "124\n",
            "126\n",
            "128\n",
            "130\n",
            "132\n",
            "134\n",
            "136\n",
            "138\n",
            "140\n",
            "142\n",
            "144\n",
            "146\n",
            "148\n"
          ]
        }
      ]
    },
    {
      "cell_type": "markdown",
      "source": [
        "###4)"
      ],
      "metadata": {
        "id": "hZcI2_u2H6wZ"
      }
    },
    {
      "cell_type": "code",
      "source": [
        "temperatura = 40\n",
        "\n",
        "while temperatura >= 25:\n",
        "  print(temperatura)\n",
        "\n",
        "  temperatura = temperatura - 1"
      ],
      "metadata": {
        "colab": {
          "base_uri": "https://localhost:8080/"
        },
        "id": "sBaMjKwjG4CD",
        "outputId": "d176de95-f8f5-41e7-f5a3-11884011d64e"
      },
      "execution_count": null,
      "outputs": [
        {
          "output_type": "stream",
          "name": "stdout",
          "text": [
            "40\n",
            "39\n",
            "38\n",
            "37\n",
            "36\n",
            "35\n",
            "34\n",
            "33\n",
            "32\n",
            "31\n",
            "30\n",
            "29\n",
            "28\n",
            "27\n",
            "26\n",
            "25\n"
          ]
        }
      ]
    }
  ]
}