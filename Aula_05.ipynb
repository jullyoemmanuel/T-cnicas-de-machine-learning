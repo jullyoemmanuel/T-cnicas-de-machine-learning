{
  "nbformat": 4,
  "nbformat_minor": 0,
  "metadata": {
    "colab": {
      "provenance": [],
      "authorship_tag": "ABX9TyPG3ojpzTIkFx0h44e9I/ti",
      "include_colab_link": true
    },
    "kernelspec": {
      "name": "python3",
      "display_name": "Python 3"
    },
    "language_info": {
      "name": "python"
    }
  },
  "cells": [
    {
      "cell_type": "markdown",
      "metadata": {
        "id": "view-in-github",
        "colab_type": "text"
      },
      "source": [
        "<a href=\"https://colab.research.google.com/github/jullyoemmanuel/T-cnicas-de-machine-learning/blob/main/Aula_05.ipynb\" target=\"_parent\"><img src=\"https://colab.research.google.com/assets/colab-badge.svg\" alt=\"Open In Colab\"/></a>"
      ]
    },
    {
      "cell_type": "markdown",
      "source": [
        "#Métodos e funções"
      ],
      "metadata": {
        "id": "LE0zJT3tFS_B"
      }
    },
    {
      "cell_type": "code",
      "source": [
        "def funcaoLeitura():\n",
        "  for i in range(5):\n",
        "    print('Número ', i)\n",
        "\n",
        "funcaoLeitura()"
      ],
      "metadata": {
        "colab": {
          "base_uri": "https://localhost:8080/"
        },
        "id": "uMXROkcpFbGM",
        "outputId": "c9780f76-ea49-40aa-ccfc-d3ad6eb76666"
      },
      "execution_count": null,
      "outputs": [
        {
          "output_type": "stream",
          "name": "stdout",
          "text": [
            "Número  0\n",
            "Número  1\n",
            "Número  2\n",
            "Número  3\n",
            "Número  4\n"
          ]
        }
      ]
    },
    {
      "cell_type": "code",
      "source": [
        "#Função para somar dois números\n",
        "def addNum(n1,n2):\n",
        "  print('O primeiro número é: ', n1)\n",
        "  print('O segundo número é: ', n2)\n",
        "  print('A soma dos números é: ', n1+n2)\n",
        "x = addNum(54,23)"
      ],
      "metadata": {
        "colab": {
          "base_uri": "https://localhost:8080/"
        },
        "id": "1skKo3Q5LOGO",
        "outputId": "2a27cac1-e12e-458c-80d3-aba22bc528b4"
      },
      "execution_count": null,
      "outputs": [
        {
          "output_type": "stream",
          "name": "stdout",
          "text": [
            "O primeiro número é:  54\n",
            "O segundo número é:  23\n",
            "A soma dos números é:  77\n"
          ]
        }
      ]
    },
    {
      "cell_type": "code",
      "source": [
        "varGlobal = 10\n",
        "def multiplicacao(num1,num2):\n",
        "  varGlobal = (num1 * num2)\n",
        "  print('Variável da função Multiplica: ', varGlobal)\n",
        "\n",
        "multiplicacao(5,4)\n",
        "print(varGlobal)"
      ],
      "metadata": {
        "colab": {
          "base_uri": "https://localhost:8080/"
        },
        "id": "MMCNY2qbN0_-",
        "outputId": "5d679cb5-6581-47b9-cc9e-5626be623166"
      },
      "execution_count": null,
      "outputs": [
        {
          "output_type": "stream",
          "name": "stdout",
          "text": [
            "Variável da função Multiplica:  20\n",
            "10\n"
          ]
        }
      ]
    },
    {
      "cell_type": "code",
      "source": [
        "varGlobal = 10\n",
        "def multiplicaca(num1,num2):\n",
        "  varLocal = (num1 * num2)\n",
        "  print('Variável da função Multiplica: ', varLocal)\n",
        "\n",
        "multiplicaca(5,4)"
      ],
      "metadata": {
        "colab": {
          "base_uri": "https://localhost:8080/"
        },
        "id": "QJVO0GDkPTG9",
        "outputId": "993b4ac4-87b9-47ca-ed62-8f0c3c0027fe"
      },
      "execution_count": null,
      "outputs": [
        {
          "output_type": "stream",
          "name": "stdout",
          "text": [
            "Variável da função Multiplica:  20\n"
          ]
        }
      ]
    },
    {
      "cell_type": "code",
      "source": [
        "print(varLocal)"
      ],
      "metadata": {
        "colab": {
          "base_uri": "https://localhost:8080/"
        },
        "id": "j8ficb-RPnU0",
        "outputId": "ca71c5ad-03fc-469e-8214-4e92161f8770"
      },
      "execution_count": null,
      "outputs": [
        {
          "output_type": "stream",
          "name": "stdout",
          "text": [
            "10\n"
          ]
        }
      ]
    },
    {
      "cell_type": "code",
      "source": [
        "for i in range(5): print(i)"
      ],
      "metadata": {
        "colab": {
          "base_uri": "https://localhost:8080/"
        },
        "id": "jwKVpwK4PqVk",
        "outputId": "8d5de832-2815-4c51-d766-cccac7f9b30e"
      },
      "execution_count": null,
      "outputs": [
        {
          "output_type": "stream",
          "name": "stdout",
          "text": [
            "0\n",
            "1\n",
            "2\n",
            "3\n",
            "4\n"
          ]
        }
      ]
    },
    {
      "cell_type": "code",
      "source": [
        "def separarTexto(texto): return texto.split()"
      ],
      "metadata": {
        "id": "3Ue7lnemRLX4"
      },
      "execution_count": null,
      "outputs": []
    },
    {
      "cell_type": "code",
      "source": [
        "token = separarTexto('Futebol Natação Vôlei')"
      ],
      "metadata": {
        "id": "N1BC0k8hThzR"
      },
      "execution_count": null,
      "outputs": []
    },
    {
      "cell_type": "code",
      "source": [
        "print(token)"
      ],
      "metadata": {
        "colab": {
          "base_uri": "https://localhost:8080/"
        },
        "id": "97OLlTvhTpdQ",
        "outputId": "c9daec26-13cf-4251-aa91-658161b39d1e"
      },
      "execution_count": null,
      "outputs": [
        {
          "output_type": "stream",
          "name": "stdout",
          "text": [
            "['Futebol', 'Natação', 'Vôlei']\n"
          ]
        }
      ]
    },
    {
      "cell_type": "code",
      "source": [
        "#Quando não sabemos a quantidade de parâmetros basta usar o * no parâmetro\n",
        "def variosParametros(*parametros):\n",
        "  for n, item in enumerate(parametros):\n",
        "    print('O parâmetros %d é: ' %(n), item)\n",
        "  return;"
      ],
      "metadata": {
        "id": "MV4YhIhuTrVB"
      },
      "execution_count": null,
      "outputs": []
    },
    {
      "cell_type": "code",
      "source": [
        "variosParametros('pitomba','jambo','siriguela','umbu')"
      ],
      "metadata": {
        "colab": {
          "base_uri": "https://localhost:8080/"
        },
        "id": "bFYGJruZU-iP",
        "outputId": "9f6fe02b-7bab-4cfa-88eb-4df50da0a0db"
      },
      "execution_count": null,
      "outputs": [
        {
          "output_type": "stream",
          "name": "stdout",
          "text": [
            "O parâmetros 0 é:  pitomba\n",
            "O parâmetros 1 é:  jambo\n",
            "O parâmetros 2 é:  siriguela\n",
            "O parâmetros 3 é:  umbu\n"
          ]
        }
      ]
    },
    {
      "cell_type": "code",
      "source": [
        "import math #pacote com um conjunto de funções matemática\n",
        "\n",
        "def numPrimo(num):\n",
        "  #verificando se um número é primo\n",
        "  if(num % 2) == 0 and num>2:\n",
        "    return ('Este número não é primo')\n",
        "  for i in range(3, int(math.sqrt(num)) + 1, 2):\n",
        "    if(num % i) == 0:\n",
        "      return ('Este número não é primo')\n",
        "  return('Este número é primo!')"
      ],
      "metadata": {
        "id": "XiDQNakgV6k6"
      },
      "execution_count": null,
      "outputs": []
    },
    {
      "cell_type": "code",
      "source": [
        "def soma(n1,n2):\n",
        "  return n1+n2\n",
        "\n",
        "def subtrai(n1,n2):\n",
        "  return n1-n2\n",
        "\n",
        "def multiplica(n1,n2):\n",
        "  return n1*n2\n",
        "\n",
        "def divide(n1,n2):\n",
        "  return n1/n2"
      ],
      "metadata": {
        "id": "9BfTtj6UXNWi"
      },
      "execution_count": null,
      "outputs": []
    },
    {
      "cell_type": "code",
      "source": [
        "while True:\n",
        "  print('+','='*10,'+')\n",
        "  print('MENU DE OPERAÇÕES')\n",
        "  print('1 - somar')\n",
        "  print('2 - subtrair')\n",
        "  print('3 - multiplicar')\n",
        "  print('4 - dividir')\n",
        "  print('0 - sair')\n",
        "  print('+','='*10,'+')\n",
        "\n",
        "  op = int(input())\n",
        "\n",
        "  if op == 0:\n",
        "    break\n",
        "\n",
        "  n1 = int(input('Primeiro número: ')) \n",
        "  n2 = int(input('Segundo número: '))\n",
        "\n",
        "  if op == 1:\n",
        "    print('O resultado da soma é: ', soma(n1,n2))\n",
        "  elif op == 2:\n",
        "    print('O resuldado da subitração é: ', subtrai(n1,n2))\n",
        "  elif op == 3:\n",
        "    print('O resultado da multiplicação é: ', multiplica(n1,n2))\n",
        "  elif op == 4:\n",
        "    print('O resultado da divisão é: ', divide(n1,n2))"
      ],
      "metadata": {
        "colab": {
          "base_uri": "https://localhost:8080/",
          "height": 747
        },
        "id": "lWj3GYiOY1vg",
        "outputId": "258258e9-663b-495c-ff00-42af976374eb"
      },
      "execution_count": null,
      "outputs": [
        {
          "output_type": "stream",
          "name": "stdout",
          "text": [
            "+ ========== +\n",
            "MENU DE OPERAÇÕES\n",
            "1 - somar\n",
            "2 - subtrair\n",
            "3 - multiplicar\n",
            "4 - dividir\n",
            "0 - sair\n",
            "+ ========== +\n",
            "2\n",
            "Primeiro número: 5\n",
            "Segundo número: 6\n",
            "O resuldado da subitração é:  -1\n",
            "+ ========== +\n",
            "MENU DE OPERAÇÕES\n",
            "1 - somar\n",
            "2 - subtrair\n",
            "3 - multiplicar\n",
            "4 - dividir\n",
            "0 - sair\n",
            "+ ========== +\n"
          ]
        },
        {
          "output_type": "error",
          "ename": "KeyboardInterrupt",
          "evalue": "ignored",
          "traceback": [
            "\u001b[0;31m---------------------------------------------------------------------------\u001b[0m",
            "\u001b[0;31mKeyboardInterrupt\u001b[0m                         Traceback (most recent call last)",
            "\u001b[0;32m<ipython-input-33-49a448f574ab>\u001b[0m in \u001b[0;36m<module>\u001b[0;34m\u001b[0m\n\u001b[1;32m      9\u001b[0m   \u001b[0mprint\u001b[0m\u001b[0;34m(\u001b[0m\u001b[0;34m'+'\u001b[0m\u001b[0;34m,\u001b[0m\u001b[0;34m'='\u001b[0m\u001b[0;34m*\u001b[0m\u001b[0;36m10\u001b[0m\u001b[0;34m,\u001b[0m\u001b[0;34m'+'\u001b[0m\u001b[0;34m)\u001b[0m\u001b[0;34m\u001b[0m\u001b[0;34m\u001b[0m\u001b[0m\n\u001b[1;32m     10\u001b[0m \u001b[0;34m\u001b[0m\u001b[0m\n\u001b[0;32m---> 11\u001b[0;31m   \u001b[0mop\u001b[0m \u001b[0;34m=\u001b[0m \u001b[0mint\u001b[0m\u001b[0;34m(\u001b[0m\u001b[0minput\u001b[0m\u001b[0;34m(\u001b[0m\u001b[0;34m)\u001b[0m\u001b[0;34m)\u001b[0m\u001b[0;34m\u001b[0m\u001b[0;34m\u001b[0m\u001b[0m\n\u001b[0m\u001b[1;32m     12\u001b[0m \u001b[0;34m\u001b[0m\u001b[0m\n\u001b[1;32m     13\u001b[0m   \u001b[0;32mif\u001b[0m \u001b[0mop\u001b[0m \u001b[0;34m==\u001b[0m \u001b[0;36m0\u001b[0m\u001b[0;34m:\u001b[0m\u001b[0;34m\u001b[0m\u001b[0;34m\u001b[0m\u001b[0m\n",
            "\u001b[0;32m/usr/local/lib/python3.8/dist-packages/ipykernel/kernelbase.py\u001b[0m in \u001b[0;36mraw_input\u001b[0;34m(self, prompt)\u001b[0m\n\u001b[1;32m    858\u001b[0m                 \u001b[0;34m\"raw_input was called, but this frontend does not support input requests.\"\u001b[0m\u001b[0;34m\u001b[0m\u001b[0;34m\u001b[0m\u001b[0m\n\u001b[1;32m    859\u001b[0m             )\n\u001b[0;32m--> 860\u001b[0;31m         return self._input_request(str(prompt),\n\u001b[0m\u001b[1;32m    861\u001b[0m             \u001b[0mself\u001b[0m\u001b[0;34m.\u001b[0m\u001b[0m_parent_ident\u001b[0m\u001b[0;34m,\u001b[0m\u001b[0;34m\u001b[0m\u001b[0;34m\u001b[0m\u001b[0m\n\u001b[1;32m    862\u001b[0m             \u001b[0mself\u001b[0m\u001b[0;34m.\u001b[0m\u001b[0m_parent_header\u001b[0m\u001b[0;34m,\u001b[0m\u001b[0;34m\u001b[0m\u001b[0;34m\u001b[0m\u001b[0m\n",
            "\u001b[0;32m/usr/local/lib/python3.8/dist-packages/ipykernel/kernelbase.py\u001b[0m in \u001b[0;36m_input_request\u001b[0;34m(self, prompt, ident, parent, password)\u001b[0m\n\u001b[1;32m    902\u001b[0m             \u001b[0;32mexcept\u001b[0m \u001b[0mKeyboardInterrupt\u001b[0m\u001b[0;34m:\u001b[0m\u001b[0;34m\u001b[0m\u001b[0;34m\u001b[0m\u001b[0m\n\u001b[1;32m    903\u001b[0m                 \u001b[0;31m# re-raise KeyboardInterrupt, to truncate traceback\u001b[0m\u001b[0;34m\u001b[0m\u001b[0;34m\u001b[0m\u001b[0;34m\u001b[0m\u001b[0m\n\u001b[0;32m--> 904\u001b[0;31m                 \u001b[0;32mraise\u001b[0m \u001b[0mKeyboardInterrupt\u001b[0m\u001b[0;34m(\u001b[0m\u001b[0;34m\"Interrupted by user\"\u001b[0m\u001b[0;34m)\u001b[0m \u001b[0;32mfrom\u001b[0m \u001b[0;32mNone\u001b[0m\u001b[0;34m\u001b[0m\u001b[0;34m\u001b[0m\u001b[0m\n\u001b[0m\u001b[1;32m    905\u001b[0m             \u001b[0;32mexcept\u001b[0m \u001b[0mException\u001b[0m \u001b[0;32mas\u001b[0m \u001b[0me\u001b[0m\u001b[0;34m:\u001b[0m\u001b[0;34m\u001b[0m\u001b[0;34m\u001b[0m\u001b[0m\n\u001b[1;32m    906\u001b[0m                 \u001b[0mself\u001b[0m\u001b[0;34m.\u001b[0m\u001b[0mlog\u001b[0m\u001b[0;34m.\u001b[0m\u001b[0mwarning\u001b[0m\u001b[0;34m(\u001b[0m\u001b[0;34m\"Invalid Message:\"\u001b[0m\u001b[0;34m,\u001b[0m \u001b[0mexc_info\u001b[0m\u001b[0;34m=\u001b[0m\u001b[0;32mTrue\u001b[0m\u001b[0;34m)\u001b[0m\u001b[0;34m\u001b[0m\u001b[0;34m\u001b[0m\u001b[0m\n",
            "\u001b[0;31mKeyboardInterrupt\u001b[0m: Interrupted by user"
          ]
        }
      ]
    },
    {
      "cell_type": "code",
      "source": [
        "class Pessoa():\n",
        "  def __init__(self, n, i):\n",
        "    self.nome = n\n",
        "    self.idade = i\n",
        "\n",
        "  def apresentacao(self):\n",
        "    print('Seja vem vindo ao sistema SENAC!')\n",
        "\n",
        "class PessoaFisica():\n",
        "  def __init__(self,n,i,cpf):\n",
        "    self.nome = n\n",
        "    self.idade = i\n",
        "    self.cpf = cpf\n",
        "\n",
        "  def apresentacao(self):\n",
        "    print('Seja bem vindo ao sistema SENAC!')\n",
        "\n",
        "  def impostoDeRenda(self, *salario):\n",
        "    s = sum(salario)\n",
        "    ir = s*0.015\n",
        "    print(' O valor do seu imposto de renda é R$', ir)\n",
        "    return ir\n",
        "\n",
        "class PessoaJuridica():\n",
        "  def __init__(self,n,i,cnpj):\n",
        "    self.nome = n\n",
        "    self.idade = i\n",
        "    self.cnpj = cnpj\n",
        "\n",
        "  def apresentacao(self):\n",
        "    print('Seja bem vindo ao python!')\n",
        "\n",
        "  def impostoDeRenda(self, salario):\n",
        "    ir = salario +0.10\n",
        "    print('O valor do seu imposto de renda é R$', ir)\n",
        "    return ir \n"
      ],
      "metadata": {
        "id": "9AiwtiXiZ9dI"
      },
      "execution_count": null,
      "outputs": []
    },
    {
      "cell_type": "code",
      "source": [
        "nome = str(input('Nome: '))\n",
        "age = int(input('Idade: '))\n",
        "cnpj= int(input('CNPJ: '))\n",
        "serumaninho = Pessoa(nome, age)\n",
        "\n",
        "comunidade = PessoaJuridica(nome, age, cnpj)"
      ],
      "metadata": {
        "colab": {
          "base_uri": "https://localhost:8080/"
        },
        "id": "AO7bncxdgKBg",
        "outputId": "e6958f1b-c195-45e5-a487-76c79ee99e53"
      },
      "execution_count": null,
      "outputs": [
        {
          "name": "stdout",
          "output_type": "stream",
          "text": [
            "Nome: Jullyo\n",
            "Idade: 24\n",
            "CNPJ: 1111111111\n"
          ]
        }
      ]
    },
    {
      "cell_type": "code",
      "source": [
        "serumaninho.apresentacao()"
      ],
      "metadata": {
        "id": "yp85LYSBISsc",
        "outputId": "b576dc41-0714-439a-b216-490137df85cd",
        "colab": {
          "base_uri": "https://localhost:8080/"
        }
      },
      "execution_count": null,
      "outputs": [
        {
          "output_type": "stream",
          "name": "stdout",
          "text": [
            "Seja vem vindo ao sistema SENAC!\n"
          ]
        }
      ]
    },
    {
      "cell_type": "code",
      "source": [
        "serumaninho.nome"
      ],
      "metadata": {
        "id": "Xh2iM3liIpKC",
        "outputId": "7e537c93-37a9-4ba2-c14f-b7291b35aa17",
        "colab": {
          "base_uri": "https://localhost:8080/",
          "height": 35
        }
      },
      "execution_count": null,
      "outputs": [
        {
          "output_type": "execute_result",
          "data": {
            "text/plain": [
              "'Jullyo'"
            ],
            "application/vnd.google.colaboratory.intrinsic+json": {
              "type": "string"
            }
          },
          "metadata": {},
          "execution_count": 11
        }
      ]
    },
    {
      "cell_type": "code",
      "source": [
        "comunidade.apresentacao()"
      ],
      "metadata": {
        "id": "MbARaOe-IcQQ",
        "outputId": "c2bc9556-0f0a-41ea-8dc1-78237e33f3a7",
        "colab": {
          "base_uri": "https://localhost:8080/"
        }
      },
      "execution_count": null,
      "outputs": [
        {
          "output_type": "stream",
          "name": "stdout",
          "text": [
            "Seja bem vindo ao python!\n"
          ]
        }
      ]
    },
    {
      "cell_type": "code",
      "source": [],
      "metadata": {
        "id": "dR_-pumQIoJ2"
      },
      "execution_count": null,
      "outputs": []
    }
  ]
}