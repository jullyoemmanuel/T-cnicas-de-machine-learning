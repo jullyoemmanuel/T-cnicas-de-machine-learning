{
  "nbformat": 4,
  "nbformat_minor": 0,
  "metadata": {
    "colab": {
      "provenance": [],
      "authorship_tag": "ABX9TyOIREtRpgjTnxl3Ks6mL4El",
      "include_colab_link": true
    },
    "kernelspec": {
      "name": "python3",
      "display_name": "Python 3"
    },
    "language_info": {
      "name": "python"
    }
  },
  "cells": [
    {
      "cell_type": "markdown",
      "metadata": {
        "id": "view-in-github",
        "colab_type": "text"
      },
      "source": [
        "<a href=\"https://colab.research.google.com/github/jullyoemmanuel/T-cnicas-de-machine-learning/blob/main/Atividade_01.ipynb\" target=\"_parent\"><img src=\"https://colab.research.google.com/assets/colab-badge.svg\" alt=\"Open In Colab\"/></a>"
      ]
    },
    {
      "cell_type": "markdown",
      "source": [
        "#Atividade aula 01"
      ],
      "metadata": {
        "id": "DPIdCn1cQVJr"
      }
    },
    {
      "cell_type": "markdown",
      "source": [
        "##1)"
      ],
      "metadata": {
        "id": "wQ9eVONZRTKV"
      }
    },
    {
      "cell_type": "code",
      "execution_count": null,
      "metadata": {
        "id": "eGNg8JZ5QPlQ"
      },
      "outputs": [],
      "source": [
        "a = 3 # O inteiro 3 é atribuido a variável a."
      ]
    },
    {
      "cell_type": "code",
      "source": [
        "b = 4 # O inteiro 4 é atribuido a variável b."
      ],
      "metadata": {
        "id": "HETFHTXuQZt3"
      },
      "execution_count": null,
      "outputs": []
    },
    {
      "cell_type": "code",
      "source": [
        "soma = a + b # É feita a soma aritimética dos inteiros a e b e é atribuido o resultado a variável soma."
      ],
      "metadata": {
        "id": "_m6NTllkQaoF"
      },
      "execution_count": null,
      "outputs": []
    },
    {
      "cell_type": "code",
      "source": [
        "print('A soma a + b é: soma') # Resultado da soma não é exibido, uma vez que a variável soma é interpretada como str."
      ],
      "metadata": {
        "colab": {
          "base_uri": "https://localhost:8080/"
        },
        "id": "4ZNBbE6SQhGe",
        "outputId": "dce639e1-409d-4fed-d0c6-6c668ccfe03c"
      },
      "execution_count": null,
      "outputs": [
        {
          "output_type": "stream",
          "name": "stdout",
          "text": [
            "A soma a + b é: soma\n"
          ]
        }
      ]
    },
    {
      "cell_type": "markdown",
      "source": [
        "##2)"
      ],
      "metadata": {
        "id": "iZa_Rt7RRVi1"
      }
    },
    {
      "cell_type": "code",
      "source": [
        "a = 3 # O inteiro 3 é atribuido a variável a."
      ],
      "metadata": {
        "id": "eQ6V6hjzRSCb"
      },
      "execution_count": null,
      "outputs": []
    },
    {
      "cell_type": "code",
      "source": [
        "b = 4 # O inteiro 4 é atribuido a variável b."
      ],
      "metadata": {
        "id": "4isbj7p5SEPP"
      },
      "execution_count": null,
      "outputs": []
    },
    {
      "cell_type": "code",
      "source": [
        "soma = a + b # É feita a soma aritimética dos inteiros a e b e é atribuido o resultado a variável soma."
      ],
      "metadata": {
        "id": "r_mGW1pgS0mL"
      },
      "execution_count": null,
      "outputs": []
    },
    {
      "cell_type": "code",
      "source": [
        "print('A soma a + b é:', soma) # Resultado da soma é exibido para o usuário após a str"
      ],
      "metadata": {
        "colab": {
          "base_uri": "https://localhost:8080/"
        },
        "id": "7qrwbW9fS1Yl",
        "outputId": "303bffb3-dad8-4b08-9f79-00caebba3b2b"
      },
      "execution_count": null,
      "outputs": [
        {
          "output_type": "stream",
          "name": "stdout",
          "text": [
            "A soma a + b é: 7\n"
          ]
        }
      ]
    },
    {
      "cell_type": "markdown",
      "source": [
        "##3)"
      ],
      "metadata": {
        "id": "_lJMfjkWTIUY"
      }
    },
    {
      "cell_type": "code",
      "source": [
        "a = 3 # O inteiro 3 é atribuido a variável a."
      ],
      "metadata": {
        "id": "8k0hONlwTGaG"
      },
      "execution_count": null,
      "outputs": []
    },
    {
      "cell_type": "code",
      "source": [
        "b = 4 # O inteiro 4 é atribuido a variável b."
      ],
      "metadata": {
        "id": "8ZDeIInyTQSv"
      },
      "execution_count": null,
      "outputs": []
    },
    {
      "cell_type": "code",
      "source": [
        "soma = a + b # É feita a soma aritimética dos inteiros a e b e é atribuido o resultado a variável soma."
      ],
      "metadata": {
        "id": "6ArK0fq-TRlP"
      },
      "execution_count": null,
      "outputs": []
    },
    {
      "cell_type": "code",
      "source": [
        "print('A soma', a ,'+', b ,'é:', soma) # O valor das variáveis é exibido ao usuário."
      ],
      "metadata": {
        "colab": {
          "base_uri": "https://localhost:8080/"
        },
        "id": "Yoz5dligTSuX",
        "outputId": "dbcd0605-4d47-4b0d-bfb3-db1c8a229774"
      },
      "execution_count": null,
      "outputs": [
        {
          "output_type": "stream",
          "name": "stdout",
          "text": [
            "A soma 3 + 4 é: 7\n"
          ]
        }
      ]
    },
    {
      "cell_type": "markdown",
      "source": [
        "##4)"
      ],
      "metadata": {
        "id": "9IttWI32UVWI"
      }
    },
    {
      "cell_type": "code",
      "source": [
        "PROMPT_1 = \"Digite o primeiro numero: \" # Atribui uma str a variável.\n",
        "PROMPT_2 = \"Digite o segundo numero: \" # Atribui uma str a variável.\n",
        "a = input(PROMPT_1) # Exibe a str da variável PROMPT_1 e solicita um valor ao usuário para atribuir a variavel 'a'.\n",
        "b = input(PROMPT_2) # Exibe a str da variável PROMPT_2 e solicita um valor ao usuário para atribuir a variavel 'b'.\n",
        "soma = a + b # Concatena as str 'a' e 'b'.\n",
        "print(\"A soma de\", a, \"+\", b, \"é:\", soma) # Exibe ao usuário o resultado."
      ],
      "metadata": {
        "colab": {
          "base_uri": "https://localhost:8080/"
        },
        "id": "H8MVuk81T5R9",
        "outputId": "97d3d331-9c7a-4a3d-c392-f7fdbfd618cd"
      },
      "execution_count": null,
      "outputs": [
        {
          "output_type": "stream",
          "name": "stdout",
          "text": [
            "Digite o primeiro numero: 5\n",
            "Digite o segundo numero: 6\n",
            "A soma de 5 + 6 é: 56\n"
          ]
        }
      ]
    },
    {
      "cell_type": "markdown",
      "source": [
        "##5)"
      ],
      "metadata": {
        "id": "ZgUI14_IXhB6"
      }
    },
    {
      "cell_type": "code",
      "source": [
        "a_str = input(\"Digite o primeiro numero: \") # Exibe uma str e solicita um valor ao usuário para atribuir a variavel 'a_str'.\n",
        "b_str = input(\"Digite o segundo numero: \") # Exibe uma str e solicita um valor ao usuário para atribuir a variavel 'b_str'.\n",
        "a_int = int(a_str) # converte string/texto para inteiro\n",
        "b_int = int(b_str) # converte string/texto para inteiro\n",
        "soma = a_int + b_int # soma dos int\n",
        "print(\"A soma de\", a_int, \"+\", b_int, \"eh igual a\", soma) # Exibe ao usuario o resultado da soma das variaves que foram transformadas em inteiros"
      ],
      "metadata": {
        "id": "g7yNQY4qWK_B",
        "colab": {
          "base_uri": "https://localhost:8080/"
        },
        "outputId": "47612456-d2af-491c-cf3a-8fe3efef1ec3"
      },
      "execution_count": 2,
      "outputs": [
        {
          "output_type": "stream",
          "name": "stdout",
          "text": [
            "Digite o primeiro numero: 6\n",
            "Digite o segundo numero: 2\n",
            "A soma de 6 + 2 eh igual a 8\n"
          ]
        }
      ]
    },
    {
      "cell_type": "markdown",
      "source": [
        "#6"
      ],
      "metadata": {
        "id": "Tfrm7yN061kb"
      }
    },
    {
      "cell_type": "code",
      "source": [
        "a = int(input(\"Digite o primeiro numero: \")) # Exibe uma str e solicita um valor que é convertido para int.\n",
        "b = int(input(\"Digite o segundo numero: \")) # Exibe uma str e solicita um valor que é convertido para int.\n",
        "soma = a + b # soma dos int\n",
        "print(\"A soma de\", a, \"+\", b, \"eh igual a\", soma) # Exibe ao usuario o resultado da soma das variaves que foram transformadas em inteiros"
      ],
      "metadata": {
        "colab": {
          "base_uri": "https://localhost:8080/"
        },
        "id": "vVF69Y5W6fgI",
        "outputId": "a2a0102e-3bf3-4602-9837-14f0e14328e6"
      },
      "execution_count": 3,
      "outputs": [
        {
          "output_type": "stream",
          "name": "stdout",
          "text": [
            "Digite o primeiro numero: 8\n",
            "Digite o segundo numero: 5\n",
            "A soma de 8 + 5 eh igual a 13\n"
          ]
        }
      ]
    },
    {
      "cell_type": "code",
      "source": [],
      "metadata": {
        "id": "u_xwYh-N7Ok7"
      },
      "execution_count": null,
      "outputs": []
    }
  ]
}