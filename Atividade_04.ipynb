{
  "nbformat": 4,
  "nbformat_minor": 0,
  "metadata": {
    "colab": {
      "provenance": [],
      "authorship_tag": "ABX9TyMwgiqUXjwxt3lcJH3y5y5O",
      "include_colab_link": true
    },
    "kernelspec": {
      "name": "python3",
      "display_name": "Python 3"
    },
    "language_info": {
      "name": "python"
    }
  },
  "cells": [
    {
      "cell_type": "markdown",
      "metadata": {
        "id": "view-in-github",
        "colab_type": "text"
      },
      "source": [
        "<a href=\"https://colab.research.google.com/github/jullyoemmanuel/T-cnicas-de-machine-learning/blob/main/Atividade_04.ipynb\" target=\"_parent\"><img src=\"https://colab.research.google.com/assets/colab-badge.svg\" alt=\"Open In Colab\"/></a>"
      ]
    },
    {
      "cell_type": "markdown",
      "source": [
        "\n",
        "#<font color = orange>Atividade 04<font/> "
      ],
      "metadata": {
        "id": "TykuN7gJjR5c"
      }
    },
    {
      "cell_type": "markdown",
      "source": [
        "##1)"
      ],
      "metadata": {
        "id": "FpWeQFnKpXM8"
      }
    },
    {
      "cell_type": "code",
      "execution_count": 4,
      "metadata": {
        "id": "54PqqneLpR7s",
        "colab": {
          "base_uri": "https://localhost:8080/"
        },
        "outputId": "9b6e42be-f651-49b5-d38a-02debe74b761"
      },
      "outputs": [
        {
          "output_type": "stream",
          "name": "stdout",
          "text": [
            "0\n",
            "1\n",
            "2\n",
            "3\n",
            "4\n",
            "5\n",
            "6\n",
            "7\n",
            "8\n",
            "9\n",
            "10\n",
            "11\n",
            "12\n",
            "13\n",
            "14\n",
            "15\n",
            "16\n",
            "17\n",
            "18\n",
            "19\n",
            "20\n",
            "21\n",
            "22\n",
            "23\n",
            "24\n",
            "25\n",
            "26\n",
            "27\n",
            "28\n",
            "29\n",
            "30\n",
            "31\n",
            "32\n",
            "33\n",
            "34\n",
            "35\n",
            "36\n",
            "37\n",
            "38\n",
            "39\n",
            "40\n",
            "41\n",
            "42\n",
            "43\n",
            "44\n",
            "45\n",
            "46\n",
            "47\n",
            "48\n",
            "49\n",
            "50\n",
            "51\n",
            "52\n",
            "53\n",
            "54\n",
            "55\n",
            "56\n",
            "57\n",
            "58\n",
            "59\n",
            "60\n",
            "61\n",
            "62\n",
            "63\n",
            "64\n",
            "65\n",
            "66\n",
            "67\n",
            "68\n",
            "69\n",
            "70\n",
            "71\n",
            "72\n",
            "73\n",
            "74\n",
            "75\n",
            "76\n",
            "77\n",
            "78\n",
            "79\n",
            "80\n",
            "81\n",
            "82\n",
            "83\n",
            "84\n",
            "85\n",
            "86\n",
            "87\n",
            "88\n",
            "89\n",
            "90\n",
            "91\n",
            "92\n",
            "93\n",
            "94\n",
            "95\n",
            "96\n",
            "97\n",
            "98\n",
            "99\n"
          ]
        }
      ],
      "source": [
        "cont = 0\n",
        "while cont < 100: \n",
        "  print(cont)\n",
        "  cont += 1 \n",
        "# for cont in range(100): print(cont) # outra forma"
      ]
    },
    {
      "cell_type": "markdown",
      "source": [
        "##2)"
      ],
      "metadata": {
        "id": "8rtWVXQhjMjd"
      }
    },
    {
      "cell_type": "code",
      "source": [
        "lista = []\n",
        "var = 4\n",
        "for i in range(var, 21): \n",
        "  if (i % 2) == 0:\n",
        "    lista.append(i)\n",
        "print(lista)"
      ],
      "metadata": {
        "colab": {
          "base_uri": "https://localhost:8080/"
        },
        "id": "vEf3zwSRif4Q",
        "outputId": "d6b78836-567c-4525-a4f2-41cd3a3c92c6"
      },
      "execution_count": 6,
      "outputs": [
        {
          "output_type": "stream",
          "name": "stdout",
          "text": [
            "[4, 6, 8, 10, 12, 14, 16, 18, 20]\n"
          ]
        }
      ]
    },
    {
      "cell_type": "markdown",
      "source": [
        "##3)"
      ],
      "metadata": {
        "id": "vpnKBByknrbG"
      }
    },
    {
      "cell_type": "code",
      "source": [
        "temperatura = float(input('Qual a temperatura? '))\n",
        "if temperatura > 30:\n",
        "  print('Vista roupas leves.')\n",
        "else:\n",
        "  print('Busque seus casacos.')"
      ],
      "metadata": {
        "colab": {
          "base_uri": "https://localhost:8080/"
        },
        "id": "44ngsOUInbRT",
        "outputId": "91251de0-3158-4c21-f7c7-95548f621a03"
      },
      "execution_count": 9,
      "outputs": [
        {
          "output_type": "stream",
          "name": "stdout",
          "text": [
            "Qual a temperatura? 23\n",
            "Busque seus casacos.\n"
          ]
        }
      ]
    },
    {
      "cell_type": "markdown",
      "source": [
        "##4)"
      ],
      "metadata": {
        "id": "XF8ysRLbp6zD"
      }
    },
    {
      "cell_type": "code",
      "source": [
        "cont = 0\n",
        "quote = 'Educação não transforma o mundo. Educação muda pessoas. Pessoas transformam o mundo.'\n",
        "for i in quote:\n",
        "  if i == 's':\n",
        "    cont += 1\n",
        "print(cont)"
      ],
      "metadata": {
        "colab": {
          "base_uri": "https://localhost:8080/"
        },
        "id": "OY6-OpGDoSNQ",
        "outputId": "658b8d61-59d5-468d-a3dc-27afc52baf90"
      },
      "execution_count": 10,
      "outputs": [
        {
          "output_type": "stream",
          "name": "stdout",
          "text": [
            "8\n"
          ]
        }
      ]
    },
    {
      "cell_type": "markdown",
      "source": [
        "##6)"
      ],
      "metadata": {
        "id": "-vueKLyyrvfC"
      }
    },
    {
      "cell_type": "code",
      "source": [
        "lista = ['a', 'b', 'c', 'd', 'e', 'f', 'g', 'h']\n",
        "print(lista[5:])"
      ],
      "metadata": {
        "colab": {
          "base_uri": "https://localhost:8080/"
        },
        "id": "EisxjVdbrWIG",
        "outputId": "80361d2b-bb64-410f-d5ad-a413ccc21446"
      },
      "execution_count": 11,
      "outputs": [
        {
          "output_type": "stream",
          "name": "stdout",
          "text": [
            "['f', 'g', 'h']\n"
          ]
        }
      ]
    },
    {
      "cell_type": "markdown",
      "source": [
        "##7)"
      ],
      "metadata": {
        "id": "9NyKRLJ0r6_h"
      }
    },
    {
      "cell_type": "code",
      "source": [
        "dict1 = {'a':1,'b':2} \n",
        "dict2 = {'c':4,'d':5}\n",
        "dict3 = dict1\n",
        "\n",
        "dict3['a'] = dict2['c']\n",
        "dict3['b'] = dict2['d']\n",
        "\n",
        "print(dict3)"
      ],
      "metadata": {
        "colab": {
          "base_uri": "https://localhost:8080/"
        },
        "id": "J4QbJbu7r178",
        "outputId": "64a6a4cc-f4ba-4094-b627-f1fc59a1521d"
      },
      "execution_count": 13,
      "outputs": [
        {
          "output_type": "stream",
          "name": "stdout",
          "text": [
            "{'a': 4, 'b': 5}\n"
          ]
        }
      ]
    },
    {
      "cell_type": "markdown",
      "source": [
        "##8)"
      ],
      "metadata": {
        "id": "AICTjek9twpl"
      }
    },
    {
      "cell_type": "code",
      "source": [
        "for um_valor in range(10): print(um_valor)"
      ],
      "metadata": {
        "colab": {
          "base_uri": "https://localhost:8080/"
        },
        "id": "dCc287eytZkv",
        "outputId": "293f084d-84cf-402a-d896-f142682d8587"
      },
      "execution_count": 14,
      "outputs": [
        {
          "output_type": "stream",
          "name": "stdout",
          "text": [
            "0\n",
            "1\n",
            "2\n",
            "3\n",
            "4\n",
            "5\n",
            "6\n",
            "7\n",
            "8\n",
            "9\n"
          ]
        }
      ]
    },
    {
      "cell_type": "markdown",
      "source": [
        "##9)"
      ],
      "metadata": {
        "id": "dfiwd0E5t24j"
      }
    },
    {
      "cell_type": "code",
      "source": [
        "for um_char in \"Venha para a festa\": print(um_char)"
      ],
      "metadata": {
        "colab": {
          "base_uri": "https://localhost:8080/"
        },
        "id": "3o9DgIuIt4s9",
        "outputId": "85654a7c-925b-4ea8-c7cf-be3630d5fa06"
      },
      "execution_count": 15,
      "outputs": [
        {
          "output_type": "stream",
          "name": "stdout",
          "text": [
            "V\n",
            "e\n",
            "n\n",
            "h\n",
            "a\n",
            " \n",
            "p\n",
            "a\n",
            "r\n",
            "a\n",
            " \n",
            "a\n",
            " \n",
            "f\n",
            "e\n",
            "s\n",
            "t\n",
            "a\n"
          ]
        }
      ]
    }
  ]
}