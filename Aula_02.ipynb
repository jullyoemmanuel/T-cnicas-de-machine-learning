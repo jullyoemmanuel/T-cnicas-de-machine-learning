{
  "nbformat": 4,
  "nbformat_minor": 0,
  "metadata": {
    "colab": {
      "provenance": [],
      "include_colab_link": true
    },
    "kernelspec": {
      "name": "python3",
      "display_name": "Python 3"
    },
    "language_info": {
      "name": "python"
    }
  },
  "cells": [
    {
      "cell_type": "markdown",
      "metadata": {
        "id": "view-in-github",
        "colab_type": "text"
      },
      "source": [
        "<a href=\"https://colab.research.google.com/github/jullyoemmanuel/T-cnicas-de-machine-learning/blob/main/Aula_02.ipynb\" target=\"_parent\"><img src=\"https://colab.research.google.com/assets/colab-badge.svg\" alt=\"Open In Colab\"/></a>"
      ]
    },
    {
      "cell_type": "markdown",
      "source": [
        "# Aula 02"
      ],
      "metadata": {
        "id": "yjaDlrkPNycc"
      }
    },
    {
      "cell_type": "markdown",
      "source": [
        "##Operadores"
      ],
      "metadata": {
        "id": "5GA9cOzAiZHk"
      }
    },
    {
      "cell_type": "code",
      "source": [
        "idade1 = 20"
      ],
      "metadata": {
        "id": "kRvattbnN0y7"
      },
      "execution_count": null,
      "outputs": []
    },
    {
      "cell_type": "code",
      "source": [
        "idade2 = 35"
      ],
      "metadata": {
        "id": "AuBWQsa7SWxi"
      },
      "execution_count": null,
      "outputs": []
    },
    {
      "cell_type": "code",
      "source": [
        "idade1 + idade2"
      ],
      "metadata": {
        "colab": {
          "base_uri": "https://localhost:8080/"
        },
        "id": "ibcGAbhCSZ0K",
        "outputId": "7e5cada3-a15c-47f8-a0a6-a0930229ceb4"
      },
      "execution_count": null,
      "outputs": [
        {
          "output_type": "execute_result",
          "data": {
            "text/plain": [
              "55"
            ]
          },
          "metadata": {},
          "execution_count": 3
        }
      ]
    },
    {
      "cell_type": "code",
      "source": [
        "somaIdades = idade1 + idade2"
      ],
      "metadata": {
        "id": "kvejx_QuSpfk"
      },
      "execution_count": null,
      "outputs": []
    },
    {
      "cell_type": "code",
      "source": [
        "idade1 - idade2"
      ],
      "metadata": {
        "colab": {
          "base_uri": "https://localhost:8080/"
        },
        "id": "2-y8DoYzS2jk",
        "outputId": "f2a7c3f5-4244-439c-e86b-0df78fe361dc"
      },
      "execution_count": null,
      "outputs": [
        {
          "output_type": "execute_result",
          "data": {
            "text/plain": [
              "-15"
            ]
          },
          "metadata": {},
          "execution_count": 5
        }
      ]
    },
    {
      "cell_type": "code",
      "source": [
        "idade1*idade2"
      ],
      "metadata": {
        "colab": {
          "base_uri": "https://localhost:8080/"
        },
        "id": "itsB71p6S6Kk",
        "outputId": "b571c7d8-a9eb-4f9d-90fd-7a9a0345e856"
      },
      "execution_count": null,
      "outputs": [
        {
          "output_type": "execute_result",
          "data": {
            "text/plain": [
              "700"
            ]
          },
          "metadata": {},
          "execution_count": 6
        }
      ]
    },
    {
      "cell_type": "code",
      "source": [
        "idade1/idade2"
      ],
      "metadata": {
        "colab": {
          "base_uri": "https://localhost:8080/"
        },
        "id": "-Okw4UmCS9L8",
        "outputId": "0292f307-4eb8-4ec7-dc7a-6123c4c7ed2f"
      },
      "execution_count": null,
      "outputs": [
        {
          "output_type": "execute_result",
          "data": {
            "text/plain": [
              "0.5714285714285714"
            ]
          },
          "metadata": {},
          "execution_count": 7
        }
      ]
    },
    {
      "cell_type": "code",
      "source": [
        "idade1+10"
      ],
      "metadata": {
        "colab": {
          "base_uri": "https://localhost:8080/"
        },
        "id": "dZz7icEBS_c7",
        "outputId": "82377e98-529c-4319-9249-1a5e63eca55f"
      },
      "execution_count": null,
      "outputs": [
        {
          "output_type": "execute_result",
          "data": {
            "text/plain": [
              "30"
            ]
          },
          "metadata": {},
          "execution_count": 8
        }
      ]
    },
    {
      "cell_type": "code",
      "source": [
        "idade1 - 15"
      ],
      "metadata": {
        "colab": {
          "base_uri": "https://localhost:8080/"
        },
        "id": "ztkO7Ko8TJfz",
        "outputId": "f60edabe-bef0-491c-9cb7-432a5860dabc"
      },
      "execution_count": null,
      "outputs": [
        {
          "output_type": "execute_result",
          "data": {
            "text/plain": [
              "5"
            ]
          },
          "metadata": {},
          "execution_count": 9
        }
      ]
    },
    {
      "cell_type": "code",
      "source": [
        "idade1 * 4"
      ],
      "metadata": {
        "colab": {
          "base_uri": "https://localhost:8080/"
        },
        "id": "zXvSJlnWTKxj",
        "outputId": "2fbd38c5-4441-4429-ee6f-10cf7940bbaa"
      },
      "execution_count": null,
      "outputs": [
        {
          "output_type": "execute_result",
          "data": {
            "text/plain": [
              "80"
            ]
          },
          "metadata": {},
          "execution_count": 10
        }
      ]
    },
    {
      "cell_type": "code",
      "source": [
        "idade1 / 5"
      ],
      "metadata": {
        "colab": {
          "base_uri": "https://localhost:8080/"
        },
        "id": "C1NKp9GpTMNb",
        "outputId": "a0822d05-6149-40a9-a59e-794846314873"
      },
      "execution_count": null,
      "outputs": [
        {
          "output_type": "execute_result",
          "data": {
            "text/plain": [
              "4.0"
            ]
          },
          "metadata": {},
          "execution_count": 11
        }
      ]
    },
    {
      "cell_type": "code",
      "source": [
        "2 * (idade1+ idade2)"
      ],
      "metadata": {
        "colab": {
          "base_uri": "https://localhost:8080/"
        },
        "id": "hEaH7PbmTNhj",
        "outputId": "58ade9c7-4fef-4113-ee0e-113aad69c013"
      },
      "execution_count": null,
      "outputs": [
        {
          "output_type": "execute_result",
          "data": {
            "text/plain": [
              "110"
            ]
          },
          "metadata": {},
          "execution_count": 12
        }
      ]
    },
    {
      "cell_type": "code",
      "source": [
        "2 * idade1 + 3 * idade2 / 4"
      ],
      "metadata": {
        "colab": {
          "base_uri": "https://localhost:8080/"
        },
        "id": "DdI_j3aITZyj",
        "outputId": "3dd925e6-c029-4d15-e7ca-67dc9e9a4e1f"
      },
      "execution_count": null,
      "outputs": [
        {
          "output_type": "execute_result",
          "data": {
            "text/plain": [
              "66.25"
            ]
          },
          "metadata": {},
          "execution_count": 13
        }
      ]
    },
    {
      "cell_type": "code",
      "source": [
        "(2 * idade1 + 3 * idade2) / 4"
      ],
      "metadata": {
        "colab": {
          "base_uri": "https://localhost:8080/"
        },
        "id": "SQx0FP1ITiYD",
        "outputId": "29e9092b-6c08-4fc0-84b6-733c0660df6d"
      },
      "execution_count": null,
      "outputs": [
        {
          "output_type": "execute_result",
          "data": {
            "text/plain": [
              "36.25"
            ]
          },
          "metadata": {},
          "execution_count": 15
        }
      ]
    },
    {
      "cell_type": "code",
      "source": [
        "idade1 ** 2"
      ],
      "metadata": {
        "colab": {
          "base_uri": "https://localhost:8080/"
        },
        "id": "sw1IAuPVTvQD",
        "outputId": "f8ab00a3-18e4-4d75-f559-b0e3dda3a3e7"
      },
      "execution_count": null,
      "outputs": [
        {
          "output_type": "execute_result",
          "data": {
            "text/plain": [
              "400"
            ]
          },
          "metadata": {},
          "execution_count": 16
        }
      ]
    },
    {
      "cell_type": "code",
      "source": [
        "15 ** 2"
      ],
      "metadata": {
        "colab": {
          "base_uri": "https://localhost:8080/"
        },
        "id": "f1rADLyWT2_z",
        "outputId": "2c92b807-ae92-470f-c4b7-fe33973915c3"
      },
      "execution_count": null,
      "outputs": [
        {
          "output_type": "execute_result",
          "data": {
            "text/plain": [
              "225"
            ]
          },
          "metadata": {},
          "execution_count": 17
        }
      ]
    },
    {
      "cell_type": "code",
      "source": [
        "idade2 // idade1"
      ],
      "metadata": {
        "colab": {
          "base_uri": "https://localhost:8080/"
        },
        "id": "g1m7QCLgT5ez",
        "outputId": "615f1574-10cc-4344-bc28-effe6a22ba58"
      },
      "execution_count": null,
      "outputs": [
        {
          "output_type": "execute_result",
          "data": {
            "text/plain": [
              "1"
            ]
          },
          "metadata": {},
          "execution_count": 18
        }
      ]
    },
    {
      "cell_type": "code",
      "source": [
        "idade2 / idade1"
      ],
      "metadata": {
        "colab": {
          "base_uri": "https://localhost:8080/"
        },
        "id": "A4QYUz3CUWb7",
        "outputId": "56f0b3d2-9889-428d-acc3-ef42fb18b773"
      },
      "execution_count": null,
      "outputs": [
        {
          "output_type": "execute_result",
          "data": {
            "text/plain": [
              "1.75"
            ]
          },
          "metadata": {},
          "execution_count": 19
        }
      ]
    },
    {
      "cell_type": "code",
      "source": [
        "idade2 % idade1"
      ],
      "metadata": {
        "colab": {
          "base_uri": "https://localhost:8080/"
        },
        "id": "4k9_u4CFUY27",
        "outputId": "3b1df654-1a08-4e2f-b63b-78aae72f99ab"
      },
      "execution_count": null,
      "outputs": [
        {
          "output_type": "execute_result",
          "data": {
            "text/plain": [
              "15"
            ]
          },
          "metadata": {},
          "execution_count": 20
        }
      ]
    },
    {
      "cell_type": "markdown",
      "source": [
        "##Concatenação"
      ],
      "metadata": {
        "id": "UDe4udbCid88"
      }
    },
    {
      "cell_type": "code",
      "source": [
        "nome = 'Jullyo'"
      ],
      "metadata": {
        "id": "w0CfLbBeUoSb"
      },
      "execution_count": null,
      "outputs": []
    },
    {
      "cell_type": "code",
      "source": [
        "sobrenome = 'Emmanuel'"
      ],
      "metadata": {
        "id": "KGwIbJ5EUv1z"
      },
      "execution_count": null,
      "outputs": []
    },
    {
      "cell_type": "code",
      "source": [
        "print(nome + sobrenome)"
      ],
      "metadata": {
        "colab": {
          "base_uri": "https://localhost:8080/"
        },
        "id": "Px5x_RtTU1Kb",
        "outputId": "2804e747-54f6-4114-f463-9fe54e55a1d4"
      },
      "execution_count": null,
      "outputs": [
        {
          "output_type": "stream",
          "name": "stdout",
          "text": [
            "JullyoEmmanuel\n"
          ]
        }
      ]
    },
    {
      "cell_type": "code",
      "source": [
        "print(nome + ' ' + sobrenome)"
      ],
      "metadata": {
        "colab": {
          "base_uri": "https://localhost:8080/"
        },
        "id": "fmNbG4vFU5sz",
        "outputId": "0c3aaa98-54e3-48f6-e722-6644662abfe3"
      },
      "execution_count": null,
      "outputs": [
        {
          "output_type": "stream",
          "name": "stdout",
          "text": [
            "Jullyo Emmanuel\n"
          ]
        }
      ]
    },
    {
      "cell_type": "code",
      "source": [
        "print('Olá,', nome, 'você tem', idade1 + 4, 'anos.')"
      ],
      "metadata": {
        "colab": {
          "base_uri": "https://localhost:8080/"
        },
        "id": "ZnEI5QitVJJT",
        "outputId": "8e0a509a-47a4-4320-901a-9af5b68b19b6"
      },
      "execution_count": null,
      "outputs": [
        {
          "output_type": "stream",
          "name": "stdout",
          "text": [
            "Olá, Jullyo você tem 24 anos.\n"
          ]
        }
      ]
    },
    {
      "cell_type": "code",
      "source": [
        "print(' Olá,', nome, '\\n' , 'você tem' , idade1 + 4, 'anos.')"
      ],
      "metadata": {
        "colab": {
          "base_uri": "https://localhost:8080/"
        },
        "id": "HtV1sX--VYRM",
        "outputId": "8019a806-0bb6-40d9-bbee-044bd8b5419d"
      },
      "execution_count": null,
      "outputs": [
        {
          "output_type": "stream",
          "name": "stdout",
          "text": [
            " Olá, Jullyo \n",
            " você tem 24 anos.\n"
          ]
        }
      ]
    },
    {
      "cell_type": "code",
      "source": [
        "input('Digite o seu nome: ')"
      ],
      "metadata": {
        "colab": {
          "base_uri": "https://localhost:8080/",
          "height": 53
        },
        "id": "tyLmCbmDXJ_D",
        "outputId": "b1eee22b-11f4-422f-80ab-6e2c388191d6"
      },
      "execution_count": null,
      "outputs": [
        {
          "name": "stdout",
          "output_type": "stream",
          "text": [
            "Digite o seu nome: Jullyo\n"
          ]
        },
        {
          "output_type": "execute_result",
          "data": {
            "text/plain": [
              "'Jullyo'"
            ],
            "application/vnd.google.colaboratory.intrinsic+json": {
              "type": "string"
            }
          },
          "metadata": {},
          "execution_count": 41
        }
      ]
    },
    {
      "cell_type": "code",
      "source": [
        "nome = input('Digite o seu nome: ')"
      ],
      "metadata": {
        "colab": {
          "base_uri": "https://localhost:8080/"
        },
        "id": "scViV80aXgG7",
        "outputId": "086df26d-76eb-4dbb-effa-64763dcf5a81"
      },
      "execution_count": null,
      "outputs": [
        {
          "name": "stdout",
          "output_type": "stream",
          "text": [
            "Digite o seu nome: Jullyo\n"
          ]
        }
      ]
    },
    {
      "cell_type": "code",
      "source": [
        "idade = int(input('Digite a sua idade: '))"
      ],
      "metadata": {
        "colab": {
          "base_uri": "https://localhost:8080/"
        },
        "id": "lrBS8ialXomc",
        "outputId": "c2e38cbc-7326-4897-b86e-f57c4d999c0c"
      },
      "execution_count": null,
      "outputs": [
        {
          "name": "stdout",
          "output_type": "stream",
          "text": [
            "Digite a sua idade: 1\n"
          ]
        }
      ]
    },
    {
      "cell_type": "code",
      "source": [
        "valor1 = input('Digite um número inteiro: ')\n",
        "valor2 = input('Digite outro número inteiro: ')"
      ],
      "metadata": {
        "colab": {
          "base_uri": "https://localhost:8080/"
        },
        "id": "TTYlBEw-YLjB",
        "outputId": "c117920d-92fa-4c3c-9f5e-1374202b0866"
      },
      "execution_count": null,
      "outputs": [
        {
          "name": "stdout",
          "output_type": "stream",
          "text": [
            "Digite um número inteiro: 2\n",
            "Digite outro número inteiro: 4\n"
          ]
        }
      ]
    },
    {
      "cell_type": "markdown",
      "source": [
        "##Condicional"
      ],
      "metadata": {
        "id": "NWWbMhnkipLc"
      }
    },
    {
      "cell_type": "code",
      "source": [
        "print(valor1 == valor2)\n",
        "print(valor1 > valor2)\n",
        "print(valor1 < valor2)\n",
        "print(valor1 >= valor2)\n",
        "print(valor1 <= valor2)"
      ],
      "metadata": {
        "colab": {
          "base_uri": "https://localhost:8080/"
        },
        "id": "atTBHRz-aKTc",
        "outputId": "db4bfe65-d773-4c42-ed5f-522284091b35"
      },
      "execution_count": null,
      "outputs": [
        {
          "output_type": "stream",
          "name": "stdout",
          "text": [
            "False\n",
            "False\n",
            "True\n",
            "False\n",
            "True\n"
          ]
        }
      ]
    },
    {
      "cell_type": "code",
      "source": [
        "numero = 10\n",
        "print(numero > 0 and numero < 10)"
      ],
      "metadata": {
        "colab": {
          "base_uri": "https://localhost:8080/"
        },
        "id": "269ZzJvoagxQ",
        "outputId": "c66077cf-bdeb-47eb-c969-ee10ac880469"
      },
      "execution_count": null,
      "outputs": [
        {
          "output_type": "stream",
          "name": "stdout",
          "text": [
            "False\n"
          ]
        }
      ]
    },
    {
      "cell_type": "code",
      "source": [
        "print(numero > 0 or numero < 10)"
      ],
      "metadata": {
        "colab": {
          "base_uri": "https://localhost:8080/"
        },
        "id": "WOJH8ClBcfyj",
        "outputId": "6cb0a02e-18af-4467-a663-66ec3cdb825f"
      },
      "execution_count": null,
      "outputs": [
        {
          "output_type": "stream",
          "name": "stdout",
          "text": [
            "True\n"
          ]
        }
      ]
    },
    {
      "cell_type": "markdown",
      "source": [
        "###Desafio 1"
      ],
      "metadata": {
        "id": "WNLH7WS3d_BM"
      }
    },
    {
      "cell_type": "code",
      "source": [
        "numero = int(input('Selecione um número para verificar: '))\n",
        "\n",
        "if(numero % 2 == 0):\n",
        "  print('O seu número é par')\n",
        "else:\n",
        "  print('O seu número é impar')"
      ],
      "metadata": {
        "colab": {
          "base_uri": "https://localhost:8080/"
        },
        "id": "NL4xz0qxcnvL",
        "outputId": "c43e6e8d-f86c-4718-e2cb-14ab9dc9b64a"
      },
      "execution_count": null,
      "outputs": [
        {
          "output_type": "stream",
          "name": "stdout",
          "text": [
            "Selecione um número para verificar: 13\n",
            "O seu número é impar\n"
          ]
        }
      ]
    },
    {
      "cell_type": "code",
      "source": [
        "cupom = input('digite o cupom: ')"
      ],
      "metadata": {
        "colab": {
          "base_uri": "https://localhost:8080/"
        },
        "id": "cmBN5UZkhRPs",
        "outputId": "240c1461-2505-4b93-90c6-dbc34869e489"
      },
      "execution_count": null,
      "outputs": [
        {
          "name": "stdout",
          "output_type": "stream",
          "text": [
            "digite o cupom: aula1\n"
          ]
        }
      ]
    },
    {
      "cell_type": "code",
      "source": [
        "if (cupom == 'aula1' or cupom == 'aula2'):\n",
        "  print ('você ganhou 10% de desconto')\n",
        "else:\n",
        "  print('cupom inválido')"
      ],
      "metadata": {
        "colab": {
          "base_uri": "https://localhost:8080/"
        },
        "id": "G-BJFnPahWsM",
        "outputId": "d84767f6-66ee-42f6-a943-d3bb1cdbbd79"
      },
      "execution_count": null,
      "outputs": [
        {
          "output_type": "stream",
          "name": "stdout",
          "text": [
            "você ganhou 10% de desconto\n"
          ]
        }
      ]
    },
    {
      "cell_type": "markdown",
      "source": [
        "###Desafio 2"
      ],
      "metadata": {
        "id": "lT5HwZwFiv7U"
      }
    },
    {
      "cell_type": "code",
      "source": [
        "if (cupom == 'aula1' or cupom == 'aula2'):\n",
        "  print('Você ganhou 15% de desconto')\n",
        "else:\n",
        "  print('Você ganhou 5% de desconto')"
      ],
      "metadata": {
        "colab": {
          "base_uri": "https://localhost:8080/"
        },
        "id": "mbPV66NHiRds",
        "outputId": "a2946999-66e8-47fe-b601-35efe4d19f07"
      },
      "execution_count": null,
      "outputs": [
        {
          "output_type": "stream",
          "name": "stdout",
          "text": [
            "Você ganhou 15% de desconto\n"
          ]
        }
      ]
    },
    {
      "cell_type": "markdown",
      "source": [
        "###Desafio 3"
      ],
      "metadata": {
        "id": "PQITYo2SnHt3"
      }
    },
    {
      "cell_type": "code",
      "source": [
        "if(cupom == 'aula1'):\n",
        "  print('você ganhou 15% de desconto')\n",
        "elif(cupom == 'aula2'):\n",
        "  print('você ganhou 10% de desconto')\n",
        "else:\n",
        "  print('você ganhou 5% de desconto')"
      ],
      "metadata": {
        "colab": {
          "base_uri": "https://localhost:8080/"
        },
        "id": "rfB9i5HwmoUs",
        "outputId": "8b681ec4-4501-4b74-e502-7f12c71b6580"
      },
      "execution_count": null,
      "outputs": [
        {
          "output_type": "stream",
          "name": "stdout",
          "text": [
            "você ganhou 15% de desconto\n"
          ]
        }
      ]
    },
    {
      "cell_type": "code",
      "source": [
        "if ( 1==1):# mensagem no primeiro nível\n",
        "  print('Mensagem no segundo nível') #Segundo nível\n",
        "  if((1==2)==False):\n",
        "    print('Mensagem no terceiro nível') #Terceiro nível"
      ],
      "metadata": {
        "colab": {
          "base_uri": "https://localhost:8080/"
        },
        "id": "lZbQeAlNogrE",
        "outputId": "5a634d62-2373-4c3f-c4f4-30c5b0f50740"
      },
      "execution_count": null,
      "outputs": [
        {
          "output_type": "stream",
          "name": "stdout",
          "text": [
            "Mensagem no segundo nível\n",
            "Mensagem no terceiro nível\n"
          ]
        }
      ]
    },
    {
      "cell_type": "markdown",
      "source": [
        "###Desafio 4"
      ],
      "metadata": {
        "id": "awT_Wa0ErVv1"
      }
    },
    {
      "cell_type": "code",
      "source": [
        "sol = input('Está fazendo sol? s/n ')\n",
        "dinheiro = input('Tem dinheiro? s/n ')\n",
        "if(sol == 's' and dinheiro == 's'):\n",
        "  print('Praia')\n",
        "\n",
        "else:\n",
        "  print('Netflix!')"
      ],
      "metadata": {
        "colab": {
          "base_uri": "https://localhost:8080/"
        },
        "id": "VmtDa-5drYA9",
        "outputId": "00a5237b-df4f-48e5-d3b0-4fca403c81f4"
      },
      "execution_count": null,
      "outputs": [
        {
          "output_type": "stream",
          "name": "stdout",
          "text": [
            "Está fazendo sol? s/n s\n",
            "Tem dinheiro? s/n s\n",
            "Praia\n"
          ]
        }
      ]
    },
    {
      "cell_type": "markdown",
      "source": [
        "###Desafio 5"
      ],
      "metadata": {
        "id": "nzYbru9vy4pk"
      }
    },
    {
      "cell_type": "code",
      "source": [
        "sol = input('Está fazendo sol? s/n ')\n",
        "dinheiro = input('Tem dinheiro? s/n ')\n",
        "if(sol == 's' or dinheiro == 's'):\n",
        "  print('Praia')\n",
        "\n",
        "else:\n",
        "  print('Netflix!')"
      ],
      "metadata": {
        "colab": {
          "base_uri": "https://localhost:8080/"
        },
        "id": "c58uKvm5y7n0",
        "outputId": "f7f527a5-6552-41b2-843c-b5307a38871e"
      },
      "execution_count": null,
      "outputs": [
        {
          "output_type": "stream",
          "name": "stdout",
          "text": [
            "Está fazendo sol? s/n s\n",
            "Tem dinheiro? s/n s\n",
            "Praia\n"
          ]
        }
      ]
    },
    {
      "cell_type": "markdown",
      "source": [
        "###Desafio 6"
      ],
      "metadata": {
        "id": "nR1SvDGOztPk"
      }
    },
    {
      "cell_type": "code",
      "source": [
        "sol = input('Está fazendo sol? s/n ')\n",
        "dinheiro = input('Tem dinheiro? s/n ')\n",
        "if(sol == 's'):\n",
        "  if(dinheiro == 's'):\n",
        "    print('Praia')\n",
        "  else:\n",
        "    print('Netflix!')\n",
        "\n",
        "else:\n",
        "  print('Netflix!')"
      ],
      "metadata": {
        "colab": {
          "base_uri": "https://localhost:8080/"
        },
        "id": "AX-Gjpcqy8BE",
        "outputId": "03d3e1cd-818d-4fe7-bcda-25c1dedb1668"
      },
      "execution_count": null,
      "outputs": [
        {
          "output_type": "stream",
          "name": "stdout",
          "text": [
            "Está fazendo sol? s/n s\n",
            "Tem dinheiro? s/n n\n",
            "Netflix!\n"
          ]
        }
      ]
    },
    {
      "cell_type": "markdown",
      "source": [
        "###Desafio 7"
      ],
      "metadata": {
        "id": "7DwW_6r259hl"
      }
    },
    {
      "cell_type": "code",
      "source": [
        "ano = int(input('Digite o ano: '))\n",
        "preço = float(input('Digite o preço do carro: '))\n",
        "\n",
        "if (ano < 1990):\n",
        "  print('O imposto a ser pago é: ', 0.01 * preço)\n",
        "else:\n",
        "  print('O imposto a ser pago é: ', 0.015 * preço)  "
      ],
      "metadata": {
        "colab": {
          "base_uri": "https://localhost:8080/"
        },
        "id": "E7hvsb8o3lB9",
        "outputId": "e70c4116-0776-4089-b82c-991be22d5b79"
      },
      "execution_count": null,
      "outputs": [
        {
          "output_type": "stream",
          "name": "stdout",
          "text": [
            "Digite o ano: 1999\n",
            "Digite o preço do carro: 1000\n",
            "O imposto a ser pago é:  15.0\n"
          ]
        }
      ]
    },
    {
      "cell_type": "markdown",
      "source": [
        "Desafio 8"
      ],
      "metadata": {
        "id": "5OGTbFnh--UP"
      }
    },
    {
      "cell_type": "code",
      "source": [
        "cargo = input('Insira o seu cargo (g/e/t): ')\n",
        "salario = float(input('Insira o valor do seu salário: '))\n",
        "\n",
        "if(cargo == 'g'):\n",
        "  print('Seu salário anterior era R$', salario, 'e o seu salário atual é R$', salario * 1.1,'. Foi um aumento de R$', (salario*1.1)-salario,'!')\n",
        "elif(cargo == 'e'):\n",
        "  print('Seu salário anterior era R$', salario, 'e o seu salário atual é R$', salario * 1.2,'. Foi um aumento de R$', (salario*1.2)-salario,'!')\n",
        "elif(cargo == 't'):\n",
        "  print('Seu salário anterior era R$', salario, 'e o seu salário atual é R$', salario * 1.3,'. Foi um aumento de R$', (salario*1.3)-salario,'!')\n",
        "else:\n",
        "  print('Seu salário anterior era R$', salario, 'e o seu salário atual é R$', salario * 1.4,'. Foi um aumento de R$', (salario*1.4)-salario,'!')"
      ],
      "metadata": {
        "colab": {
          "base_uri": "https://localhost:8080/"
        },
        "id": "YnUHXxrc-9Tu",
        "outputId": "6305fb52-e6a0-42b0-8441-97ebfcf8a993"
      },
      "execution_count": null,
      "outputs": [
        {
          "output_type": "stream",
          "name": "stdout",
          "text": [
            "Insira o seu cargo (g/e/t): g\n",
            "Insira o valor do seu salário: 10000\n",
            "Seu salário anterior era R$ 10000.0 e o seu salário atual é R$ 11000.0 . Foi um aumento de R$ 1000.0 !\n"
          ]
        }
      ]
    }
  ]
}