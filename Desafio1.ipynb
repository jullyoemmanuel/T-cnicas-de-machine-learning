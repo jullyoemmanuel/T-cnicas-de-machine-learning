{
  "nbformat": 4,
  "nbformat_minor": 0,
  "metadata": {
    "colab": {
      "provenance": [],
      "collapsed_sections": [
        "d9NpVYhipM3g",
        "MKgiE1hp0kdp",
        "LnTxfZBLwidX",
        "H4FEQjOm4MFg"
      ],
      "authorship_tag": "ABX9TyPUvAlKIq60skdsl1LuFHTR",
      "include_colab_link": true
    },
    "kernelspec": {
      "name": "python3",
      "display_name": "Python 3"
    },
    "language_info": {
      "name": "python"
    }
  },
  "cells": [
    {
      "cell_type": "markdown",
      "metadata": {
        "id": "view-in-github",
        "colab_type": "text"
      },
      "source": [
        "<a href=\"https://colab.research.google.com/github/jullyoemmanuel/T-cnicas-de-machine-learning/blob/main/Desafio1.ipynb\" target=\"_parent\"><img src=\"https://colab.research.google.com/assets/colab-badge.svg\" alt=\"Open In Colab\"/></a>"
      ]
    },
    {
      "cell_type": "markdown",
      "source": [
        "#Desafio 1"
      ],
      "metadata": {
        "id": "VZrZRBocpINB"
      }
    },
    {
      "cell_type": "markdown",
      "source": [
        "##1)\n",
        "\n",
        "Utilize lista ou dicionário com 5 perguntas para uma pessoa sobre\n",
        "um crime. As perguntas são:\n",
        "\n",
        "* \"Telefonou para a vítima?\",\n",
        "* \"Esteve no local do crime?\"\n",
        "* \"Mora perto da vítima?\"\n",
        "* \"Devia para a vítima?\"\n",
        "* \"Já trabalhou com a vítima?\"\n",
        "\n",
        "O seu programa deve utilizar o índice da lista ou a chave do dicionário\n",
        "para direcionar a pergunta para o usuário.\n",
        "Ao final das perguntas, seu programa deve emitir uma classificação\n",
        "sobre a participação da pessoa no crime.\n",
        "Por exemplo: Se a pessoa responder positivamente a 2 questões ela\n",
        "deve ser classificada como \"Suspeito grau 1\", entre 3 e 4 como\n",
        "\"Suspeito grau 2\" e 5 como \"Suspeito grau 3: Principal suspeito\".\n",
        "Caso contrário, ele será classificado como \"Inocente\"."
      ],
      "metadata": {
        "id": "d9NpVYhipM3g"
      }
    },
    {
      "cell_type": "code",
      "execution_count": null,
      "metadata": {
        "colab": {
          "base_uri": "https://localhost:8080/"
        },
        "id": "lZ9D6cECpHdP",
        "outputId": "fd952dba-7005-467d-93eb-cd6c59f34bfa"
      },
      "outputs": [
        {
          "output_type": "stream",
          "name": "stdout",
          "text": [
            "Telefonou para a vítima? SIM\n",
            "Esteve no local do crime? sim\n",
            "Mora perto da vítima? nao\n",
            "Devia para a vítima? sim\n",
            "Já trabalhou com a vítima? SIM\n",
            "Você é suspeito.\n"
          ]
        }
      ],
      "source": [
        "grau = 0\n",
        "d= {\n",
        "    1:\"Telefonou para a vítima?\",\n",
        "    2:\"Esteve no local do crime?\",\n",
        "    3:\"Mora perto da vítima?\",\n",
        "    4:\"Devia para a vítima?\",\n",
        "    5:\"Já trabalhou com a vítima?\"\n",
        "}\n",
        "\n",
        "for i in range(1,6): \n",
        "  q = input(d[i] + ' ').lower()\n",
        "  if q == 'sim':\n",
        "    grau += 1\n",
        "if grau == 2:\n",
        "  print('Você é apenas um pouco suspeito.')\n",
        "\n",
        "elif grau == 3 or grau == 4:\n",
        "  print('Você é suspeito.')\n",
        "elif grau == 5:\n",
        "  print('Você é o principal suspeito.')\n",
        "else:\n",
        "  print('Nada suspeito aqui.')\n",
        "\n"
      ]
    },
    {
      "cell_type": "markdown",
      "source": [
        "##2)\n",
        "\n",
        "Utilize uma lista para resolver o problema a seguir. Uma empresa\n",
        "paga seus vendedores com base em comissões. O vendedor recebe\n",
        "\\$200 por semana mais 9% de suas vendas brutas daquela semana.\n",
        "Por exemplo, um vendedor que teve vendas brutas de \\$3000 em uma\n",
        "semana recebe \\$200 mais 9% de \\$3000, ou seja, um total de \\$470.\n",
        "Escreva um programa que determine quantos vendedores receberam\n",
        "salários nos seguintes intervalos de valores:\n",
        "\n",
        "* \\$200 - \\$299\n",
        "* \\$300 - \\$399\n",
        "* \\$400 - \\$499\n",
        "* \\$500 - \\$599\n",
        "* \\$600 - \\$699\n",
        "* \\$700 - \\$799\n",
        "* \\$800 - \\$899\n",
        "* \\$900 - \\$999\n",
        "* \\$1000 em diante\n"
      ],
      "metadata": {
        "id": "MKgiE1hp0kdp"
      }
    },
    {
      "cell_type": "code",
      "source": [
        "def verificaIntervalo():\n",
        "\n",
        "  lista = [0,0,0,0,0,0,0,0,0] # cada posição da lista representa a quantidade de pessoas com o salario definido entre os intervalos mostrados acima\n",
        "  intervalo = 200\n",
        "  \n",
        "  while True: # codigo executa até o usuário solicitar parada\n",
        "    \n",
        "    salario = float(input('Considerando $200 como salário mínimo, Informe o valor: ')) \n",
        "  \n",
        "    for i in range(0,9): \n",
        "    \n",
        "      if (salario >= intervalo) and salario < (intervalo + 99): # verifica intervalo do salario\n",
        "        lista[i] += 1 \n",
        "\n",
        "      intervalo += 100 # soma para dar continuidade a verificação de intervalo\n",
        "  \n",
        "    intervalo = 200 # reseta o valor do intervalo de verificaçao\n",
        "  \n",
        "    if salario > 1000:\n",
        "      lista[8] += 1 \n",
        "    elif salario < 200: \n",
        "      print('Valor inválido')\n",
        "\n",
        "    continuar = input('deseja continuar? (s ou n) ')\n",
        "    if continuar == 'n': # se for negativa, o loop termina\n",
        "      break\n",
        "  return lista\n",
        "\n",
        "\n",
        "lista = verificaIntervalo()\n",
        "\n",
        "intervalo = 200\n",
        "\n",
        "print('\\n|   Intervalo   | Quantidade |')\n",
        "\n",
        "for i in range(8): \n",
        "  print('|$', intervalo,' - $',  intervalo +100, '|    ', lista[i], '    |')\n",
        "  intervalo += 100\n",
        "print('|$', intervalo,' - $', 'em diante|    ', lista[8], '    |')"
      ],
      "metadata": {
        "colab": {
          "base_uri": "https://localhost:8080/"
        },
        "outputId": "9f944721-055d-47da-e7ab-2268ba4e566b",
        "id": "JjNtkcYcKhxX"
      },
      "execution_count": null,
      "outputs": [
        {
          "output_type": "stream",
          "name": "stdout",
          "text": [
            "Considerando $200 como salário mínimo, Informe o valor: 10\n",
            "Valor inválido\n",
            "deseja continuar? (s ou n) s\n",
            "Considerando $200 como salário mínimo, Informe o valor: 200\n",
            "deseja continuar? (s ou n) s\n",
            "Considerando $200 como salário mínimo, Informe o valor: 500\n",
            "deseja continuar? (s ou n) s\n",
            "Considerando $200 como salário mínimo, Informe o valor: 1500\n",
            "deseja continuar? (s ou n) n\n",
            "\n",
            "|   Intervalo   | Quantidade |\n",
            "|$ 200  - $ 300 |     1     |\n",
            "|$ 300  - $ 400 |     0     |\n",
            "|$ 400  - $ 500 |     0     |\n",
            "|$ 500  - $ 600 |     1     |\n",
            "|$ 600  - $ 700 |     0     |\n",
            "|$ 700  - $ 800 |     0     |\n",
            "|$ 800  - $ 900 |     0     |\n",
            "|$ 900  - $ 1000 |     0     |\n",
            "|$ 1000  - $ em diante|     1     |\n"
          ]
        }
      ]
    },
    {
      "cell_type": "markdown",
      "source": [
        "##3) \n",
        "\n",
        "Faça um Programa que leia um vetor de 10 números reais e\n",
        "mostre-os na ordem inversa."
      ],
      "metadata": {
        "id": "LnTxfZBLwidX"
      }
    },
    {
      "cell_type": "code",
      "source": [
        "def inverteVetor(vet):\n",
        "  new_vet = []\n",
        "  for i in range(len(vet)):\n",
        "    new_vet.append(vet[-(i+1)])\n",
        "  return new_vet\n",
        "\n",
        "vet = [1,2,3,4,5,6,7,8,9,10]\n",
        "\n",
        "new_vet = inverteVetor(vet)\n",
        "\n",
        "print(new_vet)"
      ],
      "metadata": {
        "id": "eSs988AXOlvF",
        "colab": {
          "base_uri": "https://localhost:8080/"
        },
        "outputId": "1fe5bbb2-4a6e-48bd-eb69-4000dc9f9a3c"
      },
      "execution_count": null,
      "outputs": [
        {
          "output_type": "stream",
          "name": "stdout",
          "text": [
            "[10, 9, 8, 7, 6, 5, 4, 3, 2, 1]\n"
          ]
        }
      ]
    },
    {
      "cell_type": "markdown",
      "source": [
        "##4)\n",
        "\n",
        "Faça um Programa que peça as quatro notas de 10 alunos, calcule\n",
        "e armazene num vetor a média de cada aluno, imprima o número de\n",
        "alunos com média maior ou igual a 7.0."
      ],
      "metadata": {
        "id": "H4FEQjOm4MFg"
      }
    },
    {
      "cell_type": "code",
      "source": [
        "def calculaMedia(unidades):\n",
        "  notas = []\n",
        "  soma = 0\n",
        "  for x in range(unidades):\n",
        "    notas.append(float(input('Informe o valor da nota da %dª unidade: ' % (x + 1)))) \n",
        "\n",
        "  for y in notas:\n",
        "    soma += y\n",
        "    media = soma/unidades\n",
        "  return media\n",
        "\n",
        "unidades = 4\n",
        "mediasAlunos = []\n",
        "alunos = 10\n",
        "\n",
        "for z in range(alunos):\n",
        "  print('Aluno', z+1)\n",
        "  mediasAlunos.append(calculaMedia(unidades))\n",
        "\n",
        "n = 0\n",
        "\n",
        "for i in mediasAlunos:\n",
        "  if i >= 7:\n",
        "    n += 1\n",
        "print( n , 'alunos com média maior que 7.')\n",
        "\n",
        "\n"
      ],
      "metadata": {
        "id": "P2kGMH7l5lcv",
        "colab": {
          "base_uri": "https://localhost:8080/"
        },
        "outputId": "f5d1df24-facf-402d-808f-f919860a71f5"
      },
      "execution_count": 10,
      "outputs": [
        {
          "output_type": "stream",
          "name": "stdout",
          "text": [
            "Aluno 1\n",
            "Informe o valor da nota da 1ª unidade: 10\n",
            "Informe o valor da nota da 2ª unidade: 8\n",
            "Informe o valor da nota da 3ª unidade: 7\n",
            "Informe o valor da nota da 4ª unidade: 5\n",
            "Aluno 2\n",
            "Informe o valor da nota da 1ª unidade: 10\n",
            "Informe o valor da nota da 2ª unidade: 6\n",
            "Informe o valor da nota da 3ª unidade: 5\n",
            "Informe o valor da nota da 4ª unidade: 7\n",
            "Aluno 3\n",
            "Informe o valor da nota da 1ª unidade: 10\n",
            "Informe o valor da nota da 2ª unidade: 5\n",
            "Informe o valor da nota da 3ª unidade: 3\n",
            "Informe o valor da nota da 4ª unidade: 4\n",
            "Aluno 4\n",
            "Informe o valor da nota da 1ª unidade: 8\n",
            "Informe o valor da nota da 2ª unidade: 9\n",
            "Informe o valor da nota da 3ª unidade: 5\n",
            "Informe o valor da nota da 4ª unidade: 2\n",
            "Aluno 5\n",
            "Informe o valor da nota da 1ª unidade: 5\n",
            "Informe o valor da nota da 2ª unidade: 2\n",
            "Informe o valor da nota da 3ª unidade: 3\n",
            "Informe o valor da nota da 4ª unidade: 9\n",
            "Aluno 6\n",
            "Informe o valor da nota da 1ª unidade: 5\n",
            "Informe o valor da nota da 2ª unidade: 1\n",
            "Informe o valor da nota da 3ª unidade: 2\n",
            "Informe o valor da nota da 4ª unidade: 8\n",
            "Aluno 7\n",
            "Informe o valor da nota da 1ª unidade: 5\n",
            "Informe o valor da nota da 2ª unidade: 7\n",
            "Informe o valor da nota da 3ª unidade: 10\n",
            "Informe o valor da nota da 4ª unidade: 10\n",
            "Aluno 8\n",
            "Informe o valor da nota da 1ª unidade: 8\n",
            "Informe o valor da nota da 2ª unidade: 8\n",
            "Informe o valor da nota da 3ª unidade: 8\n",
            "Informe o valor da nota da 4ª unidade: 8\n",
            "Aluno 9\n",
            "Informe o valor da nota da 1ª unidade: 9\n",
            "Informe o valor da nota da 2ª unidade: 1\n",
            "Informe o valor da nota da 3ª unidade: 10\n",
            "Informe o valor da nota da 4ª unidade: 5\n",
            "Aluno 10\n",
            "Informe o valor da nota da 1ª unidade: 10\n",
            "Informe o valor da nota da 2ª unidade: 10\n",
            "Informe o valor da nota da 3ª unidade: 10\n",
            "Informe o valor da nota da 4ª unidade: 10\n",
            "5 alunos com média maior que 7.\n"
          ]
        }
      ]
    }
  ]
}